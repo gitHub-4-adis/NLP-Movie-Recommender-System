{
 "cells": [
  {
   "cell_type": "markdown",
   "id": "fd806f4a",
   "metadata": {},
   "source": [
    "# Movie Recommender System using content based method and NLP"
   ]
  },
  {
   "cell_type": "code",
   "execution_count": 1,
   "id": "b802349a",
   "metadata": {},
   "outputs": [],
   "source": [
    "# ignore unnecessary warnings by libraries\n",
    "import warnings\n",
    "warnings.filterwarnings('ignore')"
   ]
  },
  {
   "cell_type": "code",
   "execution_count": 2,
   "id": "92f8e820",
   "metadata": {},
   "outputs": [],
   "source": [
    "import numpy as np\n",
    "import pandas as pd"
   ]
  },
  {
   "cell_type": "markdown",
   "id": "f597d954",
   "metadata": {},
   "source": [
    "# "
   ]
  },
  {
   "cell_type": "markdown",
   "id": "e25690a0",
   "metadata": {},
   "source": [
    "# DataFrame Format :-\n",
    "{'Movie_Title': [list_of_movies], 'Genres': [list_of_genres], 'Director': 'director_name', 'Cast': [top_3_cast], 'tagline': 'tagline_description'}"
   ]
  },
  {
   "cell_type": "markdown",
   "id": "004f0cc6",
   "metadata": {},
   "source": [
    "# Preprocessing tmdb dataframe"
   ]
  },
  {
   "cell_type": "code",
   "execution_count": 3,
   "id": "697e971c",
   "metadata": {},
   "outputs": [],
   "source": [
    "tmdbMovies_df = pd.read_csv('current_datasets/tmdb_5000_movies.csv')\n",
    "tmdbCredits_df = pd.read_csv('current_datasets/tmdb_5000_credits.csv')"
   ]
  },
  {
   "cell_type": "code",
   "execution_count": 4,
   "id": "8109675b",
   "metadata": {},
   "outputs": [
    {
     "data": {
      "text/html": [
       "<div>\n",
       "<style scoped>\n",
       "    .dataframe tbody tr th:only-of-type {\n",
       "        vertical-align: middle;\n",
       "    }\n",
       "\n",
       "    .dataframe tbody tr th {\n",
       "        vertical-align: top;\n",
       "    }\n",
       "\n",
       "    .dataframe thead th {\n",
       "        text-align: right;\n",
       "    }\n",
       "</style>\n",
       "<table border=\"1\" class=\"dataframe\">\n",
       "  <thead>\n",
       "    <tr style=\"text-align: right;\">\n",
       "      <th></th>\n",
       "      <th>budget</th>\n",
       "      <th>genres</th>\n",
       "      <th>homepage</th>\n",
       "      <th>id</th>\n",
       "      <th>keywords</th>\n",
       "      <th>original_language</th>\n",
       "      <th>original_title</th>\n",
       "      <th>overview</th>\n",
       "      <th>popularity</th>\n",
       "      <th>production_companies</th>\n",
       "      <th>production_countries</th>\n",
       "      <th>release_date</th>\n",
       "      <th>revenue</th>\n",
       "      <th>runtime</th>\n",
       "      <th>spoken_languages</th>\n",
       "      <th>status</th>\n",
       "      <th>tagline</th>\n",
       "      <th>title</th>\n",
       "      <th>vote_average</th>\n",
       "      <th>vote_count</th>\n",
       "    </tr>\n",
       "  </thead>\n",
       "  <tbody>\n",
       "    <tr>\n",
       "      <th>0</th>\n",
       "      <td>237000000</td>\n",
       "      <td>[{\"id\": 28, \"name\": \"Action\"}, {\"id\": 12, \"nam...</td>\n",
       "      <td>http://www.avatarmovie.com/</td>\n",
       "      <td>19995</td>\n",
       "      <td>[{\"id\": 1463, \"name\": \"culture clash\"}, {\"id\":...</td>\n",
       "      <td>en</td>\n",
       "      <td>Avatar</td>\n",
       "      <td>In the 22nd century, a paraplegic Marine is di...</td>\n",
       "      <td>150.437577</td>\n",
       "      <td>[{\"name\": \"Ingenious Film Partners\", \"id\": 289...</td>\n",
       "      <td>[{\"iso_3166_1\": \"US\", \"name\": \"United States o...</td>\n",
       "      <td>2009-12-10</td>\n",
       "      <td>2787965087</td>\n",
       "      <td>162.0</td>\n",
       "      <td>[{\"iso_639_1\": \"en\", \"name\": \"English\"}, {\"iso...</td>\n",
       "      <td>Released</td>\n",
       "      <td>Enter the World of Pandora.</td>\n",
       "      <td>Avatar</td>\n",
       "      <td>7.2</td>\n",
       "      <td>11800</td>\n",
       "    </tr>\n",
       "  </tbody>\n",
       "</table>\n",
       "</div>"
      ],
      "text/plain": [
       "      budget                                             genres  \\\n",
       "0  237000000  [{\"id\": 28, \"name\": \"Action\"}, {\"id\": 12, \"nam...   \n",
       "\n",
       "                      homepage     id  \\\n",
       "0  http://www.avatarmovie.com/  19995   \n",
       "\n",
       "                                            keywords original_language  \\\n",
       "0  [{\"id\": 1463, \"name\": \"culture clash\"}, {\"id\":...                en   \n",
       "\n",
       "  original_title                                           overview  \\\n",
       "0         Avatar  In the 22nd century, a paraplegic Marine is di...   \n",
       "\n",
       "   popularity                               production_companies  \\\n",
       "0  150.437577  [{\"name\": \"Ingenious Film Partners\", \"id\": 289...   \n",
       "\n",
       "                                production_countries release_date     revenue  \\\n",
       "0  [{\"iso_3166_1\": \"US\", \"name\": \"United States o...   2009-12-10  2787965087   \n",
       "\n",
       "   runtime                                   spoken_languages    status  \\\n",
       "0    162.0  [{\"iso_639_1\": \"en\", \"name\": \"English\"}, {\"iso...  Released   \n",
       "\n",
       "                       tagline   title  vote_average  vote_count  \n",
       "0  Enter the World of Pandora.  Avatar           7.2       11800  "
      ]
     },
     "execution_count": 4,
     "metadata": {},
     "output_type": "execute_result"
    }
   ],
   "source": [
    "tmdbMovies_df.head(1)"
   ]
  },
  {
   "cell_type": "code",
   "execution_count": 5,
   "id": "6f5e07be",
   "metadata": {},
   "outputs": [
    {
     "data": {
      "text/html": [
       "<div>\n",
       "<style scoped>\n",
       "    .dataframe tbody tr th:only-of-type {\n",
       "        vertical-align: middle;\n",
       "    }\n",
       "\n",
       "    .dataframe tbody tr th {\n",
       "        vertical-align: top;\n",
       "    }\n",
       "\n",
       "    .dataframe thead th {\n",
       "        text-align: right;\n",
       "    }\n",
       "</style>\n",
       "<table border=\"1\" class=\"dataframe\">\n",
       "  <thead>\n",
       "    <tr style=\"text-align: right;\">\n",
       "      <th></th>\n",
       "      <th>movie_id</th>\n",
       "      <th>title</th>\n",
       "      <th>cast</th>\n",
       "      <th>crew</th>\n",
       "    </tr>\n",
       "  </thead>\n",
       "  <tbody>\n",
       "    <tr>\n",
       "      <th>0</th>\n",
       "      <td>19995</td>\n",
       "      <td>Avatar</td>\n",
       "      <td>[{\"cast_id\": 242, \"character\": \"Jake Sully\", \"...</td>\n",
       "      <td>[{\"credit_id\": \"52fe48009251416c750aca23\", \"de...</td>\n",
       "    </tr>\n",
       "  </tbody>\n",
       "</table>\n",
       "</div>"
      ],
      "text/plain": [
       "   movie_id   title                                               cast  \\\n",
       "0     19995  Avatar  [{\"cast_id\": 242, \"character\": \"Jake Sully\", \"...   \n",
       "\n",
       "                                                crew  \n",
       "0  [{\"credit_id\": \"52fe48009251416c750aca23\", \"de...  "
      ]
     },
     "execution_count": 5,
     "metadata": {},
     "output_type": "execute_result"
    }
   ],
   "source": [
    "tmdbCredits_df.head(1)"
   ]
  },
  {
   "cell_type": "code",
   "execution_count": 6,
   "id": "4e6a938e",
   "metadata": {},
   "outputs": [],
   "source": [
    "# the director in tmdbCredits_crew is given at crew column\n",
    "# tmdbCredits_df['crew'][0]"
   ]
  },
  {
   "cell_type": "code",
   "execution_count": 7,
   "id": "ca492e20",
   "metadata": {},
   "outputs": [],
   "source": [
    "final_df1 = tmdbMovies_df.merge(tmdbCredits_df, on='title')"
   ]
  },
  {
   "cell_type": "code",
   "execution_count": 8,
   "id": "7db3c089",
   "metadata": {},
   "outputs": [],
   "source": [
    "# we need title, genres, director, cast, tagline\n",
    "\n",
    "final_df1 = final_df1[['title', 'genres', 'overview', 'tagline', 'keywords', 'cast', 'crew']]"
   ]
  },
  {
   "cell_type": "code",
   "execution_count": 9,
   "id": "ee366094",
   "metadata": {},
   "outputs": [
    {
     "data": {
      "text/plain": [
       "title         0\n",
       "genres        0\n",
       "overview      3\n",
       "tagline     844\n",
       "keywords      0\n",
       "cast          0\n",
       "crew          0\n",
       "dtype: int64"
      ]
     },
     "execution_count": 9,
     "metadata": {},
     "output_type": "execute_result"
    }
   ],
   "source": [
    "#now check if there is any sort of missing data\n",
    "\n",
    "final_df1.isnull().sum()"
   ]
  },
  {
   "cell_type": "code",
   "execution_count": 10,
   "id": "a70475d2",
   "metadata": {},
   "outputs": [],
   "source": [
    "final_df1=final_df1[final_df1['overview'].notna()]"
   ]
  },
  {
   "cell_type": "code",
   "execution_count": 11,
   "id": "3c0fc980",
   "metadata": {},
   "outputs": [
    {
     "data": {
      "text/plain": [
       "title         0\n",
       "genres        0\n",
       "overview      0\n",
       "tagline     841\n",
       "keywords      0\n",
       "cast          0\n",
       "crew          0\n",
       "dtype: int64"
      ]
     },
     "execution_count": 11,
     "metadata": {},
     "output_type": "execute_result"
    }
   ],
   "source": [
    "final_df1.isnull().sum()"
   ]
  },
  {
   "cell_type": "code",
   "execution_count": 12,
   "id": "51273ebf",
   "metadata": {},
   "outputs": [],
   "source": [
    "# fill all nan values in 'tagline' with empty string \"\"\n",
    "\n",
    "final_df1 = final_df1.replace(np.nan, '', regex=True)"
   ]
  },
  {
   "cell_type": "code",
   "execution_count": 13,
   "id": "70167db0",
   "metadata": {},
   "outputs": [
    {
     "data": {
      "text/plain": [
       "title       0\n",
       "genres      0\n",
       "overview    0\n",
       "tagline     0\n",
       "keywords    0\n",
       "cast        0\n",
       "crew        0\n",
       "dtype: int64"
      ]
     },
     "execution_count": 13,
     "metadata": {},
     "output_type": "execute_result"
    }
   ],
   "source": [
    "final_df1.isnull().sum()"
   ]
  },
  {
   "cell_type": "code",
   "execution_count": 14,
   "id": "e326cb44",
   "metadata": {},
   "outputs": [
    {
     "data": {
      "text/html": [
       "<div>\n",
       "<style scoped>\n",
       "    .dataframe tbody tr th:only-of-type {\n",
       "        vertical-align: middle;\n",
       "    }\n",
       "\n",
       "    .dataframe tbody tr th {\n",
       "        vertical-align: top;\n",
       "    }\n",
       "\n",
       "    .dataframe thead th {\n",
       "        text-align: right;\n",
       "    }\n",
       "</style>\n",
       "<table border=\"1\" class=\"dataframe\">\n",
       "  <thead>\n",
       "    <tr style=\"text-align: right;\">\n",
       "      <th></th>\n",
       "      <th>title</th>\n",
       "      <th>genres</th>\n",
       "      <th>overview</th>\n",
       "      <th>tagline</th>\n",
       "      <th>keywords</th>\n",
       "      <th>cast</th>\n",
       "      <th>crew</th>\n",
       "    </tr>\n",
       "  </thead>\n",
       "  <tbody>\n",
       "    <tr>\n",
       "      <th>0</th>\n",
       "      <td>Avatar</td>\n",
       "      <td>[{\"id\": 28, \"name\": \"Action\"}, {\"id\": 12, \"nam...</td>\n",
       "      <td>In the 22nd century, a paraplegic Marine is di...</td>\n",
       "      <td>Enter the World of Pandora.</td>\n",
       "      <td>[{\"id\": 1463, \"name\": \"culture clash\"}, {\"id\":...</td>\n",
       "      <td>[{\"cast_id\": 242, \"character\": \"Jake Sully\", \"...</td>\n",
       "      <td>[{\"credit_id\": \"52fe48009251416c750aca23\", \"de...</td>\n",
       "    </tr>\n",
       "  </tbody>\n",
       "</table>\n",
       "</div>"
      ],
      "text/plain": [
       "    title                                             genres  \\\n",
       "0  Avatar  [{\"id\": 28, \"name\": \"Action\"}, {\"id\": 12, \"nam...   \n",
       "\n",
       "                                            overview  \\\n",
       "0  In the 22nd century, a paraplegic Marine is di...   \n",
       "\n",
       "                       tagline  \\\n",
       "0  Enter the World of Pandora.   \n",
       "\n",
       "                                            keywords  \\\n",
       "0  [{\"id\": 1463, \"name\": \"culture clash\"}, {\"id\":...   \n",
       "\n",
       "                                                cast  \\\n",
       "0  [{\"cast_id\": 242, \"character\": \"Jake Sully\", \"...   \n",
       "\n",
       "                                                crew  \n",
       "0  [{\"credit_id\": \"52fe48009251416c750aca23\", \"de...  "
      ]
     },
     "execution_count": 14,
     "metadata": {},
     "output_type": "execute_result"
    }
   ],
   "source": [
    "final_df1.head(1)"
   ]
  },
  {
   "cell_type": "markdown",
   "id": "2204a8fd",
   "metadata": {},
   "source": [
    "# "
   ]
  },
  {
   "cell_type": "markdown",
   "id": "e5804459",
   "metadata": {},
   "source": [
    "# Preprocessing the-movies-dataframe"
   ]
  },
  {
   "cell_type": "code",
   "execution_count": 15,
   "id": "00b7702e",
   "metadata": {},
   "outputs": [],
   "source": [
    "movies_df = pd.read_csv('current_datasets/movies_metadata.csv', low_memory=False)\n",
    "credits_df = pd.read_csv('current_datasets/credits.csv', low_memory=False)"
   ]
  },
  {
   "cell_type": "code",
   "execution_count": 16,
   "id": "dd2bac1c",
   "metadata": {},
   "outputs": [
    {
     "data": {
      "text/html": [
       "<div>\n",
       "<style scoped>\n",
       "    .dataframe tbody tr th:only-of-type {\n",
       "        vertical-align: middle;\n",
       "    }\n",
       "\n",
       "    .dataframe tbody tr th {\n",
       "        vertical-align: top;\n",
       "    }\n",
       "\n",
       "    .dataframe thead th {\n",
       "        text-align: right;\n",
       "    }\n",
       "</style>\n",
       "<table border=\"1\" class=\"dataframe\">\n",
       "  <thead>\n",
       "    <tr style=\"text-align: right;\">\n",
       "      <th></th>\n",
       "      <th>cast</th>\n",
       "      <th>crew</th>\n",
       "      <th>id</th>\n",
       "    </tr>\n",
       "  </thead>\n",
       "  <tbody>\n",
       "    <tr>\n",
       "      <th>0</th>\n",
       "      <td>[{'cast_id': 14, 'character': 'Woody (voice)',...</td>\n",
       "      <td>[{'credit_id': '52fe4284c3a36847f8024f49', 'de...</td>\n",
       "      <td>862</td>\n",
       "    </tr>\n",
       "  </tbody>\n",
       "</table>\n",
       "</div>"
      ],
      "text/plain": [
       "                                                cast  \\\n",
       "0  [{'cast_id': 14, 'character': 'Woody (voice)',...   \n",
       "\n",
       "                                                crew   id  \n",
       "0  [{'credit_id': '52fe4284c3a36847f8024f49', 'de...  862  "
      ]
     },
     "execution_count": 16,
     "metadata": {},
     "output_type": "execute_result"
    }
   ],
   "source": [
    "credits_df.head(1)"
   ]
  },
  {
   "cell_type": "code",
   "execution_count": 17,
   "id": "5ea01c08",
   "metadata": {},
   "outputs": [
    {
     "data": {
      "text/html": [
       "<div>\n",
       "<style scoped>\n",
       "    .dataframe tbody tr th:only-of-type {\n",
       "        vertical-align: middle;\n",
       "    }\n",
       "\n",
       "    .dataframe tbody tr th {\n",
       "        vertical-align: top;\n",
       "    }\n",
       "\n",
       "    .dataframe thead th {\n",
       "        text-align: right;\n",
       "    }\n",
       "</style>\n",
       "<table border=\"1\" class=\"dataframe\">\n",
       "  <thead>\n",
       "    <tr style=\"text-align: right;\">\n",
       "      <th></th>\n",
       "      <th>adult</th>\n",
       "      <th>belongs_to_collection</th>\n",
       "      <th>budget</th>\n",
       "      <th>genres</th>\n",
       "      <th>homepage</th>\n",
       "      <th>id</th>\n",
       "      <th>imdb_id</th>\n",
       "      <th>original_language</th>\n",
       "      <th>original_title</th>\n",
       "      <th>overview</th>\n",
       "      <th>...</th>\n",
       "      <th>release_date</th>\n",
       "      <th>revenue</th>\n",
       "      <th>runtime</th>\n",
       "      <th>spoken_languages</th>\n",
       "      <th>status</th>\n",
       "      <th>tagline</th>\n",
       "      <th>title</th>\n",
       "      <th>video</th>\n",
       "      <th>vote_average</th>\n",
       "      <th>vote_count</th>\n",
       "    </tr>\n",
       "  </thead>\n",
       "  <tbody>\n",
       "    <tr>\n",
       "      <th>0</th>\n",
       "      <td>False</td>\n",
       "      <td>{'id': 10194, 'name': 'Toy Story Collection', ...</td>\n",
       "      <td>30000000</td>\n",
       "      <td>[{'id': 16, 'name': 'Animation'}, {'id': 35, '...</td>\n",
       "      <td>http://toystory.disney.com/toy-story</td>\n",
       "      <td>862</td>\n",
       "      <td>tt0114709</td>\n",
       "      <td>en</td>\n",
       "      <td>Toy Story</td>\n",
       "      <td>Led by Woody, Andy's toys live happily in his ...</td>\n",
       "      <td>...</td>\n",
       "      <td>1995-10-30</td>\n",
       "      <td>373554033.0</td>\n",
       "      <td>81.0</td>\n",
       "      <td>[{'iso_639_1': 'en', 'name': 'English'}]</td>\n",
       "      <td>Released</td>\n",
       "      <td>NaN</td>\n",
       "      <td>Toy Story</td>\n",
       "      <td>False</td>\n",
       "      <td>7.7</td>\n",
       "      <td>5415.0</td>\n",
       "    </tr>\n",
       "  </tbody>\n",
       "</table>\n",
       "<p>1 rows × 24 columns</p>\n",
       "</div>"
      ],
      "text/plain": [
       "   adult                              belongs_to_collection    budget  \\\n",
       "0  False  {'id': 10194, 'name': 'Toy Story Collection', ...  30000000   \n",
       "\n",
       "                                              genres  \\\n",
       "0  [{'id': 16, 'name': 'Animation'}, {'id': 35, '...   \n",
       "\n",
       "                               homepage   id    imdb_id original_language  \\\n",
       "0  http://toystory.disney.com/toy-story  862  tt0114709                en   \n",
       "\n",
       "  original_title                                           overview  ...  \\\n",
       "0      Toy Story  Led by Woody, Andy's toys live happily in his ...  ...   \n",
       "\n",
       "  release_date      revenue runtime                          spoken_languages  \\\n",
       "0   1995-10-30  373554033.0    81.0  [{'iso_639_1': 'en', 'name': 'English'}]   \n",
       "\n",
       "     status  tagline      title  video vote_average vote_count  \n",
       "0  Released      NaN  Toy Story  False          7.7     5415.0  \n",
       "\n",
       "[1 rows x 24 columns]"
      ]
     },
     "execution_count": 17,
     "metadata": {},
     "output_type": "execute_result"
    }
   ],
   "source": [
    "movies_df.head(1)"
   ]
  },
  {
   "cell_type": "code",
   "execution_count": 18,
   "id": "d96dede4",
   "metadata": {},
   "outputs": [],
   "source": [
    "final_df2 = pd.concat([movies_df, credits_df], axis=1)"
   ]
  },
  {
   "cell_type": "code",
   "execution_count": 19,
   "id": "ea0f026a",
   "metadata": {},
   "outputs": [
    {
     "data": {
      "text/html": [
       "<div>\n",
       "<style scoped>\n",
       "    .dataframe tbody tr th:only-of-type {\n",
       "        vertical-align: middle;\n",
       "    }\n",
       "\n",
       "    .dataframe tbody tr th {\n",
       "        vertical-align: top;\n",
       "    }\n",
       "\n",
       "    .dataframe thead th {\n",
       "        text-align: right;\n",
       "    }\n",
       "</style>\n",
       "<table border=\"1\" class=\"dataframe\">\n",
       "  <thead>\n",
       "    <tr style=\"text-align: right;\">\n",
       "      <th></th>\n",
       "      <th>adult</th>\n",
       "      <th>belongs_to_collection</th>\n",
       "      <th>budget</th>\n",
       "      <th>genres</th>\n",
       "      <th>homepage</th>\n",
       "      <th>id</th>\n",
       "      <th>imdb_id</th>\n",
       "      <th>original_language</th>\n",
       "      <th>original_title</th>\n",
       "      <th>overview</th>\n",
       "      <th>...</th>\n",
       "      <th>spoken_languages</th>\n",
       "      <th>status</th>\n",
       "      <th>tagline</th>\n",
       "      <th>title</th>\n",
       "      <th>video</th>\n",
       "      <th>vote_average</th>\n",
       "      <th>vote_count</th>\n",
       "      <th>cast</th>\n",
       "      <th>crew</th>\n",
       "      <th>id</th>\n",
       "    </tr>\n",
       "  </thead>\n",
       "  <tbody>\n",
       "    <tr>\n",
       "      <th>0</th>\n",
       "      <td>False</td>\n",
       "      <td>{'id': 10194, 'name': 'Toy Story Collection', ...</td>\n",
       "      <td>30000000</td>\n",
       "      <td>[{'id': 16, 'name': 'Animation'}, {'id': 35, '...</td>\n",
       "      <td>http://toystory.disney.com/toy-story</td>\n",
       "      <td>862</td>\n",
       "      <td>tt0114709</td>\n",
       "      <td>en</td>\n",
       "      <td>Toy Story</td>\n",
       "      <td>Led by Woody, Andy's toys live happily in his ...</td>\n",
       "      <td>...</td>\n",
       "      <td>[{'iso_639_1': 'en', 'name': 'English'}]</td>\n",
       "      <td>Released</td>\n",
       "      <td>NaN</td>\n",
       "      <td>Toy Story</td>\n",
       "      <td>False</td>\n",
       "      <td>7.7</td>\n",
       "      <td>5415.0</td>\n",
       "      <td>[{'cast_id': 14, 'character': 'Woody (voice)',...</td>\n",
       "      <td>[{'credit_id': '52fe4284c3a36847f8024f49', 'de...</td>\n",
       "      <td>862</td>\n",
       "    </tr>\n",
       "    <tr>\n",
       "      <th>1</th>\n",
       "      <td>False</td>\n",
       "      <td>NaN</td>\n",
       "      <td>65000000</td>\n",
       "      <td>[{'id': 12, 'name': 'Adventure'}, {'id': 14, '...</td>\n",
       "      <td>NaN</td>\n",
       "      <td>8844</td>\n",
       "      <td>tt0113497</td>\n",
       "      <td>en</td>\n",
       "      <td>Jumanji</td>\n",
       "      <td>When siblings Judy and Peter discover an encha...</td>\n",
       "      <td>...</td>\n",
       "      <td>[{'iso_639_1': 'en', 'name': 'English'}, {'iso...</td>\n",
       "      <td>Released</td>\n",
       "      <td>Roll the dice and unleash the excitement!</td>\n",
       "      <td>Jumanji</td>\n",
       "      <td>False</td>\n",
       "      <td>6.9</td>\n",
       "      <td>2413.0</td>\n",
       "      <td>[{'cast_id': 1, 'character': 'Alan Parrish', '...</td>\n",
       "      <td>[{'credit_id': '52fe44bfc3a36847f80a7cd1', 'de...</td>\n",
       "      <td>8844</td>\n",
       "    </tr>\n",
       "    <tr>\n",
       "      <th>2</th>\n",
       "      <td>False</td>\n",
       "      <td>{'id': 119050, 'name': 'Grumpy Old Men Collect...</td>\n",
       "      <td>0</td>\n",
       "      <td>[{'id': 10749, 'name': 'Romance'}, {'id': 35, ...</td>\n",
       "      <td>NaN</td>\n",
       "      <td>15602</td>\n",
       "      <td>tt0113228</td>\n",
       "      <td>en</td>\n",
       "      <td>Grumpier Old Men</td>\n",
       "      <td>A family wedding reignites the ancient feud be...</td>\n",
       "      <td>...</td>\n",
       "      <td>[{'iso_639_1': 'en', 'name': 'English'}]</td>\n",
       "      <td>Released</td>\n",
       "      <td>Still Yelling. Still Fighting. Still Ready for...</td>\n",
       "      <td>Grumpier Old Men</td>\n",
       "      <td>False</td>\n",
       "      <td>6.5</td>\n",
       "      <td>92.0</td>\n",
       "      <td>[{'cast_id': 2, 'character': 'Max Goldman', 'c...</td>\n",
       "      <td>[{'credit_id': '52fe466a9251416c75077a89', 'de...</td>\n",
       "      <td>15602</td>\n",
       "    </tr>\n",
       "    <tr>\n",
       "      <th>3</th>\n",
       "      <td>False</td>\n",
       "      <td>NaN</td>\n",
       "      <td>16000000</td>\n",
       "      <td>[{'id': 35, 'name': 'Comedy'}, {'id': 18, 'nam...</td>\n",
       "      <td>NaN</td>\n",
       "      <td>31357</td>\n",
       "      <td>tt0114885</td>\n",
       "      <td>en</td>\n",
       "      <td>Waiting to Exhale</td>\n",
       "      <td>Cheated on, mistreated and stepped on, the wom...</td>\n",
       "      <td>...</td>\n",
       "      <td>[{'iso_639_1': 'en', 'name': 'English'}]</td>\n",
       "      <td>Released</td>\n",
       "      <td>Friends are the people who let you be yourself...</td>\n",
       "      <td>Waiting to Exhale</td>\n",
       "      <td>False</td>\n",
       "      <td>6.1</td>\n",
       "      <td>34.0</td>\n",
       "      <td>[{'cast_id': 1, 'character': \"Savannah 'Vannah...</td>\n",
       "      <td>[{'credit_id': '52fe44779251416c91011acb', 'de...</td>\n",
       "      <td>31357</td>\n",
       "    </tr>\n",
       "    <tr>\n",
       "      <th>4</th>\n",
       "      <td>False</td>\n",
       "      <td>{'id': 96871, 'name': 'Father of the Bride Col...</td>\n",
       "      <td>0</td>\n",
       "      <td>[{'id': 35, 'name': 'Comedy'}]</td>\n",
       "      <td>NaN</td>\n",
       "      <td>11862</td>\n",
       "      <td>tt0113041</td>\n",
       "      <td>en</td>\n",
       "      <td>Father of the Bride Part II</td>\n",
       "      <td>Just when George Banks has recovered from his ...</td>\n",
       "      <td>...</td>\n",
       "      <td>[{'iso_639_1': 'en', 'name': 'English'}]</td>\n",
       "      <td>Released</td>\n",
       "      <td>Just When His World Is Back To Normal... He's ...</td>\n",
       "      <td>Father of the Bride Part II</td>\n",
       "      <td>False</td>\n",
       "      <td>5.7</td>\n",
       "      <td>173.0</td>\n",
       "      <td>[{'cast_id': 1, 'character': 'George Banks', '...</td>\n",
       "      <td>[{'credit_id': '52fe44959251416c75039ed7', 'de...</td>\n",
       "      <td>11862</td>\n",
       "    </tr>\n",
       "    <tr>\n",
       "      <th>...</th>\n",
       "      <td>...</td>\n",
       "      <td>...</td>\n",
       "      <td>...</td>\n",
       "      <td>...</td>\n",
       "      <td>...</td>\n",
       "      <td>...</td>\n",
       "      <td>...</td>\n",
       "      <td>...</td>\n",
       "      <td>...</td>\n",
       "      <td>...</td>\n",
       "      <td>...</td>\n",
       "      <td>...</td>\n",
       "      <td>...</td>\n",
       "      <td>...</td>\n",
       "      <td>...</td>\n",
       "      <td>...</td>\n",
       "      <td>...</td>\n",
       "      <td>...</td>\n",
       "      <td>...</td>\n",
       "      <td>...</td>\n",
       "      <td>...</td>\n",
       "    </tr>\n",
       "    <tr>\n",
       "      <th>45471</th>\n",
       "      <td>NaN</td>\n",
       "      <td>NaN</td>\n",
       "      <td>NaN</td>\n",
       "      <td>NaN</td>\n",
       "      <td>NaN</td>\n",
       "      <td>NaN</td>\n",
       "      <td>NaN</td>\n",
       "      <td>NaN</td>\n",
       "      <td>NaN</td>\n",
       "      <td>NaN</td>\n",
       "      <td>...</td>\n",
       "      <td>NaN</td>\n",
       "      <td>NaN</td>\n",
       "      <td>NaN</td>\n",
       "      <td>NaN</td>\n",
       "      <td>NaN</td>\n",
       "      <td>NaN</td>\n",
       "      <td>NaN</td>\n",
       "      <td>[{'cast_id': 0, 'character': '', 'credit_id': ...</td>\n",
       "      <td>[{'credit_id': '5894a97d925141426c00818c', 'de...</td>\n",
       "      <td>439050</td>\n",
       "    </tr>\n",
       "    <tr>\n",
       "      <th>45472</th>\n",
       "      <td>NaN</td>\n",
       "      <td>NaN</td>\n",
       "      <td>NaN</td>\n",
       "      <td>NaN</td>\n",
       "      <td>NaN</td>\n",
       "      <td>NaN</td>\n",
       "      <td>NaN</td>\n",
       "      <td>NaN</td>\n",
       "      <td>NaN</td>\n",
       "      <td>NaN</td>\n",
       "      <td>...</td>\n",
       "      <td>NaN</td>\n",
       "      <td>NaN</td>\n",
       "      <td>NaN</td>\n",
       "      <td>NaN</td>\n",
       "      <td>NaN</td>\n",
       "      <td>NaN</td>\n",
       "      <td>NaN</td>\n",
       "      <td>[{'cast_id': 1002, 'character': 'Sister Angela...</td>\n",
       "      <td>[{'credit_id': '52fe4af1c3a36847f81e9b15', 'de...</td>\n",
       "      <td>111109</td>\n",
       "    </tr>\n",
       "    <tr>\n",
       "      <th>45473</th>\n",
       "      <td>NaN</td>\n",
       "      <td>NaN</td>\n",
       "      <td>NaN</td>\n",
       "      <td>NaN</td>\n",
       "      <td>NaN</td>\n",
       "      <td>NaN</td>\n",
       "      <td>NaN</td>\n",
       "      <td>NaN</td>\n",
       "      <td>NaN</td>\n",
       "      <td>NaN</td>\n",
       "      <td>...</td>\n",
       "      <td>NaN</td>\n",
       "      <td>NaN</td>\n",
       "      <td>NaN</td>\n",
       "      <td>NaN</td>\n",
       "      <td>NaN</td>\n",
       "      <td>NaN</td>\n",
       "      <td>NaN</td>\n",
       "      <td>[{'cast_id': 6, 'character': 'Emily Shaw', 'cr...</td>\n",
       "      <td>[{'credit_id': '52fe4776c3a368484e0c8387', 'de...</td>\n",
       "      <td>67758</td>\n",
       "    </tr>\n",
       "    <tr>\n",
       "      <th>45474</th>\n",
       "      <td>NaN</td>\n",
       "      <td>NaN</td>\n",
       "      <td>NaN</td>\n",
       "      <td>NaN</td>\n",
       "      <td>NaN</td>\n",
       "      <td>NaN</td>\n",
       "      <td>NaN</td>\n",
       "      <td>NaN</td>\n",
       "      <td>NaN</td>\n",
       "      <td>NaN</td>\n",
       "      <td>...</td>\n",
       "      <td>NaN</td>\n",
       "      <td>NaN</td>\n",
       "      <td>NaN</td>\n",
       "      <td>NaN</td>\n",
       "      <td>NaN</td>\n",
       "      <td>NaN</td>\n",
       "      <td>NaN</td>\n",
       "      <td>[{'cast_id': 2, 'character': '', 'credit_id': ...</td>\n",
       "      <td>[{'credit_id': '533bccebc3a36844cf0011a7', 'de...</td>\n",
       "      <td>227506</td>\n",
       "    </tr>\n",
       "    <tr>\n",
       "      <th>45475</th>\n",
       "      <td>NaN</td>\n",
       "      <td>NaN</td>\n",
       "      <td>NaN</td>\n",
       "      <td>NaN</td>\n",
       "      <td>NaN</td>\n",
       "      <td>NaN</td>\n",
       "      <td>NaN</td>\n",
       "      <td>NaN</td>\n",
       "      <td>NaN</td>\n",
       "      <td>NaN</td>\n",
       "      <td>...</td>\n",
       "      <td>NaN</td>\n",
       "      <td>NaN</td>\n",
       "      <td>NaN</td>\n",
       "      <td>NaN</td>\n",
       "      <td>NaN</td>\n",
       "      <td>NaN</td>\n",
       "      <td>NaN</td>\n",
       "      <td>[]</td>\n",
       "      <td>[{'credit_id': '593e676c92514105b702e68e', 'de...</td>\n",
       "      <td>461257</td>\n",
       "    </tr>\n",
       "  </tbody>\n",
       "</table>\n",
       "<p>45476 rows × 27 columns</p>\n",
       "</div>"
      ],
      "text/plain": [
       "       adult                              belongs_to_collection    budget  \\\n",
       "0      False  {'id': 10194, 'name': 'Toy Story Collection', ...  30000000   \n",
       "1      False                                                NaN  65000000   \n",
       "2      False  {'id': 119050, 'name': 'Grumpy Old Men Collect...         0   \n",
       "3      False                                                NaN  16000000   \n",
       "4      False  {'id': 96871, 'name': 'Father of the Bride Col...         0   \n",
       "...      ...                                                ...       ...   \n",
       "45471    NaN                                                NaN       NaN   \n",
       "45472    NaN                                                NaN       NaN   \n",
       "45473    NaN                                                NaN       NaN   \n",
       "45474    NaN                                                NaN       NaN   \n",
       "45475    NaN                                                NaN       NaN   \n",
       "\n",
       "                                                  genres  \\\n",
       "0      [{'id': 16, 'name': 'Animation'}, {'id': 35, '...   \n",
       "1      [{'id': 12, 'name': 'Adventure'}, {'id': 14, '...   \n",
       "2      [{'id': 10749, 'name': 'Romance'}, {'id': 35, ...   \n",
       "3      [{'id': 35, 'name': 'Comedy'}, {'id': 18, 'nam...   \n",
       "4                         [{'id': 35, 'name': 'Comedy'}]   \n",
       "...                                                  ...   \n",
       "45471                                                NaN   \n",
       "45472                                                NaN   \n",
       "45473                                                NaN   \n",
       "45474                                                NaN   \n",
       "45475                                                NaN   \n",
       "\n",
       "                                   homepage     id    imdb_id  \\\n",
       "0      http://toystory.disney.com/toy-story    862  tt0114709   \n",
       "1                                       NaN   8844  tt0113497   \n",
       "2                                       NaN  15602  tt0113228   \n",
       "3                                       NaN  31357  tt0114885   \n",
       "4                                       NaN  11862  tt0113041   \n",
       "...                                     ...    ...        ...   \n",
       "45471                                   NaN    NaN        NaN   \n",
       "45472                                   NaN    NaN        NaN   \n",
       "45473                                   NaN    NaN        NaN   \n",
       "45474                                   NaN    NaN        NaN   \n",
       "45475                                   NaN    NaN        NaN   \n",
       "\n",
       "      original_language               original_title  \\\n",
       "0                    en                    Toy Story   \n",
       "1                    en                      Jumanji   \n",
       "2                    en             Grumpier Old Men   \n",
       "3                    en            Waiting to Exhale   \n",
       "4                    en  Father of the Bride Part II   \n",
       "...                 ...                          ...   \n",
       "45471               NaN                          NaN   \n",
       "45472               NaN                          NaN   \n",
       "45473               NaN                          NaN   \n",
       "45474               NaN                          NaN   \n",
       "45475               NaN                          NaN   \n",
       "\n",
       "                                                overview  ...  \\\n",
       "0      Led by Woody, Andy's toys live happily in his ...  ...   \n",
       "1      When siblings Judy and Peter discover an encha...  ...   \n",
       "2      A family wedding reignites the ancient feud be...  ...   \n",
       "3      Cheated on, mistreated and stepped on, the wom...  ...   \n",
       "4      Just when George Banks has recovered from his ...  ...   \n",
       "...                                                  ...  ...   \n",
       "45471                                                NaN  ...   \n",
       "45472                                                NaN  ...   \n",
       "45473                                                NaN  ...   \n",
       "45474                                                NaN  ...   \n",
       "45475                                                NaN  ...   \n",
       "\n",
       "                                        spoken_languages    status  \\\n",
       "0               [{'iso_639_1': 'en', 'name': 'English'}]  Released   \n",
       "1      [{'iso_639_1': 'en', 'name': 'English'}, {'iso...  Released   \n",
       "2               [{'iso_639_1': 'en', 'name': 'English'}]  Released   \n",
       "3               [{'iso_639_1': 'en', 'name': 'English'}]  Released   \n",
       "4               [{'iso_639_1': 'en', 'name': 'English'}]  Released   \n",
       "...                                                  ...       ...   \n",
       "45471                                                NaN       NaN   \n",
       "45472                                                NaN       NaN   \n",
       "45473                                                NaN       NaN   \n",
       "45474                                                NaN       NaN   \n",
       "45475                                                NaN       NaN   \n",
       "\n",
       "                                                 tagline  \\\n",
       "0                                                    NaN   \n",
       "1              Roll the dice and unleash the excitement!   \n",
       "2      Still Yelling. Still Fighting. Still Ready for...   \n",
       "3      Friends are the people who let you be yourself...   \n",
       "4      Just When His World Is Back To Normal... He's ...   \n",
       "...                                                  ...   \n",
       "45471                                                NaN   \n",
       "45472                                                NaN   \n",
       "45473                                                NaN   \n",
       "45474                                                NaN   \n",
       "45475                                                NaN   \n",
       "\n",
       "                             title  video  vote_average  vote_count  \\\n",
       "0                        Toy Story  False           7.7      5415.0   \n",
       "1                          Jumanji  False           6.9      2413.0   \n",
       "2                 Grumpier Old Men  False           6.5        92.0   \n",
       "3                Waiting to Exhale  False           6.1        34.0   \n",
       "4      Father of the Bride Part II  False           5.7       173.0   \n",
       "...                            ...    ...           ...         ...   \n",
       "45471                          NaN    NaN           NaN         NaN   \n",
       "45472                          NaN    NaN           NaN         NaN   \n",
       "45473                          NaN    NaN           NaN         NaN   \n",
       "45474                          NaN    NaN           NaN         NaN   \n",
       "45475                          NaN    NaN           NaN         NaN   \n",
       "\n",
       "                                                    cast  \\\n",
       "0      [{'cast_id': 14, 'character': 'Woody (voice)',...   \n",
       "1      [{'cast_id': 1, 'character': 'Alan Parrish', '...   \n",
       "2      [{'cast_id': 2, 'character': 'Max Goldman', 'c...   \n",
       "3      [{'cast_id': 1, 'character': \"Savannah 'Vannah...   \n",
       "4      [{'cast_id': 1, 'character': 'George Banks', '...   \n",
       "...                                                  ...   \n",
       "45471  [{'cast_id': 0, 'character': '', 'credit_id': ...   \n",
       "45472  [{'cast_id': 1002, 'character': 'Sister Angela...   \n",
       "45473  [{'cast_id': 6, 'character': 'Emily Shaw', 'cr...   \n",
       "45474  [{'cast_id': 2, 'character': '', 'credit_id': ...   \n",
       "45475                                                 []   \n",
       "\n",
       "                                                    crew      id  \n",
       "0      [{'credit_id': '52fe4284c3a36847f8024f49', 'de...     862  \n",
       "1      [{'credit_id': '52fe44bfc3a36847f80a7cd1', 'de...    8844  \n",
       "2      [{'credit_id': '52fe466a9251416c75077a89', 'de...   15602  \n",
       "3      [{'credit_id': '52fe44779251416c91011acb', 'de...   31357  \n",
       "4      [{'credit_id': '52fe44959251416c75039ed7', 'de...   11862  \n",
       "...                                                  ...     ...  \n",
       "45471  [{'credit_id': '5894a97d925141426c00818c', 'de...  439050  \n",
       "45472  [{'credit_id': '52fe4af1c3a36847f81e9b15', 'de...  111109  \n",
       "45473  [{'credit_id': '52fe4776c3a368484e0c8387', 'de...   67758  \n",
       "45474  [{'credit_id': '533bccebc3a36844cf0011a7', 'de...  227506  \n",
       "45475  [{'credit_id': '593e676c92514105b702e68e', 'de...  461257  \n",
       "\n",
       "[45476 rows x 27 columns]"
      ]
     },
     "execution_count": 19,
     "metadata": {},
     "output_type": "execute_result"
    }
   ],
   "source": [
    "final_df2"
   ]
  },
  {
   "cell_type": "code",
   "execution_count": 20,
   "id": "0e7c5812",
   "metadata": {},
   "outputs": [],
   "source": [
    "\n",
    "final_df2 = final_df2[['title', 'genres', 'overview', 'tagline', 'belongs_to_collection', 'cast', 'crew']]\n",
    "final_df2 = final_df2.rename(columns={'belongs_to_collection': 'keywords'})"
   ]
  },
  {
   "cell_type": "code",
   "execution_count": 21,
   "id": "4632de3f",
   "metadata": {},
   "outputs": [],
   "source": [
    "final_df2=final_df2[final_df2['title'].notna()]"
   ]
  },
  {
   "cell_type": "code",
   "execution_count": 22,
   "id": "588db9ff",
   "metadata": {},
   "outputs": [
    {
     "data": {
      "text/html": [
       "<div>\n",
       "<style scoped>\n",
       "    .dataframe tbody tr th:only-of-type {\n",
       "        vertical-align: middle;\n",
       "    }\n",
       "\n",
       "    .dataframe tbody tr th {\n",
       "        vertical-align: top;\n",
       "    }\n",
       "\n",
       "    .dataframe thead th {\n",
       "        text-align: right;\n",
       "    }\n",
       "</style>\n",
       "<table border=\"1\" class=\"dataframe\">\n",
       "  <thead>\n",
       "    <tr style=\"text-align: right;\">\n",
       "      <th></th>\n",
       "      <th>title</th>\n",
       "      <th>genres</th>\n",
       "      <th>overview</th>\n",
       "      <th>tagline</th>\n",
       "      <th>keywords</th>\n",
       "      <th>cast</th>\n",
       "      <th>crew</th>\n",
       "    </tr>\n",
       "  </thead>\n",
       "  <tbody>\n",
       "    <tr>\n",
       "      <th>0</th>\n",
       "      <td>Toy Story</td>\n",
       "      <td>[{'id': 16, 'name': 'Animation'}, {'id': 35, '...</td>\n",
       "      <td>Led by Woody, Andy's toys live happily in his ...</td>\n",
       "      <td>NaN</td>\n",
       "      <td>{'id': 10194, 'name': 'Toy Story Collection', ...</td>\n",
       "      <td>[{'cast_id': 14, 'character': 'Woody (voice)',...</td>\n",
       "      <td>[{'credit_id': '52fe4284c3a36847f8024f49', 'de...</td>\n",
       "    </tr>\n",
       "    <tr>\n",
       "      <th>1</th>\n",
       "      <td>Jumanji</td>\n",
       "      <td>[{'id': 12, 'name': 'Adventure'}, {'id': 14, '...</td>\n",
       "      <td>When siblings Judy and Peter discover an encha...</td>\n",
       "      <td>Roll the dice and unleash the excitement!</td>\n",
       "      <td>NaN</td>\n",
       "      <td>[{'cast_id': 1, 'character': 'Alan Parrish', '...</td>\n",
       "      <td>[{'credit_id': '52fe44bfc3a36847f80a7cd1', 'de...</td>\n",
       "    </tr>\n",
       "    <tr>\n",
       "      <th>2</th>\n",
       "      <td>Grumpier Old Men</td>\n",
       "      <td>[{'id': 10749, 'name': 'Romance'}, {'id': 35, ...</td>\n",
       "      <td>A family wedding reignites the ancient feud be...</td>\n",
       "      <td>Still Yelling. Still Fighting. Still Ready for...</td>\n",
       "      <td>{'id': 119050, 'name': 'Grumpy Old Men Collect...</td>\n",
       "      <td>[{'cast_id': 2, 'character': 'Max Goldman', 'c...</td>\n",
       "      <td>[{'credit_id': '52fe466a9251416c75077a89', 'de...</td>\n",
       "    </tr>\n",
       "    <tr>\n",
       "      <th>3</th>\n",
       "      <td>Waiting to Exhale</td>\n",
       "      <td>[{'id': 35, 'name': 'Comedy'}, {'id': 18, 'nam...</td>\n",
       "      <td>Cheated on, mistreated and stepped on, the wom...</td>\n",
       "      <td>Friends are the people who let you be yourself...</td>\n",
       "      <td>NaN</td>\n",
       "      <td>[{'cast_id': 1, 'character': \"Savannah 'Vannah...</td>\n",
       "      <td>[{'credit_id': '52fe44779251416c91011acb', 'de...</td>\n",
       "    </tr>\n",
       "    <tr>\n",
       "      <th>4</th>\n",
       "      <td>Father of the Bride Part II</td>\n",
       "      <td>[{'id': 35, 'name': 'Comedy'}]</td>\n",
       "      <td>Just when George Banks has recovered from his ...</td>\n",
       "      <td>Just When His World Is Back To Normal... He's ...</td>\n",
       "      <td>{'id': 96871, 'name': 'Father of the Bride Col...</td>\n",
       "      <td>[{'cast_id': 1, 'character': 'George Banks', '...</td>\n",
       "      <td>[{'credit_id': '52fe44959251416c75039ed7', 'de...</td>\n",
       "    </tr>\n",
       "    <tr>\n",
       "      <th>...</th>\n",
       "      <td>...</td>\n",
       "      <td>...</td>\n",
       "      <td>...</td>\n",
       "      <td>...</td>\n",
       "      <td>...</td>\n",
       "      <td>...</td>\n",
       "      <td>...</td>\n",
       "    </tr>\n",
       "    <tr>\n",
       "      <th>45461</th>\n",
       "      <td>Subdue</td>\n",
       "      <td>[{'id': 18, 'name': 'Drama'}, {'id': 10751, 'n...</td>\n",
       "      <td>Rising and falling between a man and woman.</td>\n",
       "      <td>Rising and falling between a man and woman</td>\n",
       "      <td>NaN</td>\n",
       "      <td>[{'cast_id': 2, 'character': '', 'credit_id': ...</td>\n",
       "      <td>[{'credit_id': '52fe4a71c3a36847f81ce35b', 'de...</td>\n",
       "    </tr>\n",
       "    <tr>\n",
       "      <th>45462</th>\n",
       "      <td>Century of Birthing</td>\n",
       "      <td>[{'id': 18, 'name': 'Drama'}]</td>\n",
       "      <td>An artist struggles to finish his work while a...</td>\n",
       "      <td>NaN</td>\n",
       "      <td>NaN</td>\n",
       "      <td>[]</td>\n",
       "      <td>[{'credit_id': '539ef1090e0a263dd00000d7', 'de...</td>\n",
       "    </tr>\n",
       "    <tr>\n",
       "      <th>45463</th>\n",
       "      <td>Betrayal</td>\n",
       "      <td>[{'id': 28, 'name': 'Action'}, {'id': 18, 'nam...</td>\n",
       "      <td>When one of her hits goes wrong, a professiona...</td>\n",
       "      <td>A deadly game of wits.</td>\n",
       "      <td>NaN</td>\n",
       "      <td>[{'cast_id': 1, 'character': 'Devki Sabarwal',...</td>\n",
       "      <td>[{'credit_id': '58ee55bbc3a3683df500bd0f', 'de...</td>\n",
       "    </tr>\n",
       "    <tr>\n",
       "      <th>45464</th>\n",
       "      <td>Satan Triumphant</td>\n",
       "      <td>[]</td>\n",
       "      <td>In a small town live two brothers, one a minis...</td>\n",
       "      <td>NaN</td>\n",
       "      <td>NaN</td>\n",
       "      <td>[{'cast_id': 0, 'character': 'Lauren', 'credit...</td>\n",
       "      <td>[{'credit_id': '587626f4c3a3682b33008299', 'de...</td>\n",
       "    </tr>\n",
       "    <tr>\n",
       "      <th>45465</th>\n",
       "      <td>Queerama</td>\n",
       "      <td>[]</td>\n",
       "      <td>50 years after decriminalisation of homosexual...</td>\n",
       "      <td>NaN</td>\n",
       "      <td>NaN</td>\n",
       "      <td>[{'cast_id': 5, 'character': '', 'credit_id': ...</td>\n",
       "      <td>[{'credit_id': '5330178a9251413a720055e3', 'de...</td>\n",
       "    </tr>\n",
       "  </tbody>\n",
       "</table>\n",
       "<p>45460 rows × 7 columns</p>\n",
       "</div>"
      ],
      "text/plain": [
       "                             title  \\\n",
       "0                        Toy Story   \n",
       "1                          Jumanji   \n",
       "2                 Grumpier Old Men   \n",
       "3                Waiting to Exhale   \n",
       "4      Father of the Bride Part II   \n",
       "...                            ...   \n",
       "45461                       Subdue   \n",
       "45462          Century of Birthing   \n",
       "45463                     Betrayal   \n",
       "45464             Satan Triumphant   \n",
       "45465                     Queerama   \n",
       "\n",
       "                                                  genres  \\\n",
       "0      [{'id': 16, 'name': 'Animation'}, {'id': 35, '...   \n",
       "1      [{'id': 12, 'name': 'Adventure'}, {'id': 14, '...   \n",
       "2      [{'id': 10749, 'name': 'Romance'}, {'id': 35, ...   \n",
       "3      [{'id': 35, 'name': 'Comedy'}, {'id': 18, 'nam...   \n",
       "4                         [{'id': 35, 'name': 'Comedy'}]   \n",
       "...                                                  ...   \n",
       "45461  [{'id': 18, 'name': 'Drama'}, {'id': 10751, 'n...   \n",
       "45462                      [{'id': 18, 'name': 'Drama'}]   \n",
       "45463  [{'id': 28, 'name': 'Action'}, {'id': 18, 'nam...   \n",
       "45464                                                 []   \n",
       "45465                                                 []   \n",
       "\n",
       "                                                overview  \\\n",
       "0      Led by Woody, Andy's toys live happily in his ...   \n",
       "1      When siblings Judy and Peter discover an encha...   \n",
       "2      A family wedding reignites the ancient feud be...   \n",
       "3      Cheated on, mistreated and stepped on, the wom...   \n",
       "4      Just when George Banks has recovered from his ...   \n",
       "...                                                  ...   \n",
       "45461        Rising and falling between a man and woman.   \n",
       "45462  An artist struggles to finish his work while a...   \n",
       "45463  When one of her hits goes wrong, a professiona...   \n",
       "45464  In a small town live two brothers, one a minis...   \n",
       "45465  50 years after decriminalisation of homosexual...   \n",
       "\n",
       "                                                 tagline  \\\n",
       "0                                                    NaN   \n",
       "1              Roll the dice and unleash the excitement!   \n",
       "2      Still Yelling. Still Fighting. Still Ready for...   \n",
       "3      Friends are the people who let you be yourself...   \n",
       "4      Just When His World Is Back To Normal... He's ...   \n",
       "...                                                  ...   \n",
       "45461         Rising and falling between a man and woman   \n",
       "45462                                                NaN   \n",
       "45463                             A deadly game of wits.   \n",
       "45464                                                NaN   \n",
       "45465                                                NaN   \n",
       "\n",
       "                                                keywords  \\\n",
       "0      {'id': 10194, 'name': 'Toy Story Collection', ...   \n",
       "1                                                    NaN   \n",
       "2      {'id': 119050, 'name': 'Grumpy Old Men Collect...   \n",
       "3                                                    NaN   \n",
       "4      {'id': 96871, 'name': 'Father of the Bride Col...   \n",
       "...                                                  ...   \n",
       "45461                                                NaN   \n",
       "45462                                                NaN   \n",
       "45463                                                NaN   \n",
       "45464                                                NaN   \n",
       "45465                                                NaN   \n",
       "\n",
       "                                                    cast  \\\n",
       "0      [{'cast_id': 14, 'character': 'Woody (voice)',...   \n",
       "1      [{'cast_id': 1, 'character': 'Alan Parrish', '...   \n",
       "2      [{'cast_id': 2, 'character': 'Max Goldman', 'c...   \n",
       "3      [{'cast_id': 1, 'character': \"Savannah 'Vannah...   \n",
       "4      [{'cast_id': 1, 'character': 'George Banks', '...   \n",
       "...                                                  ...   \n",
       "45461  [{'cast_id': 2, 'character': '', 'credit_id': ...   \n",
       "45462                                                 []   \n",
       "45463  [{'cast_id': 1, 'character': 'Devki Sabarwal',...   \n",
       "45464  [{'cast_id': 0, 'character': 'Lauren', 'credit...   \n",
       "45465  [{'cast_id': 5, 'character': '', 'credit_id': ...   \n",
       "\n",
       "                                                    crew  \n",
       "0      [{'credit_id': '52fe4284c3a36847f8024f49', 'de...  \n",
       "1      [{'credit_id': '52fe44bfc3a36847f80a7cd1', 'de...  \n",
       "2      [{'credit_id': '52fe466a9251416c75077a89', 'de...  \n",
       "3      [{'credit_id': '52fe44779251416c91011acb', 'de...  \n",
       "4      [{'credit_id': '52fe44959251416c75039ed7', 'de...  \n",
       "...                                                  ...  \n",
       "45461  [{'credit_id': '52fe4a71c3a36847f81ce35b', 'de...  \n",
       "45462  [{'credit_id': '539ef1090e0a263dd00000d7', 'de...  \n",
       "45463  [{'credit_id': '58ee55bbc3a3683df500bd0f', 'de...  \n",
       "45464  [{'credit_id': '587626f4c3a3682b33008299', 'de...  \n",
       "45465  [{'credit_id': '5330178a9251413a720055e3', 'de...  \n",
       "\n",
       "[45460 rows x 7 columns]"
      ]
     },
     "execution_count": 22,
     "metadata": {},
     "output_type": "execute_result"
    }
   ],
   "source": [
    "final_df2"
   ]
  },
  {
   "cell_type": "code",
   "execution_count": 23,
   "id": "0a0e4695",
   "metadata": {},
   "outputs": [
    {
     "data": {
      "text/plain": [
       "(45460, 7)"
      ]
     },
     "execution_count": 23,
     "metadata": {},
     "output_type": "execute_result"
    }
   ],
   "source": [
    "final_df2.shape"
   ]
  },
  {
   "cell_type": "code",
   "execution_count": 24,
   "id": "203882ae",
   "metadata": {},
   "outputs": [
    {
     "data": {
      "text/html": [
       "<div>\n",
       "<style scoped>\n",
       "    .dataframe tbody tr th:only-of-type {\n",
       "        vertical-align: middle;\n",
       "    }\n",
       "\n",
       "    .dataframe tbody tr th {\n",
       "        vertical-align: top;\n",
       "    }\n",
       "\n",
       "    .dataframe thead th {\n",
       "        text-align: right;\n",
       "    }\n",
       "</style>\n",
       "<table border=\"1\" class=\"dataframe\">\n",
       "  <thead>\n",
       "    <tr style=\"text-align: right;\">\n",
       "      <th></th>\n",
       "      <th>title</th>\n",
       "      <th>genres</th>\n",
       "      <th>overview</th>\n",
       "      <th>tagline</th>\n",
       "      <th>keywords</th>\n",
       "      <th>cast</th>\n",
       "      <th>crew</th>\n",
       "    </tr>\n",
       "  </thead>\n",
       "  <tbody>\n",
       "    <tr>\n",
       "      <th>2</th>\n",
       "      <td>Grumpier Old Men</td>\n",
       "      <td>[{'id': 10749, 'name': 'Romance'}, {'id': 35, ...</td>\n",
       "      <td>A family wedding reignites the ancient feud be...</td>\n",
       "      <td>Still Yelling. Still Fighting. Still Ready for...</td>\n",
       "      <td>{'id': 119050, 'name': 'Grumpy Old Men Collect...</td>\n",
       "      <td>[{'cast_id': 2, 'character': 'Max Goldman', 'c...</td>\n",
       "      <td>[{'credit_id': '52fe466a9251416c75077a89', 'de...</td>\n",
       "    </tr>\n",
       "    <tr>\n",
       "      <th>4</th>\n",
       "      <td>Father of the Bride Part II</td>\n",
       "      <td>[{'id': 35, 'name': 'Comedy'}]</td>\n",
       "      <td>Just when George Banks has recovered from his ...</td>\n",
       "      <td>Just When His World Is Back To Normal... He's ...</td>\n",
       "      <td>{'id': 96871, 'name': 'Father of the Bride Col...</td>\n",
       "      <td>[{'cast_id': 1, 'character': 'George Banks', '...</td>\n",
       "      <td>[{'credit_id': '52fe44959251416c75039ed7', 'de...</td>\n",
       "    </tr>\n",
       "    <tr>\n",
       "      <th>9</th>\n",
       "      <td>GoldenEye</td>\n",
       "      <td>[{'id': 12, 'name': 'Adventure'}, {'id': 28, '...</td>\n",
       "      <td>James Bond must unmask the mysterious head of ...</td>\n",
       "      <td>No limits. No fears. No substitutes.</td>\n",
       "      <td>{'id': 645, 'name': 'James Bond Collection', '...</td>\n",
       "      <td>[{'cast_id': 1, 'character': 'James Bond', 'cr...</td>\n",
       "      <td>[{'credit_id': '52fe426ec3a36847f801e14b', 'de...</td>\n",
       "    </tr>\n",
       "    <tr>\n",
       "      <th>12</th>\n",
       "      <td>Balto</td>\n",
       "      <td>[{'id': 10751, 'name': 'Family'}, {'id': 16, '...</td>\n",
       "      <td>An outcast half-wolf risks his life to prevent...</td>\n",
       "      <td>Part Dog. Part Wolf. All Hero.</td>\n",
       "      <td>{'id': 117693, 'name': 'Balto Collection', 'po...</td>\n",
       "      <td>[{'cast_id': 1, 'character': 'Balto (voice)', ...</td>\n",
       "      <td>[{'credit_id': '593f24b9c3a3680369002371', 'de...</td>\n",
       "    </tr>\n",
       "    <tr>\n",
       "      <th>18</th>\n",
       "      <td>Ace Ventura: When Nature Calls</td>\n",
       "      <td>[{'id': 80, 'name': 'Crime'}, {'id': 35, 'name...</td>\n",
       "      <td>Summoned from an ashram in Tibet, Ace finds hi...</td>\n",
       "      <td>New animals. New adventures. Same hair.</td>\n",
       "      <td>{'id': 3167, 'name': 'Ace Ventura Collection',...</td>\n",
       "      <td>[{'cast_id': 1, 'character': 'Ace Ventura', 'c...</td>\n",
       "      <td>[{'credit_id': '52fe44dfc3a36847f80af28b', 'de...</td>\n",
       "    </tr>\n",
       "    <tr>\n",
       "      <th>...</th>\n",
       "      <td>...</td>\n",
       "      <td>...</td>\n",
       "      <td>...</td>\n",
       "      <td>...</td>\n",
       "      <td>...</td>\n",
       "      <td>...</td>\n",
       "      <td>...</td>\n",
       "    </tr>\n",
       "    <tr>\n",
       "      <th>45240</th>\n",
       "      <td>Schoolgirl Report Part 5: What All Parents Sho...</td>\n",
       "      <td>[{'id': 18, 'name': 'Drama'}, {'id': 10749, 'n...</td>\n",
       "      <td>Seven more first-hand accounts of sexual awake...</td>\n",
       "      <td>Young, Willing and Oh So Eager to Please!</td>\n",
       "      <td>{'id': 304809, 'name': 'Schoolgirl Report Coll...</td>\n",
       "      <td>[{'cast_id': 6, 'character': 'Franck', 'credit...</td>\n",
       "      <td>[{'credit_id': '52fe4a1cc3a36847f81ba4a5', 'de...</td>\n",
       "    </tr>\n",
       "    <tr>\n",
       "      <th>45241</th>\n",
       "      <td>Schoolgirl Report Part 4: What Drives Parents ...</td>\n",
       "      <td>[{'id': 35, 'name': 'Comedy'}, {'id': 18, 'nam...</td>\n",
       "      <td>A fake documentary about the sex lives of teen...</td>\n",
       "      <td>Straight A's all the way ... But not in the cl...</td>\n",
       "      <td>{'id': 304809, 'name': 'Schoolgirl Report Coll...</td>\n",
       "      <td>[{'cast_id': 1, 'character': 'Bruno', 'credit_...</td>\n",
       "      <td>[{'credit_id': '5396c2cc0e0a266dc5008807', 'de...</td>\n",
       "    </tr>\n",
       "    <tr>\n",
       "      <th>45258</th>\n",
       "      <td>Descendants 2</td>\n",
       "      <td>[{'id': 10770, 'name': 'TV Movie'}, {'id': 107...</td>\n",
       "      <td>When the pressure to be royal becomes too much...</td>\n",
       "      <td>Long live evil.</td>\n",
       "      <td>{'id': 466463, 'name': 'Descendants Collection...</td>\n",
       "      <td>[{'cast_id': 4, 'character': 'Manikkam / Manic...</td>\n",
       "      <td>[{'credit_id': '58bc1ba0c3a368515d01dc3e', 'de...</td>\n",
       "    </tr>\n",
       "    <tr>\n",
       "      <th>45353</th>\n",
       "      <td>Frankenstein Created Woman</td>\n",
       "      <td>[{'id': 27, 'name': 'Horror'}, {'id': 878, 'na...</td>\n",
       "      <td>A deformed tormented girl drowns herself after...</td>\n",
       "      <td>Now Frankenstein has created a beautiful woman...</td>\n",
       "      <td>{'id': 123720, 'name': 'Frankenstein (Hammer S...</td>\n",
       "      <td>[{'cast_id': 2, 'character': 'Le comte Godefro...</td>\n",
       "      <td>[{'credit_id': '52fe4f37c3a36847f82c5efb', 'de...</td>\n",
       "    </tr>\n",
       "    <tr>\n",
       "      <th>45358</th>\n",
       "      <td>Carry On Camping</td>\n",
       "      <td>[{'id': 35, 'name': 'Comedy'}]</td>\n",
       "      <td>Sid and Bernie keep having their amorous inten...</td>\n",
       "      <td>Fun and games in the great outdoors!</td>\n",
       "      <td>{'id': 37261, 'name': 'The Carry On Collection...</td>\n",
       "      <td>[{'cast_id': 1, 'character': 'Hayden Walsh', '...</td>\n",
       "      <td>[{'credit_id': '52fe46a3c3a36847f810a04b', 'de...</td>\n",
       "    </tr>\n",
       "  </tbody>\n",
       "</table>\n",
       "<p>2572 rows × 7 columns</p>\n",
       "</div>"
      ],
      "text/plain": [
       "                                                   title  \\\n",
       "2                                       Grumpier Old Men   \n",
       "4                            Father of the Bride Part II   \n",
       "9                                              GoldenEye   \n",
       "12                                                 Balto   \n",
       "18                        Ace Ventura: When Nature Calls   \n",
       "...                                                  ...   \n",
       "45240  Schoolgirl Report Part 5: What All Parents Sho...   \n",
       "45241  Schoolgirl Report Part 4: What Drives Parents ...   \n",
       "45258                                      Descendants 2   \n",
       "45353                         Frankenstein Created Woman   \n",
       "45358                                   Carry On Camping   \n",
       "\n",
       "                                                  genres  \\\n",
       "2      [{'id': 10749, 'name': 'Romance'}, {'id': 35, ...   \n",
       "4                         [{'id': 35, 'name': 'Comedy'}]   \n",
       "9      [{'id': 12, 'name': 'Adventure'}, {'id': 28, '...   \n",
       "12     [{'id': 10751, 'name': 'Family'}, {'id': 16, '...   \n",
       "18     [{'id': 80, 'name': 'Crime'}, {'id': 35, 'name...   \n",
       "...                                                  ...   \n",
       "45240  [{'id': 18, 'name': 'Drama'}, {'id': 10749, 'n...   \n",
       "45241  [{'id': 35, 'name': 'Comedy'}, {'id': 18, 'nam...   \n",
       "45258  [{'id': 10770, 'name': 'TV Movie'}, {'id': 107...   \n",
       "45353  [{'id': 27, 'name': 'Horror'}, {'id': 878, 'na...   \n",
       "45358                     [{'id': 35, 'name': 'Comedy'}]   \n",
       "\n",
       "                                                overview  \\\n",
       "2      A family wedding reignites the ancient feud be...   \n",
       "4      Just when George Banks has recovered from his ...   \n",
       "9      James Bond must unmask the mysterious head of ...   \n",
       "12     An outcast half-wolf risks his life to prevent...   \n",
       "18     Summoned from an ashram in Tibet, Ace finds hi...   \n",
       "...                                                  ...   \n",
       "45240  Seven more first-hand accounts of sexual awake...   \n",
       "45241  A fake documentary about the sex lives of teen...   \n",
       "45258  When the pressure to be royal becomes too much...   \n",
       "45353  A deformed tormented girl drowns herself after...   \n",
       "45358  Sid and Bernie keep having their amorous inten...   \n",
       "\n",
       "                                                 tagline  \\\n",
       "2      Still Yelling. Still Fighting. Still Ready for...   \n",
       "4      Just When His World Is Back To Normal... He's ...   \n",
       "9                   No limits. No fears. No substitutes.   \n",
       "12                        Part Dog. Part Wolf. All Hero.   \n",
       "18               New animals. New adventures. Same hair.   \n",
       "...                                                  ...   \n",
       "45240          Young, Willing and Oh So Eager to Please!   \n",
       "45241  Straight A's all the way ... But not in the cl...   \n",
       "45258                                    Long live evil.   \n",
       "45353  Now Frankenstein has created a beautiful woman...   \n",
       "45358               Fun and games in the great outdoors!   \n",
       "\n",
       "                                                keywords  \\\n",
       "2      {'id': 119050, 'name': 'Grumpy Old Men Collect...   \n",
       "4      {'id': 96871, 'name': 'Father of the Bride Col...   \n",
       "9      {'id': 645, 'name': 'James Bond Collection', '...   \n",
       "12     {'id': 117693, 'name': 'Balto Collection', 'po...   \n",
       "18     {'id': 3167, 'name': 'Ace Ventura Collection',...   \n",
       "...                                                  ...   \n",
       "45240  {'id': 304809, 'name': 'Schoolgirl Report Coll...   \n",
       "45241  {'id': 304809, 'name': 'Schoolgirl Report Coll...   \n",
       "45258  {'id': 466463, 'name': 'Descendants Collection...   \n",
       "45353  {'id': 123720, 'name': 'Frankenstein (Hammer S...   \n",
       "45358  {'id': 37261, 'name': 'The Carry On Collection...   \n",
       "\n",
       "                                                    cast  \\\n",
       "2      [{'cast_id': 2, 'character': 'Max Goldman', 'c...   \n",
       "4      [{'cast_id': 1, 'character': 'George Banks', '...   \n",
       "9      [{'cast_id': 1, 'character': 'James Bond', 'cr...   \n",
       "12     [{'cast_id': 1, 'character': 'Balto (voice)', ...   \n",
       "18     [{'cast_id': 1, 'character': 'Ace Ventura', 'c...   \n",
       "...                                                  ...   \n",
       "45240  [{'cast_id': 6, 'character': 'Franck', 'credit...   \n",
       "45241  [{'cast_id': 1, 'character': 'Bruno', 'credit_...   \n",
       "45258  [{'cast_id': 4, 'character': 'Manikkam / Manic...   \n",
       "45353  [{'cast_id': 2, 'character': 'Le comte Godefro...   \n",
       "45358  [{'cast_id': 1, 'character': 'Hayden Walsh', '...   \n",
       "\n",
       "                                                    crew  \n",
       "2      [{'credit_id': '52fe466a9251416c75077a89', 'de...  \n",
       "4      [{'credit_id': '52fe44959251416c75039ed7', 'de...  \n",
       "9      [{'credit_id': '52fe426ec3a36847f801e14b', 'de...  \n",
       "12     [{'credit_id': '593f24b9c3a3680369002371', 'de...  \n",
       "18     [{'credit_id': '52fe44dfc3a36847f80af28b', 'de...  \n",
       "...                                                  ...  \n",
       "45240  [{'credit_id': '52fe4a1cc3a36847f81ba4a5', 'de...  \n",
       "45241  [{'credit_id': '5396c2cc0e0a266dc5008807', 'de...  \n",
       "45258  [{'credit_id': '58bc1ba0c3a368515d01dc3e', 'de...  \n",
       "45353  [{'credit_id': '52fe4f37c3a36847f82c5efb', 'de...  \n",
       "45358  [{'credit_id': '52fe46a3c3a36847f810a04b', 'de...  \n",
       "\n",
       "[2572 rows x 7 columns]"
      ]
     },
     "execution_count": 24,
     "metadata": {},
     "output_type": "execute_result"
    }
   ],
   "source": [
    "# double check and drop all nan values\n",
    "final_df2 = final_df2.dropna()\n",
    "final_df2"
   ]
  },
  {
   "cell_type": "markdown",
   "id": "d3d75d91",
   "metadata": {},
   "source": [
    "# "
   ]
  },
  {
   "cell_type": "markdown",
   "id": "2a5c7e7b",
   "metadata": {},
   "source": [
    "# Cancatenate:   final_df1   +   final_df2  =  final_df"
   ]
  },
  {
   "cell_type": "code",
   "execution_count": 25,
   "id": "aa712a8c",
   "metadata": {},
   "outputs": [
    {
     "data": {
      "text/plain": [
       "(4806, 7)"
      ]
     },
     "execution_count": 25,
     "metadata": {},
     "output_type": "execute_result"
    }
   ],
   "source": [
    "final_df1.shape"
   ]
  },
  {
   "cell_type": "code",
   "execution_count": 26,
   "id": "175e9852",
   "metadata": {},
   "outputs": [
    {
     "data": {
      "text/plain": [
       "(2572, 7)"
      ]
     },
     "execution_count": 26,
     "metadata": {},
     "output_type": "execute_result"
    }
   ],
   "source": [
    "final_df2.shape"
   ]
  },
  {
   "cell_type": "code",
   "execution_count": 27,
   "id": "833918c0",
   "metadata": {},
   "outputs": [],
   "source": [
    "final_df = pd.concat([final_df2, final_df1], axis=0, ignore_index=True)"
   ]
  },
  {
   "cell_type": "code",
   "execution_count": 28,
   "id": "4410c269",
   "metadata": {},
   "outputs": [
    {
     "data": {
      "text/plain": [
       "(7378, 7)"
      ]
     },
     "execution_count": 28,
     "metadata": {},
     "output_type": "execute_result"
    }
   ],
   "source": [
    "final_df.shape"
   ]
  },
  {
   "cell_type": "code",
   "execution_count": 29,
   "id": "4ae1b6ce",
   "metadata": {},
   "outputs": [
    {
     "data": {
      "text/html": [
       "<div>\n",
       "<style scoped>\n",
       "    .dataframe tbody tr th:only-of-type {\n",
       "        vertical-align: middle;\n",
       "    }\n",
       "\n",
       "    .dataframe tbody tr th {\n",
       "        vertical-align: top;\n",
       "    }\n",
       "\n",
       "    .dataframe thead th {\n",
       "        text-align: right;\n",
       "    }\n",
       "</style>\n",
       "<table border=\"1\" class=\"dataframe\">\n",
       "  <thead>\n",
       "    <tr style=\"text-align: right;\">\n",
       "      <th></th>\n",
       "      <th>title</th>\n",
       "      <th>genres</th>\n",
       "      <th>overview</th>\n",
       "      <th>tagline</th>\n",
       "      <th>keywords</th>\n",
       "      <th>cast</th>\n",
       "      <th>crew</th>\n",
       "    </tr>\n",
       "  </thead>\n",
       "  <tbody>\n",
       "    <tr>\n",
       "      <th>0</th>\n",
       "      <td>Grumpier Old Men</td>\n",
       "      <td>[{'id': 10749, 'name': 'Romance'}, {'id': 35, ...</td>\n",
       "      <td>A family wedding reignites the ancient feud be...</td>\n",
       "      <td>Still Yelling. Still Fighting. Still Ready for...</td>\n",
       "      <td>{'id': 119050, 'name': 'Grumpy Old Men Collect...</td>\n",
       "      <td>[{'cast_id': 2, 'character': 'Max Goldman', 'c...</td>\n",
       "      <td>[{'credit_id': '52fe466a9251416c75077a89', 'de...</td>\n",
       "    </tr>\n",
       "    <tr>\n",
       "      <th>1</th>\n",
       "      <td>Father of the Bride Part II</td>\n",
       "      <td>[{'id': 35, 'name': 'Comedy'}]</td>\n",
       "      <td>Just when George Banks has recovered from his ...</td>\n",
       "      <td>Just When His World Is Back To Normal... He's ...</td>\n",
       "      <td>{'id': 96871, 'name': 'Father of the Bride Col...</td>\n",
       "      <td>[{'cast_id': 1, 'character': 'George Banks', '...</td>\n",
       "      <td>[{'credit_id': '52fe44959251416c75039ed7', 'de...</td>\n",
       "    </tr>\n",
       "    <tr>\n",
       "      <th>2</th>\n",
       "      <td>GoldenEye</td>\n",
       "      <td>[{'id': 12, 'name': 'Adventure'}, {'id': 28, '...</td>\n",
       "      <td>James Bond must unmask the mysterious head of ...</td>\n",
       "      <td>No limits. No fears. No substitutes.</td>\n",
       "      <td>{'id': 645, 'name': 'James Bond Collection', '...</td>\n",
       "      <td>[{'cast_id': 1, 'character': 'James Bond', 'cr...</td>\n",
       "      <td>[{'credit_id': '52fe426ec3a36847f801e14b', 'de...</td>\n",
       "    </tr>\n",
       "    <tr>\n",
       "      <th>3</th>\n",
       "      <td>Balto</td>\n",
       "      <td>[{'id': 10751, 'name': 'Family'}, {'id': 16, '...</td>\n",
       "      <td>An outcast half-wolf risks his life to prevent...</td>\n",
       "      <td>Part Dog. Part Wolf. All Hero.</td>\n",
       "      <td>{'id': 117693, 'name': 'Balto Collection', 'po...</td>\n",
       "      <td>[{'cast_id': 1, 'character': 'Balto (voice)', ...</td>\n",
       "      <td>[{'credit_id': '593f24b9c3a3680369002371', 'de...</td>\n",
       "    </tr>\n",
       "    <tr>\n",
       "      <th>4</th>\n",
       "      <td>Ace Ventura: When Nature Calls</td>\n",
       "      <td>[{'id': 80, 'name': 'Crime'}, {'id': 35, 'name...</td>\n",
       "      <td>Summoned from an ashram in Tibet, Ace finds hi...</td>\n",
       "      <td>New animals. New adventures. Same hair.</td>\n",
       "      <td>{'id': 3167, 'name': 'Ace Ventura Collection',...</td>\n",
       "      <td>[{'cast_id': 1, 'character': 'Ace Ventura', 'c...</td>\n",
       "      <td>[{'credit_id': '52fe44dfc3a36847f80af28b', 'de...</td>\n",
       "    </tr>\n",
       "    <tr>\n",
       "      <th>...</th>\n",
       "      <td>...</td>\n",
       "      <td>...</td>\n",
       "      <td>...</td>\n",
       "      <td>...</td>\n",
       "      <td>...</td>\n",
       "      <td>...</td>\n",
       "      <td>...</td>\n",
       "    </tr>\n",
       "    <tr>\n",
       "      <th>7373</th>\n",
       "      <td>El Mariachi</td>\n",
       "      <td>[{\"id\": 28, \"name\": \"Action\"}, {\"id\": 80, \"nam...</td>\n",
       "      <td>El Mariachi just wants to play his guitar and ...</td>\n",
       "      <td>He didn't come looking for trouble, but troubl...</td>\n",
       "      <td>[{\"id\": 5616, \"name\": \"united states\\u2013mexi...</td>\n",
       "      <td>[{\"cast_id\": 1, \"character\": \"El Mariachi\", \"c...</td>\n",
       "      <td>[{\"credit_id\": \"52fe44eec3a36847f80b280b\", \"de...</td>\n",
       "    </tr>\n",
       "    <tr>\n",
       "      <th>7374</th>\n",
       "      <td>Newlyweds</td>\n",
       "      <td>[{\"id\": 35, \"name\": \"Comedy\"}, {\"id\": 10749, \"...</td>\n",
       "      <td>A newlywed couple's honeymoon is upended by th...</td>\n",
       "      <td>A newlywed couple's honeymoon is upended by th...</td>\n",
       "      <td>[]</td>\n",
       "      <td>[{\"cast_id\": 1, \"character\": \"Buzzy\", \"credit_...</td>\n",
       "      <td>[{\"credit_id\": \"52fe487dc3a368484e0fb013\", \"de...</td>\n",
       "    </tr>\n",
       "    <tr>\n",
       "      <th>7375</th>\n",
       "      <td>Signed, Sealed, Delivered</td>\n",
       "      <td>[{\"id\": 35, \"name\": \"Comedy\"}, {\"id\": 18, \"nam...</td>\n",
       "      <td>\"Signed, Sealed, Delivered\" introduces a dedic...</td>\n",
       "      <td></td>\n",
       "      <td>[{\"id\": 248, \"name\": \"date\"}, {\"id\": 699, \"nam...</td>\n",
       "      <td>[{\"cast_id\": 8, \"character\": \"Oliver O\\u2019To...</td>\n",
       "      <td>[{\"credit_id\": \"52fe4df3c3a36847f8275ecf\", \"de...</td>\n",
       "    </tr>\n",
       "    <tr>\n",
       "      <th>7376</th>\n",
       "      <td>Shanghai Calling</td>\n",
       "      <td>[]</td>\n",
       "      <td>When ambitious New York attorney Sam is sent t...</td>\n",
       "      <td>A New Yorker in Shanghai</td>\n",
       "      <td>[]</td>\n",
       "      <td>[{\"cast_id\": 3, \"character\": \"Sam\", \"credit_id...</td>\n",
       "      <td>[{\"credit_id\": \"52fe4ad9c3a368484e16a36b\", \"de...</td>\n",
       "    </tr>\n",
       "    <tr>\n",
       "      <th>7377</th>\n",
       "      <td>My Date with Drew</td>\n",
       "      <td>[{\"id\": 99, \"name\": \"Documentary\"}]</td>\n",
       "      <td>Ever since the second grade when he first saw ...</td>\n",
       "      <td></td>\n",
       "      <td>[{\"id\": 1523, \"name\": \"obsession\"}, {\"id\": 224...</td>\n",
       "      <td>[{\"cast_id\": 3, \"character\": \"Herself\", \"credi...</td>\n",
       "      <td>[{\"credit_id\": \"58ce021b9251415a390165d9\", \"de...</td>\n",
       "    </tr>\n",
       "  </tbody>\n",
       "</table>\n",
       "<p>7378 rows × 7 columns</p>\n",
       "</div>"
      ],
      "text/plain": [
       "                               title  \\\n",
       "0                   Grumpier Old Men   \n",
       "1        Father of the Bride Part II   \n",
       "2                          GoldenEye   \n",
       "3                              Balto   \n",
       "4     Ace Ventura: When Nature Calls   \n",
       "...                              ...   \n",
       "7373                     El Mariachi   \n",
       "7374                       Newlyweds   \n",
       "7375       Signed, Sealed, Delivered   \n",
       "7376                Shanghai Calling   \n",
       "7377               My Date with Drew   \n",
       "\n",
       "                                                 genres  \\\n",
       "0     [{'id': 10749, 'name': 'Romance'}, {'id': 35, ...   \n",
       "1                        [{'id': 35, 'name': 'Comedy'}]   \n",
       "2     [{'id': 12, 'name': 'Adventure'}, {'id': 28, '...   \n",
       "3     [{'id': 10751, 'name': 'Family'}, {'id': 16, '...   \n",
       "4     [{'id': 80, 'name': 'Crime'}, {'id': 35, 'name...   \n",
       "...                                                 ...   \n",
       "7373  [{\"id\": 28, \"name\": \"Action\"}, {\"id\": 80, \"nam...   \n",
       "7374  [{\"id\": 35, \"name\": \"Comedy\"}, {\"id\": 10749, \"...   \n",
       "7375  [{\"id\": 35, \"name\": \"Comedy\"}, {\"id\": 18, \"nam...   \n",
       "7376                                                 []   \n",
       "7377                [{\"id\": 99, \"name\": \"Documentary\"}]   \n",
       "\n",
       "                                               overview  \\\n",
       "0     A family wedding reignites the ancient feud be...   \n",
       "1     Just when George Banks has recovered from his ...   \n",
       "2     James Bond must unmask the mysterious head of ...   \n",
       "3     An outcast half-wolf risks his life to prevent...   \n",
       "4     Summoned from an ashram in Tibet, Ace finds hi...   \n",
       "...                                                 ...   \n",
       "7373  El Mariachi just wants to play his guitar and ...   \n",
       "7374  A newlywed couple's honeymoon is upended by th...   \n",
       "7375  \"Signed, Sealed, Delivered\" introduces a dedic...   \n",
       "7376  When ambitious New York attorney Sam is sent t...   \n",
       "7377  Ever since the second grade when he first saw ...   \n",
       "\n",
       "                                                tagline  \\\n",
       "0     Still Yelling. Still Fighting. Still Ready for...   \n",
       "1     Just When His World Is Back To Normal... He's ...   \n",
       "2                  No limits. No fears. No substitutes.   \n",
       "3                        Part Dog. Part Wolf. All Hero.   \n",
       "4               New animals. New adventures. Same hair.   \n",
       "...                                                 ...   \n",
       "7373  He didn't come looking for trouble, but troubl...   \n",
       "7374  A newlywed couple's honeymoon is upended by th...   \n",
       "7375                                                      \n",
       "7376                           A New Yorker in Shanghai   \n",
       "7377                                                      \n",
       "\n",
       "                                               keywords  \\\n",
       "0     {'id': 119050, 'name': 'Grumpy Old Men Collect...   \n",
       "1     {'id': 96871, 'name': 'Father of the Bride Col...   \n",
       "2     {'id': 645, 'name': 'James Bond Collection', '...   \n",
       "3     {'id': 117693, 'name': 'Balto Collection', 'po...   \n",
       "4     {'id': 3167, 'name': 'Ace Ventura Collection',...   \n",
       "...                                                 ...   \n",
       "7373  [{\"id\": 5616, \"name\": \"united states\\u2013mexi...   \n",
       "7374                                                 []   \n",
       "7375  [{\"id\": 248, \"name\": \"date\"}, {\"id\": 699, \"nam...   \n",
       "7376                                                 []   \n",
       "7377  [{\"id\": 1523, \"name\": \"obsession\"}, {\"id\": 224...   \n",
       "\n",
       "                                                   cast  \\\n",
       "0     [{'cast_id': 2, 'character': 'Max Goldman', 'c...   \n",
       "1     [{'cast_id': 1, 'character': 'George Banks', '...   \n",
       "2     [{'cast_id': 1, 'character': 'James Bond', 'cr...   \n",
       "3     [{'cast_id': 1, 'character': 'Balto (voice)', ...   \n",
       "4     [{'cast_id': 1, 'character': 'Ace Ventura', 'c...   \n",
       "...                                                 ...   \n",
       "7373  [{\"cast_id\": 1, \"character\": \"El Mariachi\", \"c...   \n",
       "7374  [{\"cast_id\": 1, \"character\": \"Buzzy\", \"credit_...   \n",
       "7375  [{\"cast_id\": 8, \"character\": \"Oliver O\\u2019To...   \n",
       "7376  [{\"cast_id\": 3, \"character\": \"Sam\", \"credit_id...   \n",
       "7377  [{\"cast_id\": 3, \"character\": \"Herself\", \"credi...   \n",
       "\n",
       "                                                   crew  \n",
       "0     [{'credit_id': '52fe466a9251416c75077a89', 'de...  \n",
       "1     [{'credit_id': '52fe44959251416c75039ed7', 'de...  \n",
       "2     [{'credit_id': '52fe426ec3a36847f801e14b', 'de...  \n",
       "3     [{'credit_id': '593f24b9c3a3680369002371', 'de...  \n",
       "4     [{'credit_id': '52fe44dfc3a36847f80af28b', 'de...  \n",
       "...                                                 ...  \n",
       "7373  [{\"credit_id\": \"52fe44eec3a36847f80b280b\", \"de...  \n",
       "7374  [{\"credit_id\": \"52fe487dc3a368484e0fb013\", \"de...  \n",
       "7375  [{\"credit_id\": \"52fe4df3c3a36847f8275ecf\", \"de...  \n",
       "7376  [{\"credit_id\": \"52fe4ad9c3a368484e16a36b\", \"de...  \n",
       "7377  [{\"credit_id\": \"58ce021b9251415a390165d9\", \"de...  \n",
       "\n",
       "[7378 rows x 7 columns]"
      ]
     },
     "execution_count": 29,
     "metadata": {},
     "output_type": "execute_result"
    }
   ],
   "source": [
    "final_df"
   ]
  },
  {
   "cell_type": "code",
   "execution_count": 30,
   "id": "87fd5a52",
   "metadata": {},
   "outputs": [],
   "source": [
    "final_df = final_df.dropna()"
   ]
  },
  {
   "cell_type": "code",
   "execution_count": 31,
   "id": "0aa0ec1c",
   "metadata": {},
   "outputs": [
    {
     "data": {
      "text/plain": [
       "(7378, 7)"
      ]
     },
     "execution_count": 31,
     "metadata": {},
     "output_type": "execute_result"
    }
   ],
   "source": [
    "final_df.shape"
   ]
  },
  {
   "cell_type": "code",
   "execution_count": 32,
   "id": "4e7234aa",
   "metadata": {},
   "outputs": [],
   "source": [
    "# drop first 12867 rows\n",
    "# N = 39312\n",
    "# final_df = final_df.iloc[:-N]\n",
    "# final_df"
   ]
  },
  {
   "cell_type": "markdown",
   "id": "8367297e",
   "metadata": {},
   "source": [
    "# "
   ]
  },
  {
   "cell_type": "markdown",
   "id": "ab7b2c0f",
   "metadata": {},
   "source": [
    "# Editing genres"
   ]
  },
  {
   "cell_type": "code",
   "execution_count": 33,
   "id": "89dd8b23",
   "metadata": {},
   "outputs": [
    {
     "data": {
      "text/plain": [
       "title       0\n",
       "genres      0\n",
       "overview    0\n",
       "tagline     0\n",
       "keywords    0\n",
       "cast        0\n",
       "crew        0\n",
       "dtype: int64"
      ]
     },
     "execution_count": 33,
     "metadata": {},
     "output_type": "execute_result"
    }
   ],
   "source": [
    "# hence there are no 'nan' values in final_df\n",
    "final_df.isnull().sum()"
   ]
  },
  {
   "cell_type": "code",
   "execution_count": 34,
   "id": "b05b9136",
   "metadata": {},
   "outputs": [
    {
     "data": {
      "text/plain": [
       "\"[{'id': 10749, 'name': 'Romance'}, {'id': 35, 'name': 'Comedy'}]\""
      ]
     },
     "execution_count": 34,
     "metadata": {},
     "output_type": "execute_result"
    }
   ],
   "source": [
    "# remove all empty genre columns\n",
    "final_df.iloc[0].genres"
   ]
  },
  {
   "cell_type": "code",
   "execution_count": 35,
   "id": "7847e932",
   "metadata": {},
   "outputs": [],
   "source": [
    "# it is string so convert it into integer using --> 'ast' module\n",
    "\n",
    "import ast\n",
    "\n",
    "#helper function to return list of genres, keywords etc.\n",
    "def convert(obj):\n",
    "    List = []\n",
    "    for i in ast.literal_eval(obj):\n",
    "        List.append(i['name'])\n",
    "    return List"
   ]
  },
  {
   "cell_type": "code",
   "execution_count": 36,
   "id": "c304b75a",
   "metadata": {},
   "outputs": [],
   "source": [
    "final_df['genres'] = final_df['genres'].apply(convert)"
   ]
  },
  {
   "cell_type": "code",
   "execution_count": 37,
   "id": "cdb2f02d",
   "metadata": {},
   "outputs": [
    {
     "data": {
      "text/html": [
       "<div>\n",
       "<style scoped>\n",
       "    .dataframe tbody tr th:only-of-type {\n",
       "        vertical-align: middle;\n",
       "    }\n",
       "\n",
       "    .dataframe tbody tr th {\n",
       "        vertical-align: top;\n",
       "    }\n",
       "\n",
       "    .dataframe thead th {\n",
       "        text-align: right;\n",
       "    }\n",
       "</style>\n",
       "<table border=\"1\" class=\"dataframe\">\n",
       "  <thead>\n",
       "    <tr style=\"text-align: right;\">\n",
       "      <th></th>\n",
       "      <th>title</th>\n",
       "      <th>genres</th>\n",
       "      <th>overview</th>\n",
       "      <th>tagline</th>\n",
       "      <th>keywords</th>\n",
       "      <th>cast</th>\n",
       "      <th>crew</th>\n",
       "    </tr>\n",
       "  </thead>\n",
       "  <tbody>\n",
       "    <tr>\n",
       "      <th>0</th>\n",
       "      <td>Grumpier Old Men</td>\n",
       "      <td>[Romance, Comedy]</td>\n",
       "      <td>A family wedding reignites the ancient feud be...</td>\n",
       "      <td>Still Yelling. Still Fighting. Still Ready for...</td>\n",
       "      <td>{'id': 119050, 'name': 'Grumpy Old Men Collect...</td>\n",
       "      <td>[{'cast_id': 2, 'character': 'Max Goldman', 'c...</td>\n",
       "      <td>[{'credit_id': '52fe466a9251416c75077a89', 'de...</td>\n",
       "    </tr>\n",
       "    <tr>\n",
       "      <th>1</th>\n",
       "      <td>Father of the Bride Part II</td>\n",
       "      <td>[Comedy]</td>\n",
       "      <td>Just when George Banks has recovered from his ...</td>\n",
       "      <td>Just When His World Is Back To Normal... He's ...</td>\n",
       "      <td>{'id': 96871, 'name': 'Father of the Bride Col...</td>\n",
       "      <td>[{'cast_id': 1, 'character': 'George Banks', '...</td>\n",
       "      <td>[{'credit_id': '52fe44959251416c75039ed7', 'de...</td>\n",
       "    </tr>\n",
       "    <tr>\n",
       "      <th>2</th>\n",
       "      <td>GoldenEye</td>\n",
       "      <td>[Adventure, Action, Thriller]</td>\n",
       "      <td>James Bond must unmask the mysterious head of ...</td>\n",
       "      <td>No limits. No fears. No substitutes.</td>\n",
       "      <td>{'id': 645, 'name': 'James Bond Collection', '...</td>\n",
       "      <td>[{'cast_id': 1, 'character': 'James Bond', 'cr...</td>\n",
       "      <td>[{'credit_id': '52fe426ec3a36847f801e14b', 'de...</td>\n",
       "    </tr>\n",
       "  </tbody>\n",
       "</table>\n",
       "</div>"
      ],
      "text/plain": [
       "                         title                         genres  \\\n",
       "0             Grumpier Old Men              [Romance, Comedy]   \n",
       "1  Father of the Bride Part II                       [Comedy]   \n",
       "2                    GoldenEye  [Adventure, Action, Thriller]   \n",
       "\n",
       "                                            overview  \\\n",
       "0  A family wedding reignites the ancient feud be...   \n",
       "1  Just when George Banks has recovered from his ...   \n",
       "2  James Bond must unmask the mysterious head of ...   \n",
       "\n",
       "                                             tagline  \\\n",
       "0  Still Yelling. Still Fighting. Still Ready for...   \n",
       "1  Just When His World Is Back To Normal... He's ...   \n",
       "2               No limits. No fears. No substitutes.   \n",
       "\n",
       "                                            keywords  \\\n",
       "0  {'id': 119050, 'name': 'Grumpy Old Men Collect...   \n",
       "1  {'id': 96871, 'name': 'Father of the Bride Col...   \n",
       "2  {'id': 645, 'name': 'James Bond Collection', '...   \n",
       "\n",
       "                                                cast  \\\n",
       "0  [{'cast_id': 2, 'character': 'Max Goldman', 'c...   \n",
       "1  [{'cast_id': 1, 'character': 'George Banks', '...   \n",
       "2  [{'cast_id': 1, 'character': 'James Bond', 'cr...   \n",
       "\n",
       "                                                crew  \n",
       "0  [{'credit_id': '52fe466a9251416c75077a89', 'de...  \n",
       "1  [{'credit_id': '52fe44959251416c75039ed7', 'de...  \n",
       "2  [{'credit_id': '52fe426ec3a36847f801e14b', 'de...  "
      ]
     },
     "execution_count": 37,
     "metadata": {},
     "output_type": "execute_result"
    }
   ],
   "source": [
    "final_df.head(3)"
   ]
  },
  {
   "cell_type": "markdown",
   "id": "819955ba",
   "metadata": {},
   "source": [
    "# "
   ]
  },
  {
   "cell_type": "markdown",
   "id": "9b57474c",
   "metadata": {},
   "source": [
    "# Editing cast"
   ]
  },
  {
   "cell_type": "code",
   "execution_count": 38,
   "id": "a4731d3c",
   "metadata": {},
   "outputs": [],
   "source": [
    "#helper function to return first 3 cast names of each movie\n",
    "\n",
    "def convertCast(obj):\n",
    "    List = []\n",
    "    counter = 0;\n",
    "    for i in ast.literal_eval(obj):\n",
    "        if counter < 3:\n",
    "            List.append(i['name'])\n",
    "            counter += 1\n",
    "        else:\n",
    "            break\n",
    "    return List"
   ]
  },
  {
   "cell_type": "code",
   "execution_count": 39,
   "id": "204ba8d8",
   "metadata": {},
   "outputs": [],
   "source": [
    "#store result in movies['cast']\n",
    "final_df['cast'] = final_df['cast'].apply(convertCast)"
   ]
  },
  {
   "cell_type": "code",
   "execution_count": 40,
   "id": "53698e75",
   "metadata": {},
   "outputs": [
    {
     "data": {
      "text/html": [
       "<div>\n",
       "<style scoped>\n",
       "    .dataframe tbody tr th:only-of-type {\n",
       "        vertical-align: middle;\n",
       "    }\n",
       "\n",
       "    .dataframe tbody tr th {\n",
       "        vertical-align: top;\n",
       "    }\n",
       "\n",
       "    .dataframe thead th {\n",
       "        text-align: right;\n",
       "    }\n",
       "</style>\n",
       "<table border=\"1\" class=\"dataframe\">\n",
       "  <thead>\n",
       "    <tr style=\"text-align: right;\">\n",
       "      <th></th>\n",
       "      <th>title</th>\n",
       "      <th>genres</th>\n",
       "      <th>overview</th>\n",
       "      <th>tagline</th>\n",
       "      <th>keywords</th>\n",
       "      <th>cast</th>\n",
       "      <th>crew</th>\n",
       "    </tr>\n",
       "  </thead>\n",
       "  <tbody>\n",
       "    <tr>\n",
       "      <th>0</th>\n",
       "      <td>Grumpier Old Men</td>\n",
       "      <td>[Romance, Comedy]</td>\n",
       "      <td>A family wedding reignites the ancient feud be...</td>\n",
       "      <td>Still Yelling. Still Fighting. Still Ready for...</td>\n",
       "      <td>{'id': 119050, 'name': 'Grumpy Old Men Collect...</td>\n",
       "      <td>[Walter Matthau, Jack Lemmon, Ann-Margret]</td>\n",
       "      <td>[{'credit_id': '52fe466a9251416c75077a89', 'de...</td>\n",
       "    </tr>\n",
       "    <tr>\n",
       "      <th>1</th>\n",
       "      <td>Father of the Bride Part II</td>\n",
       "      <td>[Comedy]</td>\n",
       "      <td>Just when George Banks has recovered from his ...</td>\n",
       "      <td>Just When His World Is Back To Normal... He's ...</td>\n",
       "      <td>{'id': 96871, 'name': 'Father of the Bride Col...</td>\n",
       "      <td>[Steve Martin, Diane Keaton, Martin Short]</td>\n",
       "      <td>[{'credit_id': '52fe44959251416c75039ed7', 'de...</td>\n",
       "    </tr>\n",
       "    <tr>\n",
       "      <th>2</th>\n",
       "      <td>GoldenEye</td>\n",
       "      <td>[Adventure, Action, Thriller]</td>\n",
       "      <td>James Bond must unmask the mysterious head of ...</td>\n",
       "      <td>No limits. No fears. No substitutes.</td>\n",
       "      <td>{'id': 645, 'name': 'James Bond Collection', '...</td>\n",
       "      <td>[Pierce Brosnan, Sean Bean, Izabella Scorupco]</td>\n",
       "      <td>[{'credit_id': '52fe426ec3a36847f801e14b', 'de...</td>\n",
       "    </tr>\n",
       "  </tbody>\n",
       "</table>\n",
       "</div>"
      ],
      "text/plain": [
       "                         title                         genres  \\\n",
       "0             Grumpier Old Men              [Romance, Comedy]   \n",
       "1  Father of the Bride Part II                       [Comedy]   \n",
       "2                    GoldenEye  [Adventure, Action, Thriller]   \n",
       "\n",
       "                                            overview  \\\n",
       "0  A family wedding reignites the ancient feud be...   \n",
       "1  Just when George Banks has recovered from his ...   \n",
       "2  James Bond must unmask the mysterious head of ...   \n",
       "\n",
       "                                             tagline  \\\n",
       "0  Still Yelling. Still Fighting. Still Ready for...   \n",
       "1  Just When His World Is Back To Normal... He's ...   \n",
       "2               No limits. No fears. No substitutes.   \n",
       "\n",
       "                                            keywords  \\\n",
       "0  {'id': 119050, 'name': 'Grumpy Old Men Collect...   \n",
       "1  {'id': 96871, 'name': 'Father of the Bride Col...   \n",
       "2  {'id': 645, 'name': 'James Bond Collection', '...   \n",
       "\n",
       "                                             cast  \\\n",
       "0      [Walter Matthau, Jack Lemmon, Ann-Margret]   \n",
       "1      [Steve Martin, Diane Keaton, Martin Short]   \n",
       "2  [Pierce Brosnan, Sean Bean, Izabella Scorupco]   \n",
       "\n",
       "                                                crew  \n",
       "0  [{'credit_id': '52fe466a9251416c75077a89', 'de...  \n",
       "1  [{'credit_id': '52fe44959251416c75039ed7', 'de...  \n",
       "2  [{'credit_id': '52fe426ec3a36847f801e14b', 'de...  "
      ]
     },
     "execution_count": 40,
     "metadata": {},
     "output_type": "execute_result"
    }
   ],
   "source": [
    "final_df.head(3)"
   ]
  },
  {
   "cell_type": "markdown",
   "id": "164a84c4",
   "metadata": {},
   "source": [
    "# "
   ]
  },
  {
   "cell_type": "markdown",
   "id": "cbe34e0c",
   "metadata": {},
   "source": [
    "# Editing crew"
   ]
  },
  {
   "cell_type": "code",
   "execution_count": 41,
   "id": "8d6c8a55",
   "metadata": {},
   "outputs": [],
   "source": [
    "#we only need director for our purpose\n",
    "\n",
    "#helper function to fetch director\n",
    "def fetch_director(obj):\n",
    "    List = []\n",
    "    for i in ast.literal_eval(obj):\n",
    "        if i['job'] == \"Director\":\n",
    "            List.append(i['name'])\n",
    "            break\n",
    "    return List"
   ]
  },
  {
   "cell_type": "code",
   "execution_count": 42,
   "id": "a1a424e4",
   "metadata": {},
   "outputs": [],
   "source": [
    "final_df['crew'] = final_df['crew'].apply(fetch_director)"
   ]
  },
  {
   "cell_type": "code",
   "execution_count": 43,
   "id": "d18fac07",
   "metadata": {},
   "outputs": [
    {
     "data": {
      "text/html": [
       "<div>\n",
       "<style scoped>\n",
       "    .dataframe tbody tr th:only-of-type {\n",
       "        vertical-align: middle;\n",
       "    }\n",
       "\n",
       "    .dataframe tbody tr th {\n",
       "        vertical-align: top;\n",
       "    }\n",
       "\n",
       "    .dataframe thead th {\n",
       "        text-align: right;\n",
       "    }\n",
       "</style>\n",
       "<table border=\"1\" class=\"dataframe\">\n",
       "  <thead>\n",
       "    <tr style=\"text-align: right;\">\n",
       "      <th></th>\n",
       "      <th>title</th>\n",
       "      <th>genres</th>\n",
       "      <th>overview</th>\n",
       "      <th>tagline</th>\n",
       "      <th>keywords</th>\n",
       "      <th>cast</th>\n",
       "      <th>crew</th>\n",
       "    </tr>\n",
       "  </thead>\n",
       "  <tbody>\n",
       "    <tr>\n",
       "      <th>0</th>\n",
       "      <td>Grumpier Old Men</td>\n",
       "      <td>[Romance, Comedy]</td>\n",
       "      <td>A family wedding reignites the ancient feud be...</td>\n",
       "      <td>Still Yelling. Still Fighting. Still Ready for...</td>\n",
       "      <td>{'id': 119050, 'name': 'Grumpy Old Men Collect...</td>\n",
       "      <td>[Walter Matthau, Jack Lemmon, Ann-Margret]</td>\n",
       "      <td>[Howard Deutch]</td>\n",
       "    </tr>\n",
       "    <tr>\n",
       "      <th>1</th>\n",
       "      <td>Father of the Bride Part II</td>\n",
       "      <td>[Comedy]</td>\n",
       "      <td>Just when George Banks has recovered from his ...</td>\n",
       "      <td>Just When His World Is Back To Normal... He's ...</td>\n",
       "      <td>{'id': 96871, 'name': 'Father of the Bride Col...</td>\n",
       "      <td>[Steve Martin, Diane Keaton, Martin Short]</td>\n",
       "      <td>[Charles Shyer]</td>\n",
       "    </tr>\n",
       "    <tr>\n",
       "      <th>2</th>\n",
       "      <td>GoldenEye</td>\n",
       "      <td>[Adventure, Action, Thriller]</td>\n",
       "      <td>James Bond must unmask the mysterious head of ...</td>\n",
       "      <td>No limits. No fears. No substitutes.</td>\n",
       "      <td>{'id': 645, 'name': 'James Bond Collection', '...</td>\n",
       "      <td>[Pierce Brosnan, Sean Bean, Izabella Scorupco]</td>\n",
       "      <td>[Martin Campbell]</td>\n",
       "    </tr>\n",
       "  </tbody>\n",
       "</table>\n",
       "</div>"
      ],
      "text/plain": [
       "                         title                         genres  \\\n",
       "0             Grumpier Old Men              [Romance, Comedy]   \n",
       "1  Father of the Bride Part II                       [Comedy]   \n",
       "2                    GoldenEye  [Adventure, Action, Thriller]   \n",
       "\n",
       "                                            overview  \\\n",
       "0  A family wedding reignites the ancient feud be...   \n",
       "1  Just when George Banks has recovered from his ...   \n",
       "2  James Bond must unmask the mysterious head of ...   \n",
       "\n",
       "                                             tagline  \\\n",
       "0  Still Yelling. Still Fighting. Still Ready for...   \n",
       "1  Just When His World Is Back To Normal... He's ...   \n",
       "2               No limits. No fears. No substitutes.   \n",
       "\n",
       "                                            keywords  \\\n",
       "0  {'id': 119050, 'name': 'Grumpy Old Men Collect...   \n",
       "1  {'id': 96871, 'name': 'Father of the Bride Col...   \n",
       "2  {'id': 645, 'name': 'James Bond Collection', '...   \n",
       "\n",
       "                                             cast               crew  \n",
       "0      [Walter Matthau, Jack Lemmon, Ann-Margret]    [Howard Deutch]  \n",
       "1      [Steve Martin, Diane Keaton, Martin Short]    [Charles Shyer]  \n",
       "2  [Pierce Brosnan, Sean Bean, Izabella Scorupco]  [Martin Campbell]  "
      ]
     },
     "execution_count": 43,
     "metadata": {},
     "output_type": "execute_result"
    }
   ],
   "source": [
    "final_df.head(3)"
   ]
  },
  {
   "cell_type": "markdown",
   "id": "8efee4a5",
   "metadata": {},
   "source": [
    "# "
   ]
  },
  {
   "cell_type": "markdown",
   "id": "8fe6f343",
   "metadata": {},
   "source": [
    "# Editing overview"
   ]
  },
  {
   "cell_type": "code",
   "execution_count": 44,
   "id": "37aa3a86",
   "metadata": {},
   "outputs": [
    {
     "data": {
      "text/plain": [
       "\"A family wedding reignites the ancient feud between next-door neighbors and fishing buddies John and Max. Meanwhile, a sultry Italian divorcée opens a restaurant at the local bait shop, alarming the locals who worry she'll scare the fish away. But she's less interested in seafood than she is in cooking up a hot time with Max.\""
      ]
     },
     "execution_count": 44,
     "metadata": {},
     "output_type": "execute_result"
    }
   ],
   "source": [
    "# check overview data format\n",
    "final_df['overview'][0]"
   ]
  },
  {
   "cell_type": "code",
   "execution_count": 45,
   "id": "0ca02817",
   "metadata": {},
   "outputs": [],
   "source": [
    "# convert this string into list\n",
    "final_df['overview'] = final_df['overview'].apply(lambda x: x.split())"
   ]
  },
  {
   "cell_type": "code",
   "execution_count": 46,
   "id": "c2a5b3eb",
   "metadata": {},
   "outputs": [
    {
     "data": {
      "text/html": [
       "<div>\n",
       "<style scoped>\n",
       "    .dataframe tbody tr th:only-of-type {\n",
       "        vertical-align: middle;\n",
       "    }\n",
       "\n",
       "    .dataframe tbody tr th {\n",
       "        vertical-align: top;\n",
       "    }\n",
       "\n",
       "    .dataframe thead th {\n",
       "        text-align: right;\n",
       "    }\n",
       "</style>\n",
       "<table border=\"1\" class=\"dataframe\">\n",
       "  <thead>\n",
       "    <tr style=\"text-align: right;\">\n",
       "      <th></th>\n",
       "      <th>title</th>\n",
       "      <th>genres</th>\n",
       "      <th>overview</th>\n",
       "      <th>tagline</th>\n",
       "      <th>keywords</th>\n",
       "      <th>cast</th>\n",
       "      <th>crew</th>\n",
       "    </tr>\n",
       "  </thead>\n",
       "  <tbody>\n",
       "    <tr>\n",
       "      <th>0</th>\n",
       "      <td>Grumpier Old Men</td>\n",
       "      <td>[Romance, Comedy]</td>\n",
       "      <td>[A, family, wedding, reignites, the, ancient, ...</td>\n",
       "      <td>Still Yelling. Still Fighting. Still Ready for...</td>\n",
       "      <td>{'id': 119050, 'name': 'Grumpy Old Men Collect...</td>\n",
       "      <td>[Walter Matthau, Jack Lemmon, Ann-Margret]</td>\n",
       "      <td>[Howard Deutch]</td>\n",
       "    </tr>\n",
       "    <tr>\n",
       "      <th>1</th>\n",
       "      <td>Father of the Bride Part II</td>\n",
       "      <td>[Comedy]</td>\n",
       "      <td>[Just, when, George, Banks, has, recovered, fr...</td>\n",
       "      <td>Just When His World Is Back To Normal... He's ...</td>\n",
       "      <td>{'id': 96871, 'name': 'Father of the Bride Col...</td>\n",
       "      <td>[Steve Martin, Diane Keaton, Martin Short]</td>\n",
       "      <td>[Charles Shyer]</td>\n",
       "    </tr>\n",
       "    <tr>\n",
       "      <th>2</th>\n",
       "      <td>GoldenEye</td>\n",
       "      <td>[Adventure, Action, Thriller]</td>\n",
       "      <td>[James, Bond, must, unmask, the, mysterious, h...</td>\n",
       "      <td>No limits. No fears. No substitutes.</td>\n",
       "      <td>{'id': 645, 'name': 'James Bond Collection', '...</td>\n",
       "      <td>[Pierce Brosnan, Sean Bean, Izabella Scorupco]</td>\n",
       "      <td>[Martin Campbell]</td>\n",
       "    </tr>\n",
       "  </tbody>\n",
       "</table>\n",
       "</div>"
      ],
      "text/plain": [
       "                         title                         genres  \\\n",
       "0             Grumpier Old Men              [Romance, Comedy]   \n",
       "1  Father of the Bride Part II                       [Comedy]   \n",
       "2                    GoldenEye  [Adventure, Action, Thriller]   \n",
       "\n",
       "                                            overview  \\\n",
       "0  [A, family, wedding, reignites, the, ancient, ...   \n",
       "1  [Just, when, George, Banks, has, recovered, fr...   \n",
       "2  [James, Bond, must, unmask, the, mysterious, h...   \n",
       "\n",
       "                                             tagline  \\\n",
       "0  Still Yelling. Still Fighting. Still Ready for...   \n",
       "1  Just When His World Is Back To Normal... He's ...   \n",
       "2               No limits. No fears. No substitutes.   \n",
       "\n",
       "                                            keywords  \\\n",
       "0  {'id': 119050, 'name': 'Grumpy Old Men Collect...   \n",
       "1  {'id': 96871, 'name': 'Father of the Bride Col...   \n",
       "2  {'id': 645, 'name': 'James Bond Collection', '...   \n",
       "\n",
       "                                             cast               crew  \n",
       "0      [Walter Matthau, Jack Lemmon, Ann-Margret]    [Howard Deutch]  \n",
       "1      [Steve Martin, Diane Keaton, Martin Short]    [Charles Shyer]  \n",
       "2  [Pierce Brosnan, Sean Bean, Izabella Scorupco]  [Martin Campbell]  "
      ]
     },
     "execution_count": 46,
     "metadata": {},
     "output_type": "execute_result"
    }
   ],
   "source": [
    "final_df.head(3)"
   ]
  },
  {
   "cell_type": "markdown",
   "id": "e51f7f27",
   "metadata": {},
   "source": [
    "# "
   ]
  },
  {
   "cell_type": "markdown",
   "id": "b495e761",
   "metadata": {},
   "source": [
    "# Remove spaces between words of same entity"
   ]
  },
  {
   "cell_type": "code",
   "execution_count": 47,
   "id": "08d05047",
   "metadata": {},
   "outputs": [],
   "source": [
    "# final_df['genres'] = final_df['genres'].apply(lambda x: [i.replace(\" \", \"\") for i in x])\n",
    "# final_df['cast'] = final_df['cast'].apply(lambda x: [i.replace(\" \", \"\") for i in x])\n",
    "# final_df['crew'] = final_df['crew'].apply(lambda x: [i.replace(\" \", \"\") for i in x])"
   ]
  },
  {
   "cell_type": "code",
   "execution_count": 48,
   "id": "66ec08a0",
   "metadata": {},
   "outputs": [
    {
     "data": {
      "text/html": [
       "<div>\n",
       "<style scoped>\n",
       "    .dataframe tbody tr th:only-of-type {\n",
       "        vertical-align: middle;\n",
       "    }\n",
       "\n",
       "    .dataframe tbody tr th {\n",
       "        vertical-align: top;\n",
       "    }\n",
       "\n",
       "    .dataframe thead th {\n",
       "        text-align: right;\n",
       "    }\n",
       "</style>\n",
       "<table border=\"1\" class=\"dataframe\">\n",
       "  <thead>\n",
       "    <tr style=\"text-align: right;\">\n",
       "      <th></th>\n",
       "      <th>title</th>\n",
       "      <th>genres</th>\n",
       "      <th>overview</th>\n",
       "      <th>tagline</th>\n",
       "      <th>keywords</th>\n",
       "      <th>cast</th>\n",
       "      <th>crew</th>\n",
       "    </tr>\n",
       "  </thead>\n",
       "  <tbody>\n",
       "    <tr>\n",
       "      <th>0</th>\n",
       "      <td>Grumpier Old Men</td>\n",
       "      <td>[Romance, Comedy]</td>\n",
       "      <td>[A, family, wedding, reignites, the, ancient, ...</td>\n",
       "      <td>Still Yelling. Still Fighting. Still Ready for...</td>\n",
       "      <td>{'id': 119050, 'name': 'Grumpy Old Men Collect...</td>\n",
       "      <td>[Walter Matthau, Jack Lemmon, Ann-Margret]</td>\n",
       "      <td>[Howard Deutch]</td>\n",
       "    </tr>\n",
       "  </tbody>\n",
       "</table>\n",
       "</div>"
      ],
      "text/plain": [
       "              title             genres  \\\n",
       "0  Grumpier Old Men  [Romance, Comedy]   \n",
       "\n",
       "                                            overview  \\\n",
       "0  [A, family, wedding, reignites, the, ancient, ...   \n",
       "\n",
       "                                             tagline  \\\n",
       "0  Still Yelling. Still Fighting. Still Ready for...   \n",
       "\n",
       "                                            keywords  \\\n",
       "0  {'id': 119050, 'name': 'Grumpy Old Men Collect...   \n",
       "\n",
       "                                         cast             crew  \n",
       "0  [Walter Matthau, Jack Lemmon, Ann-Margret]  [Howard Deutch]  "
      ]
     },
     "execution_count": 48,
     "metadata": {},
     "output_type": "execute_result"
    }
   ],
   "source": [
    "final_df.head(1)"
   ]
  },
  {
   "cell_type": "markdown",
   "id": "806b1d8a",
   "metadata": {},
   "source": [
    "# "
   ]
  },
  {
   "cell_type": "markdown",
   "id": "4d5beb40",
   "metadata": {},
   "source": [
    "# Create a final Data Frame Composed only of 3 columns\n",
    "# 'Movie-Title' & 'Movie-elements'"
   ]
  },
  {
   "cell_type": "code",
   "execution_count": 49,
   "id": "cd94f07a",
   "metadata": {},
   "outputs": [
    {
     "data": {
      "text/plain": [
       "str"
      ]
     },
     "execution_count": 49,
     "metadata": {},
     "output_type": "execute_result"
    }
   ],
   "source": [
    "type(final_df['tagline'][0])"
   ]
  },
  {
   "cell_type": "code",
   "execution_count": 50,
   "id": "14c46b5f",
   "metadata": {},
   "outputs": [],
   "source": [
    "final_df['tagline'] = final_df['tagline'].apply(lambda x: x.split())"
   ]
  },
  {
   "cell_type": "code",
   "execution_count": 51,
   "id": "724ce287",
   "metadata": {},
   "outputs": [],
   "source": [
    "# final_df.iloc[:6] = final_df['overview'] + final_df['genres']  + final_df['cast'] + final_df['crew']\n",
    "lst = []\n",
    "lst = final_df['overview']  + final_df['tagline'] + final_df['genres'] + final_df['cast'] + final_df['crew']"
   ]
  },
  {
   "cell_type": "code",
   "execution_count": 52,
   "id": "906daa95",
   "metadata": {},
   "outputs": [
    {
     "data": {
      "text/plain": [
       "0       [A, family, wedding, reignites, the, ancient, ...\n",
       "1       [Just, when, George, Banks, has, recovered, fr...\n",
       "2       [James, Bond, must, unmask, the, mysterious, h...\n",
       "3       [An, outcast, half-wolf, risks, his, life, to,...\n",
       "4       [Summoned, from, an, ashram, in, Tibet,, Ace, ...\n",
       "                              ...                        \n",
       "7373    [El, Mariachi, just, wants, to, play, his, gui...\n",
       "7374    [A, newlywed, couple's, honeymoon, is, upended...\n",
       "7375    [\"Signed,, Sealed,, Delivered\", introduces, a,...\n",
       "7376    [When, ambitious, New, York, attorney, Sam, is...\n",
       "7377    [Ever, since, the, second, grade, when, he, fi...\n",
       "Length: 7378, dtype: object"
      ]
     },
     "execution_count": 52,
     "metadata": {},
     "output_type": "execute_result"
    }
   ],
   "source": [
    "lst"
   ]
  },
  {
   "cell_type": "code",
   "execution_count": 53,
   "id": "41e59b8c",
   "metadata": {},
   "outputs": [],
   "source": [
    "final_df['Movie Elements'] = [i for i in lst]\n",
    "final_df['Movie Elements'] = final_df['Movie Elements'].apply(lambda x: \" \".join(x))"
   ]
  },
  {
   "cell_type": "code",
   "execution_count": 54,
   "id": "25fa0154",
   "metadata": {},
   "outputs": [
    {
     "data": {
      "text/html": [
       "<div>\n",
       "<style scoped>\n",
       "    .dataframe tbody tr th:only-of-type {\n",
       "        vertical-align: middle;\n",
       "    }\n",
       "\n",
       "    .dataframe tbody tr th {\n",
       "        vertical-align: top;\n",
       "    }\n",
       "\n",
       "    .dataframe thead th {\n",
       "        text-align: right;\n",
       "    }\n",
       "</style>\n",
       "<table border=\"1\" class=\"dataframe\">\n",
       "  <thead>\n",
       "    <tr style=\"text-align: right;\">\n",
       "      <th></th>\n",
       "      <th>title</th>\n",
       "      <th>genres</th>\n",
       "      <th>overview</th>\n",
       "      <th>tagline</th>\n",
       "      <th>keywords</th>\n",
       "      <th>cast</th>\n",
       "      <th>crew</th>\n",
       "      <th>Movie Elements</th>\n",
       "    </tr>\n",
       "  </thead>\n",
       "  <tbody>\n",
       "    <tr>\n",
       "      <th>0</th>\n",
       "      <td>Grumpier Old Men</td>\n",
       "      <td>[Romance, Comedy]</td>\n",
       "      <td>[A, family, wedding, reignites, the, ancient, ...</td>\n",
       "      <td>[Still, Yelling., Still, Fighting., Still, Rea...</td>\n",
       "      <td>{'id': 119050, 'name': 'Grumpy Old Men Collect...</td>\n",
       "      <td>[Walter Matthau, Jack Lemmon, Ann-Margret]</td>\n",
       "      <td>[Howard Deutch]</td>\n",
       "      <td>A family wedding reignites the ancient feud be...</td>\n",
       "    </tr>\n",
       "  </tbody>\n",
       "</table>\n",
       "</div>"
      ],
      "text/plain": [
       "              title             genres  \\\n",
       "0  Grumpier Old Men  [Romance, Comedy]   \n",
       "\n",
       "                                            overview  \\\n",
       "0  [A, family, wedding, reignites, the, ancient, ...   \n",
       "\n",
       "                                             tagline  \\\n",
       "0  [Still, Yelling., Still, Fighting., Still, Rea...   \n",
       "\n",
       "                                            keywords  \\\n",
       "0  {'id': 119050, 'name': 'Grumpy Old Men Collect...   \n",
       "\n",
       "                                         cast             crew  \\\n",
       "0  [Walter Matthau, Jack Lemmon, Ann-Margret]  [Howard Deutch]   \n",
       "\n",
       "                                      Movie Elements  \n",
       "0  A family wedding reignites the ancient feud be...  "
      ]
     },
     "execution_count": 54,
     "metadata": {},
     "output_type": "execute_result"
    }
   ],
   "source": [
    "final_df.head(1)"
   ]
  },
  {
   "cell_type": "code",
   "execution_count": 55,
   "id": "e687d147",
   "metadata": {},
   "outputs": [],
   "source": [
    "# Now, we have ['overview', 'tagline', 'genres', 'cast', 'crew'] in one seperate column --> 'Movie Elements'!!\n",
    "\n",
    "final_df = final_df[['title', 'Movie Elements']]"
   ]
  },
  {
   "cell_type": "code",
   "execution_count": 56,
   "id": "1f3ca690",
   "metadata": {},
   "outputs": [
    {
     "data": {
      "text/plain": [
       "\"A family wedding reignites the ancient feud between next-door neighbors and fishing buddies John and Max. Meanwhile, a sultry Italian divorcée opens a restaurant at the local bait shop, alarming the locals who worry she'll scare the fish away. But she's less interested in seafood than she is in cooking up a hot time with Max. Still Yelling. Still Fighting. Still Ready for Love. Romance Comedy Walter Matthau Jack Lemmon Ann-Margret Howard Deutch\""
      ]
     },
     "execution_count": 56,
     "metadata": {},
     "output_type": "execute_result"
    }
   ],
   "source": [
    "# Demo\n",
    "final_df['Movie Elements'][0]"
   ]
  },
  {
   "cell_type": "code",
   "execution_count": 57,
   "id": "f510773d",
   "metadata": {},
   "outputs": [
    {
     "data": {
      "text/html": [
       "<div>\n",
       "<style scoped>\n",
       "    .dataframe tbody tr th:only-of-type {\n",
       "        vertical-align: middle;\n",
       "    }\n",
       "\n",
       "    .dataframe tbody tr th {\n",
       "        vertical-align: top;\n",
       "    }\n",
       "\n",
       "    .dataframe thead th {\n",
       "        text-align: right;\n",
       "    }\n",
       "</style>\n",
       "<table border=\"1\" class=\"dataframe\">\n",
       "  <thead>\n",
       "    <tr style=\"text-align: right;\">\n",
       "      <th></th>\n",
       "      <th>title</th>\n",
       "      <th>Movie Elements</th>\n",
       "    </tr>\n",
       "  </thead>\n",
       "  <tbody>\n",
       "    <tr>\n",
       "      <th>0</th>\n",
       "      <td>Grumpier Old Men</td>\n",
       "      <td>A family wedding reignites the ancient feud be...</td>\n",
       "    </tr>\n",
       "    <tr>\n",
       "      <th>1</th>\n",
       "      <td>Father of the Bride Part II</td>\n",
       "      <td>Just when George Banks has recovered from his ...</td>\n",
       "    </tr>\n",
       "    <tr>\n",
       "      <th>2</th>\n",
       "      <td>GoldenEye</td>\n",
       "      <td>James Bond must unmask the mysterious head of ...</td>\n",
       "    </tr>\n",
       "    <tr>\n",
       "      <th>3</th>\n",
       "      <td>Balto</td>\n",
       "      <td>An outcast half-wolf risks his life to prevent...</td>\n",
       "    </tr>\n",
       "    <tr>\n",
       "      <th>4</th>\n",
       "      <td>Ace Ventura: When Nature Calls</td>\n",
       "      <td>Summoned from an ashram in Tibet, Ace finds hi...</td>\n",
       "    </tr>\n",
       "  </tbody>\n",
       "</table>\n",
       "</div>"
      ],
      "text/plain": [
       "                            title  \\\n",
       "0                Grumpier Old Men   \n",
       "1     Father of the Bride Part II   \n",
       "2                       GoldenEye   \n",
       "3                           Balto   \n",
       "4  Ace Ventura: When Nature Calls   \n",
       "\n",
       "                                      Movie Elements  \n",
       "0  A family wedding reignites the ancient feud be...  \n",
       "1  Just when George Banks has recovered from his ...  \n",
       "2  James Bond must unmask the mysterious head of ...  \n",
       "3  An outcast half-wolf risks his life to prevent...  \n",
       "4  Summoned from an ashram in Tibet, Ace finds hi...  "
      ]
     },
     "execution_count": 57,
     "metadata": {},
     "output_type": "execute_result"
    }
   ],
   "source": [
    "final_df.head(5)"
   ]
  },
  {
   "cell_type": "code",
   "execution_count": 58,
   "id": "5c5f96dc",
   "metadata": {},
   "outputs": [],
   "source": [
    "# rename 'title' --> 'Movie Title'\n",
    "final_df = final_df.rename(columns={'title': 'Movie Title'})"
   ]
  },
  {
   "cell_type": "code",
   "execution_count": 59,
   "id": "96aab276",
   "metadata": {},
   "outputs": [],
   "source": [
    "final_df = final_df.drop_duplicates(keep='first')"
   ]
  },
  {
   "cell_type": "code",
   "execution_count": 60,
   "id": "db1cea56",
   "metadata": {},
   "outputs": [
    {
     "data": {
      "text/html": [
       "<div>\n",
       "<style scoped>\n",
       "    .dataframe tbody tr th:only-of-type {\n",
       "        vertical-align: middle;\n",
       "    }\n",
       "\n",
       "    .dataframe tbody tr th {\n",
       "        vertical-align: top;\n",
       "    }\n",
       "\n",
       "    .dataframe thead th {\n",
       "        text-align: right;\n",
       "    }\n",
       "</style>\n",
       "<table border=\"1\" class=\"dataframe\">\n",
       "  <thead>\n",
       "    <tr style=\"text-align: right;\">\n",
       "      <th></th>\n",
       "      <th>Movie Title</th>\n",
       "      <th>Movie Elements</th>\n",
       "    </tr>\n",
       "  </thead>\n",
       "  <tbody>\n",
       "    <tr>\n",
       "      <th>0</th>\n",
       "      <td>Grumpier Old Men</td>\n",
       "      <td>A family wedding reignites the ancient feud be...</td>\n",
       "    </tr>\n",
       "    <tr>\n",
       "      <th>1</th>\n",
       "      <td>Father of the Bride Part II</td>\n",
       "      <td>Just when George Banks has recovered from his ...</td>\n",
       "    </tr>\n",
       "    <tr>\n",
       "      <th>2</th>\n",
       "      <td>GoldenEye</td>\n",
       "      <td>James Bond must unmask the mysterious head of ...</td>\n",
       "    </tr>\n",
       "    <tr>\n",
       "      <th>3</th>\n",
       "      <td>Balto</td>\n",
       "      <td>An outcast half-wolf risks his life to prevent...</td>\n",
       "    </tr>\n",
       "    <tr>\n",
       "      <th>4</th>\n",
       "      <td>Ace Ventura: When Nature Calls</td>\n",
       "      <td>Summoned from an ashram in Tibet, Ace finds hi...</td>\n",
       "    </tr>\n",
       "    <tr>\n",
       "      <th>...</th>\n",
       "      <td>...</td>\n",
       "      <td>...</td>\n",
       "    </tr>\n",
       "    <tr>\n",
       "      <th>7372</th>\n",
       "      <td>Cavite</td>\n",
       "      <td>Adam, a security guard, travels from Californi...</td>\n",
       "    </tr>\n",
       "    <tr>\n",
       "      <th>7374</th>\n",
       "      <td>Newlyweds</td>\n",
       "      <td>A newlywed couple's honeymoon is upended by th...</td>\n",
       "    </tr>\n",
       "    <tr>\n",
       "      <th>7375</th>\n",
       "      <td>Signed, Sealed, Delivered</td>\n",
       "      <td>\"Signed, Sealed, Delivered\" introduces a dedic...</td>\n",
       "    </tr>\n",
       "    <tr>\n",
       "      <th>7376</th>\n",
       "      <td>Shanghai Calling</td>\n",
       "      <td>When ambitious New York attorney Sam is sent t...</td>\n",
       "    </tr>\n",
       "    <tr>\n",
       "      <th>7377</th>\n",
       "      <td>My Date with Drew</td>\n",
       "      <td>Ever since the second grade when he first saw ...</td>\n",
       "    </tr>\n",
       "  </tbody>\n",
       "</table>\n",
       "<p>6612 rows × 2 columns</p>\n",
       "</div>"
      ],
      "text/plain": [
       "                         Movie Title  \\\n",
       "0                   Grumpier Old Men   \n",
       "1        Father of the Bride Part II   \n",
       "2                          GoldenEye   \n",
       "3                              Balto   \n",
       "4     Ace Ventura: When Nature Calls   \n",
       "...                              ...   \n",
       "7372                          Cavite   \n",
       "7374                       Newlyweds   \n",
       "7375       Signed, Sealed, Delivered   \n",
       "7376                Shanghai Calling   \n",
       "7377               My Date with Drew   \n",
       "\n",
       "                                         Movie Elements  \n",
       "0     A family wedding reignites the ancient feud be...  \n",
       "1     Just when George Banks has recovered from his ...  \n",
       "2     James Bond must unmask the mysterious head of ...  \n",
       "3     An outcast half-wolf risks his life to prevent...  \n",
       "4     Summoned from an ashram in Tibet, Ace finds hi...  \n",
       "...                                                 ...  \n",
       "7372  Adam, a security guard, travels from Californi...  \n",
       "7374  A newlywed couple's honeymoon is upended by th...  \n",
       "7375  \"Signed, Sealed, Delivered\" introduces a dedic...  \n",
       "7376  When ambitious New York attorney Sam is sent t...  \n",
       "7377  Ever since the second grade when he first saw ...  \n",
       "\n",
       "[6612 rows x 2 columns]"
      ]
     },
     "execution_count": 60,
     "metadata": {},
     "output_type": "execute_result"
    }
   ],
   "source": [
    "final_df"
   ]
  },
  {
   "cell_type": "code",
   "execution_count": 61,
   "id": "683cb00c",
   "metadata": {},
   "outputs": [],
   "source": [
    "# reset index values for better accuracy by model\n",
    "final_df = final_df.reset_index(drop=True)"
   ]
  },
  {
   "cell_type": "code",
   "execution_count": 62,
   "id": "e07fb208",
   "metadata": {},
   "outputs": [
    {
     "data": {
      "text/html": [
       "<div>\n",
       "<style scoped>\n",
       "    .dataframe tbody tr th:only-of-type {\n",
       "        vertical-align: middle;\n",
       "    }\n",
       "\n",
       "    .dataframe tbody tr th {\n",
       "        vertical-align: top;\n",
       "    }\n",
       "\n",
       "    .dataframe thead th {\n",
       "        text-align: right;\n",
       "    }\n",
       "</style>\n",
       "<table border=\"1\" class=\"dataframe\">\n",
       "  <thead>\n",
       "    <tr style=\"text-align: right;\">\n",
       "      <th></th>\n",
       "      <th>Movie Title</th>\n",
       "      <th>Movie Elements</th>\n",
       "    </tr>\n",
       "  </thead>\n",
       "  <tbody>\n",
       "    <tr>\n",
       "      <th>0</th>\n",
       "      <td>Grumpier Old Men</td>\n",
       "      <td>A family wedding reignites the ancient feud be...</td>\n",
       "    </tr>\n",
       "    <tr>\n",
       "      <th>1</th>\n",
       "      <td>Father of the Bride Part II</td>\n",
       "      <td>Just when George Banks has recovered from his ...</td>\n",
       "    </tr>\n",
       "    <tr>\n",
       "      <th>2</th>\n",
       "      <td>GoldenEye</td>\n",
       "      <td>James Bond must unmask the mysterious head of ...</td>\n",
       "    </tr>\n",
       "    <tr>\n",
       "      <th>3</th>\n",
       "      <td>Balto</td>\n",
       "      <td>An outcast half-wolf risks his life to prevent...</td>\n",
       "    </tr>\n",
       "    <tr>\n",
       "      <th>4</th>\n",
       "      <td>Ace Ventura: When Nature Calls</td>\n",
       "      <td>Summoned from an ashram in Tibet, Ace finds hi...</td>\n",
       "    </tr>\n",
       "    <tr>\n",
       "      <th>...</th>\n",
       "      <td>...</td>\n",
       "      <td>...</td>\n",
       "    </tr>\n",
       "    <tr>\n",
       "      <th>6607</th>\n",
       "      <td>Cavite</td>\n",
       "      <td>Adam, a security guard, travels from Californi...</td>\n",
       "    </tr>\n",
       "    <tr>\n",
       "      <th>6608</th>\n",
       "      <td>Newlyweds</td>\n",
       "      <td>A newlywed couple's honeymoon is upended by th...</td>\n",
       "    </tr>\n",
       "    <tr>\n",
       "      <th>6609</th>\n",
       "      <td>Signed, Sealed, Delivered</td>\n",
       "      <td>\"Signed, Sealed, Delivered\" introduces a dedic...</td>\n",
       "    </tr>\n",
       "    <tr>\n",
       "      <th>6610</th>\n",
       "      <td>Shanghai Calling</td>\n",
       "      <td>When ambitious New York attorney Sam is sent t...</td>\n",
       "    </tr>\n",
       "    <tr>\n",
       "      <th>6611</th>\n",
       "      <td>My Date with Drew</td>\n",
       "      <td>Ever since the second grade when he first saw ...</td>\n",
       "    </tr>\n",
       "  </tbody>\n",
       "</table>\n",
       "<p>6612 rows × 2 columns</p>\n",
       "</div>"
      ],
      "text/plain": [
       "                         Movie Title  \\\n",
       "0                   Grumpier Old Men   \n",
       "1        Father of the Bride Part II   \n",
       "2                          GoldenEye   \n",
       "3                              Balto   \n",
       "4     Ace Ventura: When Nature Calls   \n",
       "...                              ...   \n",
       "6607                          Cavite   \n",
       "6608                       Newlyweds   \n",
       "6609       Signed, Sealed, Delivered   \n",
       "6610                Shanghai Calling   \n",
       "6611               My Date with Drew   \n",
       "\n",
       "                                         Movie Elements  \n",
       "0     A family wedding reignites the ancient feud be...  \n",
       "1     Just when George Banks has recovered from his ...  \n",
       "2     James Bond must unmask the mysterious head of ...  \n",
       "3     An outcast half-wolf risks his life to prevent...  \n",
       "4     Summoned from an ashram in Tibet, Ace finds hi...  \n",
       "...                                                 ...  \n",
       "6607  Adam, a security guard, travels from Californi...  \n",
       "6608  A newlywed couple's honeymoon is upended by th...  \n",
       "6609  \"Signed, Sealed, Delivered\" introduces a dedic...  \n",
       "6610  When ambitious New York attorney Sam is sent t...  \n",
       "6611  Ever since the second grade when he first saw ...  \n",
       "\n",
       "[6612 rows x 2 columns]"
      ]
     },
     "execution_count": 62,
     "metadata": {},
     "output_type": "execute_result"
    }
   ],
   "source": [
    "final_df"
   ]
  },
  {
   "cell_type": "markdown",
   "id": "afa028ea",
   "metadata": {},
   "source": [
    "# "
   ]
  },
  {
   "cell_type": "markdown",
   "id": "a845c46a",
   "metadata": {},
   "source": [
    "# Step-1: Stemming (text cleaning) using nlp"
   ]
  },
  {
   "cell_type": "code",
   "execution_count": 63,
   "id": "85cccc48",
   "metadata": {},
   "outputs": [],
   "source": [
    "import nltk\n",
    "from nltk.stem.snowball import SnowballStemmer"
   ]
  },
  {
   "cell_type": "code",
   "execution_count": 64,
   "id": "3f806ff7",
   "metadata": {
    "scrolled": true
   },
   "outputs": [],
   "source": [
    "stemmer_tool = SnowballStemmer(language=\"english\")"
   ]
  },
  {
   "cell_type": "code",
   "execution_count": 65,
   "id": "94ed09db",
   "metadata": {},
   "outputs": [],
   "source": [
    "# Helper function to facilitate stemming\n",
    "\n",
    "def stemMovieElements(text):\n",
    "    text = list(text.split(\" \"))\n",
    "    stemmed_text = [stemmer_tool.stem(i) for i in text]\n",
    "    return ' '.join(stemmed_text)"
   ]
  },
  {
   "cell_type": "code",
   "execution_count": 66,
   "id": "1aca0a47",
   "metadata": {},
   "outputs": [
    {
     "name": "stdout",
     "output_type": "stream",
     "text": [
      "Text before stemming:\n",
      " A family wedding reignites the ancient feud between next-door neighbors and fishing buddies John and Max. Meanwhile, a sultry Italian divorcée opens a restaurant at the local bait shop, alarming the locals who worry she'll scare the fish away. But she's less interested in seafood than she is in cooking up a hot time with Max. Still Yelling. Still Fighting. Still Ready for Love. Romance Comedy Walter Matthau Jack Lemmon Ann-Margret Howard Deutch\n"
     ]
    }
   ],
   "source": [
    "print(\"Text before stemming:\\n\",final_df['Movie Elements'][0])"
   ]
  },
  {
   "cell_type": "code",
   "execution_count": 67,
   "id": "06a12028",
   "metadata": {},
   "outputs": [
    {
     "name": "stdout",
     "output_type": "stream",
     "text": [
      "Text after stemming:\n",
      " a famili wed reignit the ancient feud between next-door neighbor and fish buddi john and max. meanwhile, a sultri italian divorcé open a restaur at the local bait shop, alarm the local who worri she'll scare the fish away. but she less interest in seafood than she is in cook up a hot time with max. still yelling. still fighting. still readi for love. romanc comedi walter matthau jack lemmon ann-margret howard deutch\n"
     ]
    }
   ],
   "source": [
    "text = stemMovieElements(final_df['Movie Elements'][0])\n",
    "print(\"Text after stemming:\\n\", text)"
   ]
  },
  {
   "cell_type": "code",
   "execution_count": 68,
   "id": "5d203da1",
   "metadata": {},
   "outputs": [],
   "source": [
    "# now apply stemming to all of the 'Movie Elements'\n",
    "final_df['Movie Elements'] = final_df['Movie Elements'].apply(stemMovieElements)"
   ]
  },
  {
   "cell_type": "code",
   "execution_count": 69,
   "id": "8b8f89a6",
   "metadata": {},
   "outputs": [
    {
     "data": {
      "text/html": [
       "<div>\n",
       "<style scoped>\n",
       "    .dataframe tbody tr th:only-of-type {\n",
       "        vertical-align: middle;\n",
       "    }\n",
       "\n",
       "    .dataframe tbody tr th {\n",
       "        vertical-align: top;\n",
       "    }\n",
       "\n",
       "    .dataframe thead th {\n",
       "        text-align: right;\n",
       "    }\n",
       "</style>\n",
       "<table border=\"1\" class=\"dataframe\">\n",
       "  <thead>\n",
       "    <tr style=\"text-align: right;\">\n",
       "      <th></th>\n",
       "      <th>Movie Title</th>\n",
       "      <th>Movie Elements</th>\n",
       "    </tr>\n",
       "  </thead>\n",
       "  <tbody>\n",
       "    <tr>\n",
       "      <th>0</th>\n",
       "      <td>Grumpier Old Men</td>\n",
       "      <td>a famili wed reignit the ancient feud between ...</td>\n",
       "    </tr>\n",
       "    <tr>\n",
       "      <th>1</th>\n",
       "      <td>Father of the Bride Part II</td>\n",
       "      <td>just when georg bank has recov from his daught...</td>\n",
       "    </tr>\n",
       "    <tr>\n",
       "      <th>2</th>\n",
       "      <td>GoldenEye</td>\n",
       "      <td>jame bond must unmask the mysteri head of the ...</td>\n",
       "    </tr>\n",
       "    <tr>\n",
       "      <th>3</th>\n",
       "      <td>Balto</td>\n",
       "      <td>an outcast half-wolf risk his life to prevent ...</td>\n",
       "    </tr>\n",
       "    <tr>\n",
       "      <th>4</th>\n",
       "      <td>Ace Ventura: When Nature Calls</td>\n",
       "      <td>summon from an ashram in tibet, ace find himse...</td>\n",
       "    </tr>\n",
       "  </tbody>\n",
       "</table>\n",
       "</div>"
      ],
      "text/plain": [
       "                      Movie Title  \\\n",
       "0                Grumpier Old Men   \n",
       "1     Father of the Bride Part II   \n",
       "2                       GoldenEye   \n",
       "3                           Balto   \n",
       "4  Ace Ventura: When Nature Calls   \n",
       "\n",
       "                                      Movie Elements  \n",
       "0  a famili wed reignit the ancient feud between ...  \n",
       "1  just when georg bank has recov from his daught...  \n",
       "2  jame bond must unmask the mysteri head of the ...  \n",
       "3  an outcast half-wolf risk his life to prevent ...  \n",
       "4  summon from an ashram in tibet, ace find himse...  "
      ]
     },
     "execution_count": 69,
     "metadata": {},
     "output_type": "execute_result"
    }
   ],
   "source": [
    "final_df.head(5)"
   ]
  },
  {
   "cell_type": "markdown",
   "id": "b64feea3",
   "metadata": {},
   "source": [
    "# "
   ]
  },
  {
   "cell_type": "markdown",
   "id": "418c1856",
   "metadata": {},
   "source": [
    "## Introducing Term Frequency-Inverse Document Frequency (Tf-Idf)\n",
    "### (a text vectorization technique)"
   ]
  },
  {
   "cell_type": "markdown",
   "id": "bd9f2f14",
   "metadata": {},
   "source": [
    "### -- TF (term frequency): records frequency of words in a document. It then normalizes that frequency\n",
    "\n",
    "### normalization formula   : TF(word: w) = (# of times w occurs in a text) / (total # of words in the text)  \n",
    "\n",
    "\n",
    "\n",
    "\n",
    "### -- IDF (inverse document frequency): computes importance of a word in a document. It is the frequency of docs in the corpus containing the word. This frequency is then inversed. It prioritizes meaningful, less frequently occuring words in the doc and scales down the weight of frequently occuring needless words eg. stop words.\n",
    "\n",
    "### formula: IDF(word: w) = log[(total # of texts) / (# of texts containing w in corpus C)]\n",
    "\n",
    "\n",
    "\n",
    "### -- TF-IDF: In this approach weight of a word in a text/document is first calculated by (TF), then (IDF) of the word in the corpus is calculated. product(tf(w), idf(w)) = tf-idf(w)\n",
    "\n",
    "### formula: TF-IDF(word: w, text: t, corpus: C) = TF(w, t) . IDF(w, t, C)\n",
    "\n",
    "### meaningful words in a text -> higher tf-idf.  less meaningful words in text -> almost 0 tf-idf"
   ]
  },
  {
   "cell_type": "code",
   "execution_count": null,
   "id": "8bd56d2b",
   "metadata": {},
   "outputs": [],
   "source": []
  },
  {
   "cell_type": "markdown",
   "id": "caf76476",
   "metadata": {},
   "source": [
    "# Step-2: Text Vectorization"
   ]
  },
  {
   "cell_type": "code",
   "execution_count": 70,
   "id": "58e2a7da",
   "metadata": {},
   "outputs": [],
   "source": [
    "# using TF-IDF technique\n",
    "from sklearn.feature_extraction.text import TfidfVectorizer"
   ]
  },
  {
   "cell_type": "code",
   "execution_count": 71,
   "id": "47953dc2",
   "metadata": {},
   "outputs": [],
   "source": [
    "# initialize vectorizer\n",
    "tfidfVectorizer = TfidfVectorizer(max_features=6612, stop_words=None, use_idf=True, sublinear_tf=True)"
   ]
  },
  {
   "cell_type": "code",
   "execution_count": 72,
   "id": "21d7251d",
   "metadata": {},
   "outputs": [],
   "source": [
    "# create a matrix to store the vectorized data\n",
    "tfidf_matrix  = tfidfVectorizer.fit_transform(final_df['Movie Elements'])"
   ]
  },
  {
   "cell_type": "code",
   "execution_count": 73,
   "id": "e1f2c039",
   "metadata": {},
   "outputs": [],
   "source": [
    "tfidf_matrix = tfidf_matrix.toarray()"
   ]
  },
  {
   "cell_type": "code",
   "execution_count": 74,
   "id": "d5e12ef7",
   "metadata": {},
   "outputs": [
    {
     "data": {
      "text/plain": [
       "array([[0., 0., 0., ..., 0., 0., 0.],\n",
       "       [0., 0., 0., ..., 0., 0., 0.],\n",
       "       [0., 0., 0., ..., 0., 0., 0.],\n",
       "       ...,\n",
       "       [0., 0., 0., ..., 0., 0., 0.],\n",
       "       [0., 0., 0., ..., 0., 0., 0.],\n",
       "       [0., 0., 0., ..., 0., 0., 0.]])"
      ]
     },
     "execution_count": 74,
     "metadata": {},
     "output_type": "execute_result"
    }
   ],
   "source": [
    "# sparse tfidf matrix. because this matrix stores unique words in the Corpus(C) and counts their frequency in a mathematical\n",
    "# way. Giving importance to less occuring meaningful words\n",
    "tfidf_matrix"
   ]
  },
  {
   "cell_type": "code",
   "execution_count": 75,
   "id": "498411a2",
   "metadata": {},
   "outputs": [
    {
     "name": "stdout",
     "output_type": "stream",
     "text": [
      "0.2629258398265039\n"
     ]
    }
   ],
   "source": [
    "# it is sparse but its most heavy word is ccalculated mathematically using log\n",
    "print(max(tfidf_matrix[200]))"
   ]
  },
  {
   "cell_type": "code",
   "execution_count": 76,
   "id": "a76eeea2",
   "metadata": {},
   "outputs": [
    {
     "data": {
      "text/plain": [
       "(6612, 6612)"
      ]
     },
     "execution_count": 76,
     "metadata": {},
     "output_type": "execute_result"
    }
   ],
   "source": [
    "tfidf_matrix.shape"
   ]
  },
  {
   "cell_type": "markdown",
   "id": "d035c05b",
   "metadata": {},
   "source": [
    "# "
   ]
  },
  {
   "cell_type": "markdown",
   "id": "2a0c9ecb",
   "metadata": {},
   "source": [
    "# Step-3: calculate Cosine Similarity between a movie to every other movie"
   ]
  },
  {
   "cell_type": "code",
   "execution_count": 77,
   "id": "d7a5af18",
   "metadata": {},
   "outputs": [],
   "source": [
    "from sklearn.metrics.pairwise import cosine_similarity"
   ]
  },
  {
   "cell_type": "code",
   "execution_count": 78,
   "id": "98c0cb91",
   "metadata": {},
   "outputs": [],
   "source": [
    "# lets get our cosine similarity matrix\n",
    "cosine_similarity_matrix = cosine_similarity(tfidf_matrix)"
   ]
  },
  {
   "cell_type": "code",
   "execution_count": 79,
   "id": "f001dcc1",
   "metadata": {},
   "outputs": [
    {
     "data": {
      "text/plain": [
       "(6612, 6612)"
      ]
     },
     "execution_count": 79,
     "metadata": {},
     "output_type": "execute_result"
    }
   ],
   "source": [
    "cosine_similarity_matrix.shape"
   ]
  },
  {
   "cell_type": "code",
   "execution_count": 80,
   "id": "dd28d6a4",
   "metadata": {},
   "outputs": [
    {
     "data": {
      "text/plain": [
       "array([1.        , 0.04226986, 0.00816718, ..., 0.03052583, 0.01181607,\n",
       "       0.02358081])"
      ]
     },
     "execution_count": 80,
     "metadata": {},
     "output_type": "execute_result"
    }
   ],
   "source": [
    "cosine_similarity_matrix[0]"
   ]
  },
  {
   "cell_type": "code",
   "execution_count": 81,
   "id": "5e61e14d",
   "metadata": {},
   "outputs": [],
   "source": [
    "# create a fn to return list('movie name', similarity score)"
   ]
  },
  {
   "cell_type": "code",
   "execution_count": 82,
   "id": "c84e7af1",
   "metadata": {},
   "outputs": [],
   "source": [
    "from sklearn.neighbors import NearestNeighbors"
   ]
  },
  {
   "cell_type": "code",
   "execution_count": 83,
   "id": "b961d997",
   "metadata": {},
   "outputs": [],
   "source": [
    "def recommendMoviesCosineSimilarity(movie_name):\n",
    "    movie_idx = final_df.index[final_df['Movie Title'] == movie_name][0]\n",
    "    movie_cosinesimilarity_vector =  cosine_similarity_matrix[movie_idx]\n",
    "    movie_list = sorted(list(enumerate(movie_cosinesimilarity_vector)), reverse=True, key=lambda x: x[1])\n",
    "    \n",
    "    # movielist = list of tuples -> (movie_index in final_df, similarity)\n",
    "    print(movie_list[0])\n",
    "    movie_list = movie_list[0: 100]\n",
    "    \n",
    "    # create recommended list of (movie_name, similarity score)\n",
    "    recommended_list = []\n",
    "    \n",
    "    for i in movie_list:\n",
    "        recommended_list.append((final_df.iloc[i[0]][0], i))\n",
    "        \n",
    "    return recommended_list"
   ]
  },
  {
   "cell_type": "code",
   "execution_count": 84,
   "id": "0db0dfe2",
   "metadata": {},
   "outputs": [],
   "source": [
    "# Function to create k nearest neighbors on cosine_similarity_matrix we created above\n",
    "\n",
    "def recommendMoviesKnn(movie_name):\n",
    "    movie_idx = final_df.index[final_df['Movie Title'] == movie_name][0]\n",
    "    \n",
    "    model_knn = NearestNeighbors(metric=\"euclidean\", algorithm='brute')\n",
    "    model_knn.fit(cosine_similarity_matrix)\n",
    "\n",
    "    distances, indices = model_knn.kneighbors(cosine_similarity_matrix[movie_idx].reshape(1, -1), n_neighbors = 10)\n",
    "\n",
    "    recommended_list = []\n",
    "    for i in range(0, len(distances.flatten())):\n",
    "        recommended_list.append((final_df.iloc[indices.flatten()[i]][0], distances.flatten()[i]))\n",
    "    \n",
    "    return recommended_list"
   ]
  },
  {
   "cell_type": "code",
   "execution_count": 85,
   "id": "780ab402",
   "metadata": {},
   "outputs": [
    {
     "data": {
      "text/plain": [
       "'Ace Ventura: When Nature Calls'"
      ]
     },
     "execution_count": 85,
     "metadata": {},
     "output_type": "execute_result"
    }
   ],
   "source": [
    "# print(final_df.index[final_df['Movie Title'] == 'Iron Man'])\n",
    "final_df['Movie Title'][4]"
   ]
  },
  {
   "cell_type": "code",
   "execution_count": 86,
   "id": "79ed06b2",
   "metadata": {
    "scrolled": true
   },
   "outputs": [
    {
     "data": {
      "text/plain": [
       "'two mutants, rogu and wolverine, come to a privat academi for their kind whose resid superhero team, the x-men, must oppos a terrorist organ with similar powers. evolut begin adventur action scienc fiction patrick stewart hugh jackman ian mckellen bryan singer'"
      ]
     },
     "execution_count": 86,
     "metadata": {},
     "output_type": "execute_result"
    }
   ],
   "source": [
    "final_df.iloc[573][1]"
   ]
  },
  {
   "cell_type": "code",
   "execution_count": 87,
   "id": "4c873f12",
   "metadata": {},
   "outputs": [],
   "source": [
    "movie_idx = final_df.index[final_df['Movie Title'] == 'Toy Story']\n",
    "movie_cosinesimilarity_vector =  tfidf_matrix[movie_idx]"
   ]
  },
  {
   "cell_type": "code",
   "execution_count": 88,
   "id": "a3af0621",
   "metadata": {},
   "outputs": [
    {
     "data": {
      "text/plain": [
       "array([[0., 0., 0., ..., 0., 0., 0.]])"
      ]
     },
     "execution_count": 88,
     "metadata": {},
     "output_type": "execute_result"
    }
   ],
   "source": [
    "# the cosing similarity vector of a movie is sparse by nature because a lot of movies are unrelated to one movie\n",
    "movie_cosinesimilarity_vector"
   ]
  },
  {
   "cell_type": "markdown",
   "id": "6fd472c2",
   "metadata": {},
   "source": [
    "# "
   ]
  },
  {
   "cell_type": "markdown",
   "id": "5eac82cd",
   "metadata": {},
   "source": [
    "# judgement time!!"
   ]
  },
  {
   "cell_type": "code",
   "execution_count": 89,
   "id": "10a45aaa",
   "metadata": {},
   "outputs": [],
   "source": [
    "# some sample movies to test on\n",
    "\n",
    "# ''Aladdin', Avatar', 'Iron Man', 'Predator', 'Batman', 'Toy Story', 'Jurassic Park', 'Spider-Man', 'Thor'\n",
    "# 'The Avengers', 'Dracula', 'Godzilla', 'Warcraft', 'X-Men', 'The Matrix', 'Dead Man Down', 'Kung Fu Panda 3'\n",
    "# 'Terminator Genisys', 'Man of Steel', 'Harry Potter and the Half-Blood Prince', 'Spectre'\n",
    "# 'Insidious', 'Transformers: Age of Extinction', 'Annabelle', 'Cinderella III: A Twist in Time'\n",
    "# 'Step Up', 'Never Back Down', 'Hulk', 'Mission: Impossible II', 'Cars', 'Street Fighter', 'The Matrix'"
   ]
  },
  {
   "cell_type": "code",
   "execution_count": 90,
   "id": "ca32f7ac",
   "metadata": {},
   "outputs": [
    {
     "data": {
      "text/plain": [
       "0                     Grumpier Old Men\n",
       "1          Father of the Bride Part II\n",
       "2                            GoldenEye\n",
       "3                                Balto\n",
       "4       Ace Ventura: When Nature Calls\n",
       "                     ...              \n",
       "6607                            Cavite\n",
       "6608                         Newlyweds\n",
       "6609         Signed, Sealed, Delivered\n",
       "6610                  Shanghai Calling\n",
       "6611                 My Date with Drew\n",
       "Name: Movie Title, Length: 6612, dtype: object"
      ]
     },
     "execution_count": 90,
     "metadata": {},
     "output_type": "execute_result"
    }
   ],
   "source": [
    "movie_idx = final_df.index[final_df['Movie Title'] == 'Anabelle']\n",
    "final_df['Movie Title']\n"
   ]
  },
  {
   "cell_type": "code",
   "execution_count": 91,
   "id": "5f44abcd",
   "metadata": {},
   "outputs": [],
   "source": [
    "movie_name = 'Annabelle'"
   ]
  },
  {
   "cell_type": "code",
   "execution_count": 92,
   "id": "9870e6c2",
   "metadata": {
    "scrolled": true
   },
   "outputs": [
    {
     "name": "stdout",
     "output_type": "stream",
     "text": [
      "(1966, 1.0)\n"
     ]
    },
    {
     "data": {
      "text/plain": [
       "[('Annabelle', (1966, 1.0)),\n",
       " ('Annabelle', (5354, 0.8946060938984212)),\n",
       " ('The Crow: City of Angels', (95, 0.1441904849252451)),\n",
       " ('The Texas Chainsaw Massacre: The Beginning', (1239, 0.13931605971233357)),\n",
       " ('About a Boy', (3945, 0.13385558887099866)),\n",
       " ('The Howling: Reborn', (2250, 0.13289592760003663)),\n",
       " (\"The Emperor's New Groove\", (620, 0.13113420639523748)),\n",
       " ('If I Stay', (4919, 0.1306041918204071)),\n",
       " ('Wind Walkers', (6101, 0.13042549227369038)),\n",
       " ('Fast Five', (1605, 0.13026423518155725))]"
      ]
     },
     "execution_count": 92,
     "metadata": {},
     "output_type": "execute_result"
    }
   ],
   "source": [
    "# movies using cosine similarity\n",
    "\n",
    "recommended_list_cosine = recommendMoviesCosineSimilarity(movie_name)\n",
    "recommended_list_cosine[:10]"
   ]
  },
  {
   "cell_type": "code",
   "execution_count": 93,
   "id": "c859441c",
   "metadata": {
    "scrolled": true
   },
   "outputs": [
    {
     "name": "stdout",
     "output_type": "stream",
     "text": [
      "The Seeded Movie is:  Annabelle \n",
      "\n",
      "Recommended Movie 1: Annabelle, 0.0\n",
      "Recommended Movie 2: Annabelle, 0.48389\n",
      "Recommended Movie 3: The House of Fear, 2.27452\n",
      "Recommended Movie 4: The Bishop Murder Case, 2.3036\n",
      "Recommended Movie 5: Zombieland, 2.3043\n",
      "Recommended Movie 6: The Vampire Lovers, 2.31754\n",
      "Recommended Movie 7: Nine Dead, 2.32522\n",
      "Recommended Movie 8: Anacondas: The Hunt for the Blood Orchid, 2.33434\n",
      "Recommended Movie 9: Tremors, 2.33698\n",
      "Recommended Movie 10: Tremors 4: The Legend Begins, 2.33887\n"
     ]
    }
   ],
   "source": [
    "# movies using k nearest neighbors\n",
    "\n",
    "recommended_list = recommendMoviesKnn(movie_name)\n",
    "print(\"The Seeded Movie is: \", movie_name, '\\n')\n",
    "\n",
    "cnt = 1\n",
    "\n",
    "for i in recommended_list:\n",
    "    print(\"Recommended Movie {0}: {1}, {2}\".format(cnt, i[0], float(\"{0:.5f}\".format(i[1]))))\n",
    "    cnt += 1"
   ]
  },
  {
   "cell_type": "code",
   "execution_count": null,
   "id": "fe641666",
   "metadata": {},
   "outputs": [],
   "source": []
  },
  {
   "cell_type": "code",
   "execution_count": 94,
   "id": "2d3fdfa2",
   "metadata": {},
   "outputs": [
    {
     "data": {
      "text/html": [
       "<div>\n",
       "<style scoped>\n",
       "    .dataframe tbody tr th:only-of-type {\n",
       "        vertical-align: middle;\n",
       "    }\n",
       "\n",
       "    .dataframe tbody tr th {\n",
       "        vertical-align: top;\n",
       "    }\n",
       "\n",
       "    .dataframe thead th {\n",
       "        text-align: right;\n",
       "    }\n",
       "</style>\n",
       "<table border=\"1\" class=\"dataframe\">\n",
       "  <thead>\n",
       "    <tr style=\"text-align: right;\">\n",
       "      <th></th>\n",
       "      <th>Movie Title</th>\n",
       "      <th>Movie Elements</th>\n",
       "    </tr>\n",
       "  </thead>\n",
       "  <tbody>\n",
       "    <tr>\n",
       "      <th>0</th>\n",
       "      <td>Grumpier Old Men</td>\n",
       "      <td>a famili wed reignit the ancient feud between ...</td>\n",
       "    </tr>\n",
       "    <tr>\n",
       "      <th>1</th>\n",
       "      <td>Father of the Bride Part II</td>\n",
       "      <td>just when georg bank has recov from his daught...</td>\n",
       "    </tr>\n",
       "    <tr>\n",
       "      <th>2</th>\n",
       "      <td>GoldenEye</td>\n",
       "      <td>jame bond must unmask the mysteri head of the ...</td>\n",
       "    </tr>\n",
       "    <tr>\n",
       "      <th>3</th>\n",
       "      <td>Balto</td>\n",
       "      <td>an outcast half-wolf risk his life to prevent ...</td>\n",
       "    </tr>\n",
       "    <tr>\n",
       "      <th>4</th>\n",
       "      <td>Ace Ventura: When Nature Calls</td>\n",
       "      <td>summon from an ashram in tibet, ace find himse...</td>\n",
       "    </tr>\n",
       "    <tr>\n",
       "      <th>...</th>\n",
       "      <td>...</td>\n",
       "      <td>...</td>\n",
       "    </tr>\n",
       "    <tr>\n",
       "      <th>6607</th>\n",
       "      <td>Cavite</td>\n",
       "      <td>adam, a secur guard, travel from california to...</td>\n",
       "    </tr>\n",
       "    <tr>\n",
       "      <th>6608</th>\n",
       "      <td>Newlyweds</td>\n",
       "      <td>a newlyw coupl honeymoon is upend by the arriv...</td>\n",
       "    </tr>\n",
       "    <tr>\n",
       "      <th>6609</th>\n",
       "      <td>Signed, Sealed, Delivered</td>\n",
       "      <td>\"signed, sealed, delivered\" introduc a dedic q...</td>\n",
       "    </tr>\n",
       "    <tr>\n",
       "      <th>6610</th>\n",
       "      <td>Shanghai Calling</td>\n",
       "      <td>when ambiti new york attorney sam is sent to s...</td>\n",
       "    </tr>\n",
       "    <tr>\n",
       "      <th>6611</th>\n",
       "      <td>My Date with Drew</td>\n",
       "      <td>ever sinc the second grade when he first saw h...</td>\n",
       "    </tr>\n",
       "  </tbody>\n",
       "</table>\n",
       "<p>6612 rows × 2 columns</p>\n",
       "</div>"
      ],
      "text/plain": [
       "                         Movie Title  \\\n",
       "0                   Grumpier Old Men   \n",
       "1        Father of the Bride Part II   \n",
       "2                          GoldenEye   \n",
       "3                              Balto   \n",
       "4     Ace Ventura: When Nature Calls   \n",
       "...                              ...   \n",
       "6607                          Cavite   \n",
       "6608                       Newlyweds   \n",
       "6609       Signed, Sealed, Delivered   \n",
       "6610                Shanghai Calling   \n",
       "6611               My Date with Drew   \n",
       "\n",
       "                                         Movie Elements  \n",
       "0     a famili wed reignit the ancient feud between ...  \n",
       "1     just when georg bank has recov from his daught...  \n",
       "2     jame bond must unmask the mysteri head of the ...  \n",
       "3     an outcast half-wolf risk his life to prevent ...  \n",
       "4     summon from an ashram in tibet, ace find himse...  \n",
       "...                                                 ...  \n",
       "6607  adam, a secur guard, travel from california to...  \n",
       "6608  a newlyw coupl honeymoon is upend by the arriv...  \n",
       "6609  \"signed, sealed, delivered\" introduc a dedic q...  \n",
       "6610  when ambiti new york attorney sam is sent to s...  \n",
       "6611  ever sinc the second grade when he first saw h...  \n",
       "\n",
       "[6612 rows x 2 columns]"
      ]
     },
     "execution_count": 94,
     "metadata": {},
     "output_type": "execute_result"
    }
   ],
   "source": [
    "final_df"
   ]
  },
  {
   "cell_type": "code",
   "execution_count": 95,
   "id": "92c502ab",
   "metadata": {},
   "outputs": [
    {
     "name": "stdout",
     "output_type": "stream",
     "text": [
      "1804\n"
     ]
    }
   ],
   "source": [
    "# to find a particular movie in corpus for further inspection\n",
    "movie_idx = final_df.index[final_df['Movie Title'] == 'Iron Man 3'][0]\n",
    "print(movie_idx)"
   ]
  },
  {
   "cell_type": "code",
   "execution_count": null,
   "id": "aee291f8",
   "metadata": {},
   "outputs": [],
   "source": []
  },
  {
   "cell_type": "code",
   "execution_count": 96,
   "id": "0d5f54e8",
   "metadata": {},
   "outputs": [
    {
     "name": "stdout",
     "output_type": "stream",
     "text": [
      "Note: you may need to restart the kernel to use updated packages.\n"
     ]
    },
    {
     "name": "stderr",
     "output_type": "stream",
     "text": [
      "ERROR: Could not find a version that satisfies the requirement pickle (from versions: none)\n",
      "ERROR: No matching distribution found for pickle\n"
     ]
    }
   ],
   "source": [
    "pip install pickle"
   ]
  },
  {
   "cell_type": "code",
   "execution_count": 97,
   "id": "a66c71c4",
   "metadata": {},
   "outputs": [],
   "source": [
    "import pickle"
   ]
  },
  {
   "cell_type": "code",
   "execution_count": 98,
   "id": "6e2dc02f",
   "metadata": {},
   "outputs": [],
   "source": [
    "pickle.dump(final_df, open('movies.pkl', 'wb'))"
   ]
  },
  {
   "cell_type": "code",
   "execution_count": 99,
   "id": "cab2ffe8",
   "metadata": {},
   "outputs": [],
   "source": [
    "pickle.dump(cosine_similarity_matrix, open('cosine_similarity_matrix.pkl', 'wb'))"
   ]
  },
  {
   "cell_type": "code",
   "execution_count": null,
   "id": "64212f4c",
   "metadata": {},
   "outputs": [],
   "source": []
  }
 ],
 "metadata": {
  "kernelspec": {
   "display_name": "Python 3 (ipykernel)",
   "language": "python",
   "name": "python3"
  },
  "language_info": {
   "codemirror_mode": {
    "name": "ipython",
    "version": 3
   },
   "file_extension": ".py",
   "mimetype": "text/x-python",
   "name": "python",
   "nbconvert_exporter": "python",
   "pygments_lexer": "ipython3",
   "version": "3.9.1"
  }
 },
 "nbformat": 4,
 "nbformat_minor": 5
}
