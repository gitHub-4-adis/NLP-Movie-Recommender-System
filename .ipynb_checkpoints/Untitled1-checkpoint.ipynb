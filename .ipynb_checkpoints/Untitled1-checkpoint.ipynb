{
 "cells": [
  {
   "cell_type": "code",
   "execution_count": 22,
   "id": "7bf0efca",
   "metadata": {},
   "outputs": [
    {
     "name": "stdout",
     "output_type": "stream",
     "text": [
      "Requirement already satisfied: b4 in c:\\users\\adiso\\appdata\\local\\programs\\python\\python39\\lib\\site-packages (0.8.0)\n",
      "Requirement already satisfied: patatt<2.0,>=0.4 in c:\\users\\adiso\\appdata\\local\\programs\\python\\python39\\lib\\site-packages (from b4) (0.4.9)\n",
      "Requirement already satisfied: dkimpy~=1.0 in c:\\users\\adiso\\appdata\\local\\programs\\python\\python39\\lib\\site-packages (from b4) (1.0.5)\n",
      "Requirement already satisfied: requests~=2.24 in c:\\users\\adiso\\appdata\\local\\programs\\python\\python39\\lib\\site-packages (from b4) (2.27.1)\n",
      "Requirement already satisfied: dnspython~=2.0 in c:\\users\\adiso\\appdata\\local\\programs\\python\\python39\\lib\\site-packages (from b4) (2.2.1)\n",
      "Requirement already satisfied: pynacl in c:\\users\\adiso\\appdata\\local\\programs\\python\\python39\\lib\\site-packages (from patatt<2.0,>=0.4->b4) (1.5.0)\n",
      "Requirement already satisfied: certifi>=2017.4.17 in c:\\users\\adiso\\appdata\\local\\programs\\python\\python39\\lib\\site-packages (from requests~=2.24->b4) (2021.10.8)\n",
      "Requirement already satisfied: charset-normalizer~=2.0.0 in c:\\users\\adiso\\appdata\\local\\programs\\python\\python39\\lib\\site-packages (from requests~=2.24->b4) (2.0.12)\n",
      "Requirement already satisfied: idna<4,>=2.5 in c:\\users\\adiso\\appdata\\local\\programs\\python\\python39\\lib\\site-packages (from requests~=2.24->b4) (3.3)\n",
      "Requirement already satisfied: urllib3<1.27,>=1.21.1 in c:\\users\\adiso\\appdata\\local\\programs\\python\\python39\\lib\\site-packages (from requests~=2.24->b4) (1.26.9)\n",
      "Requirement already satisfied: cffi>=1.4.1 in c:\\users\\adiso\\appdata\\local\\programs\\python\\python39\\lib\\site-packages (from pynacl->patatt<2.0,>=0.4->b4) (1.15.0)\n",
      "Requirement already satisfied: pycparser in c:\\users\\adiso\\appdata\\local\\programs\\python\\python39\\lib\\site-packages (from cffi>=1.4.1->pynacl->patatt<2.0,>=0.4->b4) (2.21)\n",
      "Note: you may need to restart the kernel to use updated packages.\n"
     ]
    }
   ],
   "source": [
    "pip install b4"
   ]
  },
  {
   "cell_type": "code",
   "execution_count": 19,
   "id": "7deccf4d",
   "metadata": {},
   "outputs": [
    {
     "ename": "NameError",
     "evalue": "name 'i' is not defined",
     "output_type": "error",
     "traceback": [
      "\u001b[1;31m---------------------------------------------------------------------------\u001b[0m",
      "\u001b[1;31mNameError\u001b[0m                                 Traceback (most recent call last)",
      "Input \u001b[1;32mIn [19]\u001b[0m, in \u001b[0;36m<cell line: 1>\u001b[1;34m()\u001b[0m\n\u001b[1;32m----> 1\u001b[0m \u001b[43mi\u001b[49m\n",
      "\u001b[1;31mNameError\u001b[0m: name 'i' is not defined"
     ]
    }
   ],
   "source": [
    "from b4 import BeautifulSoup"
   ]
  },
  {
   "cell_type": "code",
   "execution_count": null,
   "id": "96b29349",
   "metadata": {},
   "outputs": [],
   "source": []
  }
 ],
 "metadata": {
  "kernelspec": {
   "display_name": "Python 3 (ipykernel)",
   "language": "python",
   "name": "python3"
  },
  "language_info": {
   "codemirror_mode": {
    "name": "ipython",
    "version": 3
   },
   "file_extension": ".py",
   "mimetype": "text/x-python",
   "name": "python",
   "nbconvert_exporter": "python",
   "pygments_lexer": "ipython3",
   "version": "3.9.1"
  }
 },
 "nbformat": 4,
 "nbformat_minor": 5
}
