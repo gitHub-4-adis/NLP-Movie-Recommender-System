{
 "cells": [
  {
   "cell_type": "markdown",
   "metadata": {
    "_cell_guid": "b1076dfc-b9ad-4769-8c92-a6c4dae69d19",
    "_uuid": "8f2839f25d086af736a60e9eeb907d3b93b6e0e5",
    "execution": {
     "iopub.execute_input": "2022-04-19T14:20:36.811123Z",
     "iopub.status.busy": "2022-04-19T14:20:36.810149Z",
     "iopub.status.idle": "2022-04-19T14:20:36.835643Z",
     "shell.execute_reply": "2022-04-19T14:20:36.834777Z",
     "shell.execute_reply.started": "2022-04-19T14:20:36.810966Z"
    }
   },
   "source": [
    "# **Collaborative Filtering Using Non-Negative Matrix Factorization**"
   ]
  },
  {
   "cell_type": "markdown",
   "metadata": {},
   "source": [
    "****we'll create 3 dataframes ratingMatrix_df1, ratingMatrix_df2 and ratingMatrix****"
   ]
  },
  {
   "cell_type": "code",
   "execution_count": 1,
   "metadata": {
    "execution": {
     "iopub.execute_input": "2022-04-20T12:56:19.395166Z",
     "iopub.status.busy": "2022-04-20T12:56:19.394716Z",
     "iopub.status.idle": "2022-04-20T12:56:19.398570Z",
     "shell.execute_reply": "2022-04-20T12:56:19.397848Z",
     "shell.execute_reply.started": "2022-04-20T12:56:19.395109Z"
    }
   },
   "outputs": [],
   "source": [
    "import numpy as np\n",
    "import pandas as pd"
   ]
  },
  {
   "cell_type": "markdown",
   "metadata": {},
   "source": [
    "# **1. CREATE: ratingMatrix_df1**"
   ]
  },
  {
   "cell_type": "code",
   "execution_count": 3,
   "metadata": {
    "execution": {
     "iopub.execute_input": "2022-04-20T12:56:19.901673Z",
     "iopub.status.busy": "2022-04-20T12:56:19.901215Z",
     "iopub.status.idle": "2022-04-20T12:56:24.577417Z",
     "shell.execute_reply": "2022-04-20T12:56:24.576297Z",
     "shell.execute_reply.started": "2022-04-20T12:56:19.901630Z"
    }
   },
   "outputs": [
    {
     "ename": "FileNotFoundError",
     "evalue": "[Errno 2] No such file or directory: 'netflix-movie-rating-dataset/Netflix_Dataset_Movie.csv'",
     "output_type": "error",
     "traceback": [
      "\u001b[1;31m---------------------------------------------------------------------------\u001b[0m",
      "\u001b[1;31mFileNotFoundError\u001b[0m                         Traceback (most recent call last)",
      "Input \u001b[1;32mIn [3]\u001b[0m, in \u001b[0;36m<cell line: 3>\u001b[1;34m()\u001b[0m\n\u001b[0;32m      1\u001b[0m \u001b[38;5;66;03m# preprocessing netflix dataset\u001b[39;00m\n\u001b[1;32m----> 3\u001b[0m movie \u001b[38;5;241m=\u001b[39m \u001b[43mpd\u001b[49m\u001b[38;5;241;43m.\u001b[39;49m\u001b[43mread_csv\u001b[49m\u001b[43m(\u001b[49m\u001b[38;5;124;43m'\u001b[39;49m\u001b[38;5;124;43mnetflix-movie-rating-dataset/Netflix_Dataset_Movie.csv\u001b[39;49m\u001b[38;5;124;43m'\u001b[39;49m\u001b[43m)\u001b[49m\n\u001b[0;32m      4\u001b[0m rating \u001b[38;5;241m=\u001b[39m pd\u001b[38;5;241m.\u001b[39mread_csv(\u001b[38;5;124m'\u001b[39m\u001b[38;5;124mnetflix-movie-rating-dataset/Netflix_Dataset_Rating.csv\u001b[39m\u001b[38;5;124m'\u001b[39m)\n",
      "File \u001b[1;32mc:\\users\\adiso\\appdata\\local\\programs\\python\\python39\\lib\\site-packages\\pandas\\util\\_decorators.py:311\u001b[0m, in \u001b[0;36mdeprecate_nonkeyword_arguments.<locals>.decorate.<locals>.wrapper\u001b[1;34m(*args, **kwargs)\u001b[0m\n\u001b[0;32m    305\u001b[0m \u001b[38;5;28;01mif\u001b[39;00m \u001b[38;5;28mlen\u001b[39m(args) \u001b[38;5;241m>\u001b[39m num_allow_args:\n\u001b[0;32m    306\u001b[0m     warnings\u001b[38;5;241m.\u001b[39mwarn(\n\u001b[0;32m    307\u001b[0m         msg\u001b[38;5;241m.\u001b[39mformat(arguments\u001b[38;5;241m=\u001b[39marguments),\n\u001b[0;32m    308\u001b[0m         \u001b[38;5;167;01mFutureWarning\u001b[39;00m,\n\u001b[0;32m    309\u001b[0m         stacklevel\u001b[38;5;241m=\u001b[39mstacklevel,\n\u001b[0;32m    310\u001b[0m     )\n\u001b[1;32m--> 311\u001b[0m \u001b[38;5;28;01mreturn\u001b[39;00m func(\u001b[38;5;241m*\u001b[39margs, \u001b[38;5;241m*\u001b[39m\u001b[38;5;241m*\u001b[39mkwargs)\n",
      "File \u001b[1;32mc:\\users\\adiso\\appdata\\local\\programs\\python\\python39\\lib\\site-packages\\pandas\\io\\parsers\\readers.py:680\u001b[0m, in \u001b[0;36mread_csv\u001b[1;34m(filepath_or_buffer, sep, delimiter, header, names, index_col, usecols, squeeze, prefix, mangle_dupe_cols, dtype, engine, converters, true_values, false_values, skipinitialspace, skiprows, skipfooter, nrows, na_values, keep_default_na, na_filter, verbose, skip_blank_lines, parse_dates, infer_datetime_format, keep_date_col, date_parser, dayfirst, cache_dates, iterator, chunksize, compression, thousands, decimal, lineterminator, quotechar, quoting, doublequote, escapechar, comment, encoding, encoding_errors, dialect, error_bad_lines, warn_bad_lines, on_bad_lines, delim_whitespace, low_memory, memory_map, float_precision, storage_options)\u001b[0m\n\u001b[0;32m    665\u001b[0m kwds_defaults \u001b[38;5;241m=\u001b[39m _refine_defaults_read(\n\u001b[0;32m    666\u001b[0m     dialect,\n\u001b[0;32m    667\u001b[0m     delimiter,\n\u001b[1;32m   (...)\u001b[0m\n\u001b[0;32m    676\u001b[0m     defaults\u001b[38;5;241m=\u001b[39m{\u001b[38;5;124m\"\u001b[39m\u001b[38;5;124mdelimiter\u001b[39m\u001b[38;5;124m\"\u001b[39m: \u001b[38;5;124m\"\u001b[39m\u001b[38;5;124m,\u001b[39m\u001b[38;5;124m\"\u001b[39m},\n\u001b[0;32m    677\u001b[0m )\n\u001b[0;32m    678\u001b[0m kwds\u001b[38;5;241m.\u001b[39mupdate(kwds_defaults)\n\u001b[1;32m--> 680\u001b[0m \u001b[38;5;28;01mreturn\u001b[39;00m \u001b[43m_read\u001b[49m\u001b[43m(\u001b[49m\u001b[43mfilepath_or_buffer\u001b[49m\u001b[43m,\u001b[49m\u001b[43m \u001b[49m\u001b[43mkwds\u001b[49m\u001b[43m)\u001b[49m\n",
      "File \u001b[1;32mc:\\users\\adiso\\appdata\\local\\programs\\python\\python39\\lib\\site-packages\\pandas\\io\\parsers\\readers.py:575\u001b[0m, in \u001b[0;36m_read\u001b[1;34m(filepath_or_buffer, kwds)\u001b[0m\n\u001b[0;32m    572\u001b[0m _validate_names(kwds\u001b[38;5;241m.\u001b[39mget(\u001b[38;5;124m\"\u001b[39m\u001b[38;5;124mnames\u001b[39m\u001b[38;5;124m\"\u001b[39m, \u001b[38;5;28;01mNone\u001b[39;00m))\n\u001b[0;32m    574\u001b[0m \u001b[38;5;66;03m# Create the parser.\u001b[39;00m\n\u001b[1;32m--> 575\u001b[0m parser \u001b[38;5;241m=\u001b[39m TextFileReader(filepath_or_buffer, \u001b[38;5;241m*\u001b[39m\u001b[38;5;241m*\u001b[39mkwds)\n\u001b[0;32m    577\u001b[0m \u001b[38;5;28;01mif\u001b[39;00m chunksize \u001b[38;5;129;01mor\u001b[39;00m iterator:\n\u001b[0;32m    578\u001b[0m     \u001b[38;5;28;01mreturn\u001b[39;00m parser\n",
      "File \u001b[1;32mc:\\users\\adiso\\appdata\\local\\programs\\python\\python39\\lib\\site-packages\\pandas\\io\\parsers\\readers.py:933\u001b[0m, in \u001b[0;36mTextFileReader.__init__\u001b[1;34m(self, f, engine, **kwds)\u001b[0m\n\u001b[0;32m    930\u001b[0m     \u001b[38;5;28mself\u001b[39m\u001b[38;5;241m.\u001b[39moptions[\u001b[38;5;124m\"\u001b[39m\u001b[38;5;124mhas_index_names\u001b[39m\u001b[38;5;124m\"\u001b[39m] \u001b[38;5;241m=\u001b[39m kwds[\u001b[38;5;124m\"\u001b[39m\u001b[38;5;124mhas_index_names\u001b[39m\u001b[38;5;124m\"\u001b[39m]\n\u001b[0;32m    932\u001b[0m \u001b[38;5;28mself\u001b[39m\u001b[38;5;241m.\u001b[39mhandles: IOHandles \u001b[38;5;241m|\u001b[39m \u001b[38;5;28;01mNone\u001b[39;00m \u001b[38;5;241m=\u001b[39m \u001b[38;5;28;01mNone\u001b[39;00m\n\u001b[1;32m--> 933\u001b[0m \u001b[38;5;28mself\u001b[39m\u001b[38;5;241m.\u001b[39m_engine \u001b[38;5;241m=\u001b[39m \u001b[38;5;28;43mself\u001b[39;49m\u001b[38;5;241;43m.\u001b[39;49m\u001b[43m_make_engine\u001b[49m\u001b[43m(\u001b[49m\u001b[43mf\u001b[49m\u001b[43m,\u001b[49m\u001b[43m \u001b[49m\u001b[38;5;28;43mself\u001b[39;49m\u001b[38;5;241;43m.\u001b[39;49m\u001b[43mengine\u001b[49m\u001b[43m)\u001b[49m\n",
      "File \u001b[1;32mc:\\users\\adiso\\appdata\\local\\programs\\python\\python39\\lib\\site-packages\\pandas\\io\\parsers\\readers.py:1217\u001b[0m, in \u001b[0;36mTextFileReader._make_engine\u001b[1;34m(self, f, engine)\u001b[0m\n\u001b[0;32m   1213\u001b[0m     mode \u001b[38;5;241m=\u001b[39m \u001b[38;5;124m\"\u001b[39m\u001b[38;5;124mrb\u001b[39m\u001b[38;5;124m\"\u001b[39m\n\u001b[0;32m   1214\u001b[0m \u001b[38;5;66;03m# error: No overload variant of \"get_handle\" matches argument types\u001b[39;00m\n\u001b[0;32m   1215\u001b[0m \u001b[38;5;66;03m# \"Union[str, PathLike[str], ReadCsvBuffer[bytes], ReadCsvBuffer[str]]\"\u001b[39;00m\n\u001b[0;32m   1216\u001b[0m \u001b[38;5;66;03m# , \"str\", \"bool\", \"Any\", \"Any\", \"Any\", \"Any\", \"Any\"\u001b[39;00m\n\u001b[1;32m-> 1217\u001b[0m \u001b[38;5;28mself\u001b[39m\u001b[38;5;241m.\u001b[39mhandles \u001b[38;5;241m=\u001b[39m \u001b[43mget_handle\u001b[49m\u001b[43m(\u001b[49m\u001b[43m  \u001b[49m\u001b[38;5;66;43;03m# type: ignore[call-overload]\u001b[39;49;00m\n\u001b[0;32m   1218\u001b[0m \u001b[43m    \u001b[49m\u001b[43mf\u001b[49m\u001b[43m,\u001b[49m\n\u001b[0;32m   1219\u001b[0m \u001b[43m    \u001b[49m\u001b[43mmode\u001b[49m\u001b[43m,\u001b[49m\n\u001b[0;32m   1220\u001b[0m \u001b[43m    \u001b[49m\u001b[43mencoding\u001b[49m\u001b[38;5;241;43m=\u001b[39;49m\u001b[38;5;28;43mself\u001b[39;49m\u001b[38;5;241;43m.\u001b[39;49m\u001b[43moptions\u001b[49m\u001b[38;5;241;43m.\u001b[39;49m\u001b[43mget\u001b[49m\u001b[43m(\u001b[49m\u001b[38;5;124;43m\"\u001b[39;49m\u001b[38;5;124;43mencoding\u001b[39;49m\u001b[38;5;124;43m\"\u001b[39;49m\u001b[43m,\u001b[49m\u001b[43m \u001b[49m\u001b[38;5;28;43;01mNone\u001b[39;49;00m\u001b[43m)\u001b[49m\u001b[43m,\u001b[49m\n\u001b[0;32m   1221\u001b[0m \u001b[43m    \u001b[49m\u001b[43mcompression\u001b[49m\u001b[38;5;241;43m=\u001b[39;49m\u001b[38;5;28;43mself\u001b[39;49m\u001b[38;5;241;43m.\u001b[39;49m\u001b[43moptions\u001b[49m\u001b[38;5;241;43m.\u001b[39;49m\u001b[43mget\u001b[49m\u001b[43m(\u001b[49m\u001b[38;5;124;43m\"\u001b[39;49m\u001b[38;5;124;43mcompression\u001b[39;49m\u001b[38;5;124;43m\"\u001b[39;49m\u001b[43m,\u001b[49m\u001b[43m \u001b[49m\u001b[38;5;28;43;01mNone\u001b[39;49;00m\u001b[43m)\u001b[49m\u001b[43m,\u001b[49m\n\u001b[0;32m   1222\u001b[0m \u001b[43m    \u001b[49m\u001b[43mmemory_map\u001b[49m\u001b[38;5;241;43m=\u001b[39;49m\u001b[38;5;28;43mself\u001b[39;49m\u001b[38;5;241;43m.\u001b[39;49m\u001b[43moptions\u001b[49m\u001b[38;5;241;43m.\u001b[39;49m\u001b[43mget\u001b[49m\u001b[43m(\u001b[49m\u001b[38;5;124;43m\"\u001b[39;49m\u001b[38;5;124;43mmemory_map\u001b[39;49m\u001b[38;5;124;43m\"\u001b[39;49m\u001b[43m,\u001b[49m\u001b[43m \u001b[49m\u001b[38;5;28;43;01mFalse\u001b[39;49;00m\u001b[43m)\u001b[49m\u001b[43m,\u001b[49m\n\u001b[0;32m   1223\u001b[0m \u001b[43m    \u001b[49m\u001b[43mis_text\u001b[49m\u001b[38;5;241;43m=\u001b[39;49m\u001b[43mis_text\u001b[49m\u001b[43m,\u001b[49m\n\u001b[0;32m   1224\u001b[0m \u001b[43m    \u001b[49m\u001b[43merrors\u001b[49m\u001b[38;5;241;43m=\u001b[39;49m\u001b[38;5;28;43mself\u001b[39;49m\u001b[38;5;241;43m.\u001b[39;49m\u001b[43moptions\u001b[49m\u001b[38;5;241;43m.\u001b[39;49m\u001b[43mget\u001b[49m\u001b[43m(\u001b[49m\u001b[38;5;124;43m\"\u001b[39;49m\u001b[38;5;124;43mencoding_errors\u001b[39;49m\u001b[38;5;124;43m\"\u001b[39;49m\u001b[43m,\u001b[49m\u001b[43m \u001b[49m\u001b[38;5;124;43m\"\u001b[39;49m\u001b[38;5;124;43mstrict\u001b[39;49m\u001b[38;5;124;43m\"\u001b[39;49m\u001b[43m)\u001b[49m\u001b[43m,\u001b[49m\n\u001b[0;32m   1225\u001b[0m \u001b[43m    \u001b[49m\u001b[43mstorage_options\u001b[49m\u001b[38;5;241;43m=\u001b[39;49m\u001b[38;5;28;43mself\u001b[39;49m\u001b[38;5;241;43m.\u001b[39;49m\u001b[43moptions\u001b[49m\u001b[38;5;241;43m.\u001b[39;49m\u001b[43mget\u001b[49m\u001b[43m(\u001b[49m\u001b[38;5;124;43m\"\u001b[39;49m\u001b[38;5;124;43mstorage_options\u001b[39;49m\u001b[38;5;124;43m\"\u001b[39;49m\u001b[43m,\u001b[49m\u001b[43m \u001b[49m\u001b[38;5;28;43;01mNone\u001b[39;49;00m\u001b[43m)\u001b[49m\u001b[43m,\u001b[49m\n\u001b[0;32m   1226\u001b[0m \u001b[43m\u001b[49m\u001b[43m)\u001b[49m\n\u001b[0;32m   1227\u001b[0m \u001b[38;5;28;01massert\u001b[39;00m \u001b[38;5;28mself\u001b[39m\u001b[38;5;241m.\u001b[39mhandles \u001b[38;5;129;01mis\u001b[39;00m \u001b[38;5;129;01mnot\u001b[39;00m \u001b[38;5;28;01mNone\u001b[39;00m\n\u001b[0;32m   1228\u001b[0m f \u001b[38;5;241m=\u001b[39m \u001b[38;5;28mself\u001b[39m\u001b[38;5;241m.\u001b[39mhandles\u001b[38;5;241m.\u001b[39mhandle\n",
      "File \u001b[1;32mc:\\users\\adiso\\appdata\\local\\programs\\python\\python39\\lib\\site-packages\\pandas\\io\\common.py:789\u001b[0m, in \u001b[0;36mget_handle\u001b[1;34m(path_or_buf, mode, encoding, compression, memory_map, is_text, errors, storage_options)\u001b[0m\n\u001b[0;32m    784\u001b[0m \u001b[38;5;28;01melif\u001b[39;00m \u001b[38;5;28misinstance\u001b[39m(handle, \u001b[38;5;28mstr\u001b[39m):\n\u001b[0;32m    785\u001b[0m     \u001b[38;5;66;03m# Check whether the filename is to be opened in binary mode.\u001b[39;00m\n\u001b[0;32m    786\u001b[0m     \u001b[38;5;66;03m# Binary mode does not support 'encoding' and 'newline'.\u001b[39;00m\n\u001b[0;32m    787\u001b[0m     \u001b[38;5;28;01mif\u001b[39;00m ioargs\u001b[38;5;241m.\u001b[39mencoding \u001b[38;5;129;01mand\u001b[39;00m \u001b[38;5;124m\"\u001b[39m\u001b[38;5;124mb\u001b[39m\u001b[38;5;124m\"\u001b[39m \u001b[38;5;129;01mnot\u001b[39;00m \u001b[38;5;129;01min\u001b[39;00m ioargs\u001b[38;5;241m.\u001b[39mmode:\n\u001b[0;32m    788\u001b[0m         \u001b[38;5;66;03m# Encoding\u001b[39;00m\n\u001b[1;32m--> 789\u001b[0m         handle \u001b[38;5;241m=\u001b[39m \u001b[38;5;28;43mopen\u001b[39;49m\u001b[43m(\u001b[49m\n\u001b[0;32m    790\u001b[0m \u001b[43m            \u001b[49m\u001b[43mhandle\u001b[49m\u001b[43m,\u001b[49m\n\u001b[0;32m    791\u001b[0m \u001b[43m            \u001b[49m\u001b[43mioargs\u001b[49m\u001b[38;5;241;43m.\u001b[39;49m\u001b[43mmode\u001b[49m\u001b[43m,\u001b[49m\n\u001b[0;32m    792\u001b[0m \u001b[43m            \u001b[49m\u001b[43mencoding\u001b[49m\u001b[38;5;241;43m=\u001b[39;49m\u001b[43mioargs\u001b[49m\u001b[38;5;241;43m.\u001b[39;49m\u001b[43mencoding\u001b[49m\u001b[43m,\u001b[49m\n\u001b[0;32m    793\u001b[0m \u001b[43m            \u001b[49m\u001b[43merrors\u001b[49m\u001b[38;5;241;43m=\u001b[39;49m\u001b[43merrors\u001b[49m\u001b[43m,\u001b[49m\n\u001b[0;32m    794\u001b[0m \u001b[43m            \u001b[49m\u001b[43mnewline\u001b[49m\u001b[38;5;241;43m=\u001b[39;49m\u001b[38;5;124;43m\"\u001b[39;49m\u001b[38;5;124;43m\"\u001b[39;49m\u001b[43m,\u001b[49m\n\u001b[0;32m    795\u001b[0m \u001b[43m        \u001b[49m\u001b[43m)\u001b[49m\n\u001b[0;32m    796\u001b[0m     \u001b[38;5;28;01melse\u001b[39;00m:\n\u001b[0;32m    797\u001b[0m         \u001b[38;5;66;03m# Binary mode\u001b[39;00m\n\u001b[0;32m    798\u001b[0m         handle \u001b[38;5;241m=\u001b[39m \u001b[38;5;28mopen\u001b[39m(handle, ioargs\u001b[38;5;241m.\u001b[39mmode)\n",
      "\u001b[1;31mFileNotFoundError\u001b[0m: [Errno 2] No such file or directory: 'netflix-movie-rating-dataset/Netflix_Dataset_Movie.csv'"
     ]
    }
   ],
   "source": [
    "# preprocessing netflix dataset\n",
    "\n",
    "movie = pd.read_csv('netflix-movie-rating-dataset/Netflix_Dataset_Movie.csv')\n",
    "rating = pd.read_csv('netflix-movie-rating-dataset/Netflix_Dataset_Rating.csv')"
   ]
  },
  {
   "cell_type": "code",
   "execution_count": null,
   "metadata": {
    "execution": {
     "iopub.execute_input": "2022-04-20T12:56:24.579828Z",
     "iopub.status.busy": "2022-04-20T12:56:24.579524Z",
     "iopub.status.idle": "2022-04-20T12:56:24.594479Z",
     "shell.execute_reply": "2022-04-20T12:56:24.593519Z",
     "shell.execute_reply.started": "2022-04-20T12:56:24.579793Z"
    }
   },
   "outputs": [],
   "source": [
    "movie"
   ]
  },
  {
   "cell_type": "code",
   "execution_count": null,
   "metadata": {
    "execution": {
     "iopub.execute_input": "2022-04-20T12:56:24.596420Z",
     "iopub.status.busy": "2022-04-20T12:56:24.596126Z",
     "iopub.status.idle": "2022-04-20T12:56:24.609455Z",
     "shell.execute_reply": "2022-04-20T12:56:24.608711Z",
     "shell.execute_reply.started": "2022-04-20T12:56:24.596375Z"
    }
   },
   "outputs": [],
   "source": [
    "# nothing to remove in rating df\n",
    "rating"
   ]
  },
  {
   "cell_type": "code",
   "execution_count": null,
   "metadata": {
    "execution": {
     "iopub.execute_input": "2022-04-20T12:56:24.612342Z",
     "iopub.status.busy": "2022-04-20T12:56:24.611337Z",
     "iopub.status.idle": "2022-04-20T12:56:24.617224Z",
     "shell.execute_reply": "2022-04-20T12:56:24.616305Z",
     "shell.execute_reply.started": "2022-04-20T12:56:24.612247Z"
    }
   },
   "outputs": [],
   "source": [
    "# remove movies which are released < 2000 and make computations easier & practical\n",
    "print('shape of movie df BEFORE removing redundant movies: ', movie.shape)"
   ]
  },
  {
   "cell_type": "code",
   "execution_count": null,
   "metadata": {
    "execution": {
     "iopub.execute_input": "2022-04-20T12:56:24.619250Z",
     "iopub.status.busy": "2022-04-20T12:56:24.618400Z",
     "iopub.status.idle": "2022-04-20T12:56:24.640248Z",
     "shell.execute_reply": "2022-04-20T12:56:24.639421Z",
     "shell.execute_reply.started": "2022-04-20T12:56:24.619212Z"
    }
   },
   "outputs": [],
   "source": [
    "movie = movie[movie['Year'] >= 2000]\n",
    "print('shape of movie df AFTER removing redundant movies: ', movie.shape)"
   ]
  },
  {
   "cell_type": "code",
   "execution_count": null,
   "metadata": {
    "execution": {
     "iopub.execute_input": "2022-04-20T12:56:24.642417Z",
     "iopub.status.busy": "2022-04-20T12:56:24.641433Z",
     "iopub.status.idle": "2022-04-20T12:56:24.664253Z",
     "shell.execute_reply": "2022-04-20T12:56:24.662786Z",
     "shell.execute_reply.started": "2022-04-20T12:56:24.642362Z"
    }
   },
   "outputs": [],
   "source": [
    "movie"
   ]
  },
  {
   "cell_type": "code",
   "execution_count": null,
   "metadata": {
    "execution": {
     "iopub.execute_input": "2022-04-20T12:56:24.666731Z",
     "iopub.status.busy": "2022-04-20T12:56:24.665780Z",
     "iopub.status.idle": "2022-04-20T12:56:25.973781Z",
     "shell.execute_reply": "2022-04-20T12:56:25.972682Z",
     "shell.execute_reply.started": "2022-04-20T12:56:24.666676Z"
    }
   },
   "outputs": [],
   "source": [
    "# merge movie & rating df to form ratingMatrix_df1\n",
    "\n",
    "ratingMatrix_df1 = pd.merge(movie, rating)"
   ]
  },
  {
   "cell_type": "code",
   "execution_count": null,
   "metadata": {
    "execution": {
     "iopub.execute_input": "2022-04-20T12:56:25.975554Z",
     "iopub.status.busy": "2022-04-20T12:56:25.975221Z",
     "iopub.status.idle": "2022-04-20T12:56:25.991465Z",
     "shell.execute_reply": "2022-04-20T12:56:25.990832Z",
     "shell.execute_reply.started": "2022-04-20T12:56:25.975509Z"
    }
   },
   "outputs": [],
   "source": [
    "ratingMatrix_df1"
   ]
  },
  {
   "cell_type": "code",
   "execution_count": null,
   "metadata": {
    "execution": {
     "iopub.execute_input": "2022-04-20T12:56:25.993205Z",
     "iopub.status.busy": "2022-04-20T12:56:25.992784Z",
     "iopub.status.idle": "2022-04-20T12:56:26.349445Z",
     "shell.execute_reply": "2022-04-20T12:56:26.348314Z",
     "shell.execute_reply.started": "2022-04-20T12:56:25.993157Z"
    }
   },
   "outputs": [],
   "source": [
    "# drop 'Movie_ID' & 'Year'\n",
    "\n",
    "ratingMatrix_df1 = ratingMatrix_df1[['User_ID', 'Name', 'Rating']]\n",
    "ratingMatrix_df1"
   ]
  },
  {
   "cell_type": "code",
   "execution_count": null,
   "metadata": {
    "execution": {
     "iopub.execute_input": "2022-04-20T12:56:26.352439Z",
     "iopub.status.busy": "2022-04-20T12:56:26.352199Z",
     "iopub.status.idle": "2022-04-20T12:56:26.509997Z",
     "shell.execute_reply": "2022-04-20T12:56:26.508921Z",
     "shell.execute_reply.started": "2022-04-20T12:56:26.352410Z"
    }
   },
   "outputs": [],
   "source": [
    "# rename 'Name' -> 'Movie_ID'\n",
    "\n",
    "ratingMatrix_df1 = ratingMatrix_df1.rename(columns={'Name': 'Movie_ID'})\n",
    "ratingMatrix_df1"
   ]
  },
  {
   "cell_type": "code",
   "execution_count": null,
   "metadata": {
    "execution": {
     "iopub.execute_input": "2022-04-20T12:56:26.512375Z",
     "iopub.status.busy": "2022-04-20T12:56:26.511567Z",
     "iopub.status.idle": "2022-04-20T12:56:27.416438Z",
     "shell.execute_reply": "2022-04-20T12:56:27.415462Z",
     "shell.execute_reply.started": "2022-04-20T12:56:26.512337Z"
    }
   },
   "outputs": [],
   "source": [
    "# drop duplicate 'Movie_ID'\n",
    "\n",
    "ratingMatrix_df1.drop_duplicates(subset =\"Movie_ID\",keep = 'first', inplace = True)"
   ]
  },
  {
   "cell_type": "code",
   "execution_count": null,
   "metadata": {
    "execution": {
     "iopub.execute_input": "2022-04-20T12:56:27.418680Z",
     "iopub.status.busy": "2022-04-20T12:56:27.418194Z",
     "iopub.status.idle": "2022-04-20T12:56:27.437078Z",
     "shell.execute_reply": "2022-04-20T12:56:27.435807Z",
     "shell.execute_reply.started": "2022-04-20T12:56:27.418626Z"
    }
   },
   "outputs": [],
   "source": [
    "ratingMatrix_df1"
   ]
  },
  {
   "cell_type": "code",
   "execution_count": null,
   "metadata": {
    "execution": {
     "iopub.execute_input": "2022-04-20T12:56:27.439868Z",
     "iopub.status.busy": "2022-04-20T12:56:27.439070Z",
     "iopub.status.idle": "2022-04-20T12:56:27.470112Z",
     "shell.execute_reply": "2022-04-20T12:56:27.466125Z",
     "shell.execute_reply.started": "2022-04-20T12:56:27.439818Z"
    }
   },
   "outputs": [],
   "source": [
    "# serialize 'User_ID'\n",
    "\n",
    "ratingMatrix_df1['User_ID'] = np.arange(len(ratingMatrix_df1))\n",
    "ratingMatrix_df1"
   ]
  },
  {
   "cell_type": "code",
   "execution_count": null,
   "metadata": {
    "execution": {
     "iopub.execute_input": "2022-04-20T12:56:27.474910Z",
     "iopub.status.busy": "2022-04-20T12:56:27.474516Z",
     "iopub.status.idle": "2022-04-20T12:56:27.486252Z",
     "shell.execute_reply": "2022-04-20T12:56:27.485531Z",
     "shell.execute_reply.started": "2022-04-20T12:56:27.474864Z"
    }
   },
   "outputs": [],
   "source": [
    "print(\"shape of ratingMatrix_df1: \", ratingMatrix_df1.shape)"
   ]
  },
  {
   "cell_type": "markdown",
   "metadata": {},
   "source": [
    "# **2. CREATE: ratingMatrix_df2**"
   ]
  },
  {
   "cell_type": "code",
   "execution_count": null,
   "metadata": {
    "execution": {
     "iopub.execute_input": "2022-04-20T12:56:27.487823Z",
     "iopub.status.busy": "2022-04-20T12:56:27.487409Z",
     "iopub.status.idle": "2022-04-20T12:56:28.195282Z",
     "shell.execute_reply": "2022-04-20T12:56:28.194293Z",
     "shell.execute_reply.started": "2022-04-20T12:56:27.487736Z"
    }
   },
   "outputs": [],
   "source": [
    "# preprocessing tmdb dataset\n",
    "\n",
    "tmdb_credit = pd.read_csv('../input/tmdb-movie-metadata/tmdb_5000_credits.csv')\n",
    "tmdb_movie = pd.read_csv('../input/tmdb-movie-metadata/tmdb_5000_movies.csv')"
   ]
  },
  {
   "cell_type": "code",
   "execution_count": null,
   "metadata": {
    "execution": {
     "iopub.execute_input": "2022-04-20T12:56:28.197170Z",
     "iopub.status.busy": "2022-04-20T12:56:28.196822Z",
     "iopub.status.idle": "2022-04-20T12:56:28.235448Z",
     "shell.execute_reply": "2022-04-20T12:56:28.234635Z",
     "shell.execute_reply.started": "2022-04-20T12:56:28.197125Z"
    }
   },
   "outputs": [],
   "source": [
    "tmdb_movie"
   ]
  },
  {
   "cell_type": "code",
   "execution_count": null,
   "metadata": {
    "execution": {
     "iopub.execute_input": "2022-04-20T12:56:28.237416Z",
     "iopub.status.busy": "2022-04-20T12:56:28.236782Z",
     "iopub.status.idle": "2022-04-20T12:56:28.256415Z",
     "shell.execute_reply": "2022-04-20T12:56:28.255017Z",
     "shell.execute_reply.started": "2022-04-20T12:56:28.237370Z"
    }
   },
   "outputs": [],
   "source": [
    "tmdb_credit"
   ]
  },
  {
   "cell_type": "code",
   "execution_count": null,
   "metadata": {
    "execution": {
     "iopub.execute_input": "2022-04-20T12:56:28.258635Z",
     "iopub.status.busy": "2022-04-20T12:56:28.257878Z",
     "iopub.status.idle": "2022-04-20T12:56:28.283209Z",
     "shell.execute_reply": "2022-04-20T12:56:28.282192Z",
     "shell.execute_reply.started": "2022-04-20T12:56:28.258580Z"
    }
   },
   "outputs": [],
   "source": [
    "# merge tmdb_movie & tmdb_credit df to form ratingMatrix_df2\n",
    "\n",
    "ratingMatrix_df2 = pd.merge(tmdb_movie, tmdb_credit)"
   ]
  },
  {
   "cell_type": "code",
   "execution_count": null,
   "metadata": {
    "execution": {
     "iopub.execute_input": "2022-04-20T12:56:28.285352Z",
     "iopub.status.busy": "2022-04-20T12:56:28.284851Z",
     "iopub.status.idle": "2022-04-20T12:56:28.315651Z",
     "shell.execute_reply": "2022-04-20T12:56:28.314968Z",
     "shell.execute_reply.started": "2022-04-20T12:56:28.285308Z"
    }
   },
   "outputs": [],
   "source": [
    "ratingMatrix_df2.head(3)"
   ]
  },
  {
   "cell_type": "code",
   "execution_count": null,
   "metadata": {
    "execution": {
     "iopub.execute_input": "2022-04-20T12:56:28.317700Z",
     "iopub.status.busy": "2022-04-20T12:56:28.316883Z",
     "iopub.status.idle": "2022-04-20T12:56:28.324663Z",
     "shell.execute_reply": "2022-04-20T12:56:28.323832Z",
     "shell.execute_reply.started": "2022-04-20T12:56:28.317604Z"
    }
   },
   "outputs": [],
   "source": [
    "ratingMatrix_df2.shape"
   ]
  },
  {
   "cell_type": "code",
   "execution_count": null,
   "metadata": {
    "execution": {
     "iopub.execute_input": "2022-04-20T12:56:28.326684Z",
     "iopub.status.busy": "2022-04-20T12:56:28.326203Z",
     "iopub.status.idle": "2022-04-20T12:56:28.343975Z",
     "shell.execute_reply": "2022-04-20T12:56:28.342846Z",
     "shell.execute_reply.started": "2022-04-20T12:56:28.326639Z"
    }
   },
   "outputs": [],
   "source": [
    "# only keep 'movie_id' and 'title'\n",
    "\n",
    "ratingMatrix_df2 = ratingMatrix_df2[['movie_id', 'title']]"
   ]
  },
  {
   "cell_type": "code",
   "execution_count": null,
   "metadata": {
    "execution": {
     "iopub.execute_input": "2022-04-20T12:56:28.345680Z",
     "iopub.status.busy": "2022-04-20T12:56:28.345408Z",
     "iopub.status.idle": "2022-04-20T12:56:28.364910Z",
     "shell.execute_reply": "2022-04-20T12:56:28.363843Z",
     "shell.execute_reply.started": "2022-04-20T12:56:28.345648Z"
    }
   },
   "outputs": [],
   "source": [
    "ratingMatrix_df2"
   ]
  },
  {
   "cell_type": "code",
   "execution_count": null,
   "metadata": {
    "execution": {
     "iopub.execute_input": "2022-04-20T12:56:28.366370Z",
     "iopub.status.busy": "2022-04-20T12:56:28.366129Z",
     "iopub.status.idle": "2022-04-20T12:56:28.380837Z",
     "shell.execute_reply": "2022-04-20T12:56:28.380045Z",
     "shell.execute_reply.started": "2022-04-20T12:56:28.366342Z"
    }
   },
   "outputs": [],
   "source": [
    "# change 'movie_id' -> 'User_ID' \n",
    "# change 'title -> 'Movie_ID'\n",
    "\n",
    "ratingMatrix_df2 = ratingMatrix_df2.rename(columns={'title': 'Movie_ID'})\n",
    "ratingMatrix_df2 = ratingMatrix_df2.rename(columns={'movie_id': 'User_ID'})"
   ]
  },
  {
   "cell_type": "code",
   "execution_count": null,
   "metadata": {
    "execution": {
     "iopub.execute_input": "2022-04-20T12:56:28.382650Z",
     "iopub.status.busy": "2022-04-20T12:56:28.381998Z",
     "iopub.status.idle": "2022-04-20T12:56:28.403798Z",
     "shell.execute_reply": "2022-04-20T12:56:28.403045Z",
     "shell.execute_reply.started": "2022-04-20T12:56:28.382599Z"
    }
   },
   "outputs": [],
   "source": [
    "ratingMatrix_df2"
   ]
  },
  {
   "cell_type": "code",
   "execution_count": null,
   "metadata": {
    "execution": {
     "iopub.execute_input": "2022-04-20T12:56:28.407848Z",
     "iopub.status.busy": "2022-04-20T12:56:28.407204Z",
     "iopub.status.idle": "2022-04-20T12:56:28.420660Z",
     "shell.execute_reply": "2022-04-20T12:56:28.419586Z",
     "shell.execute_reply.started": "2022-04-20T12:56:28.407793Z"
    }
   },
   "outputs": [],
   "source": [
    "# drop duplicates from 'Movie_ID'\n",
    "\n",
    "ratingMatrix_df2.drop_duplicates(subset =\"Movie_ID\",keep = 'first', inplace = True)"
   ]
  },
  {
   "cell_type": "code",
   "execution_count": null,
   "metadata": {
    "execution": {
     "iopub.execute_input": "2022-04-20T12:56:28.423322Z",
     "iopub.status.busy": "2022-04-20T12:56:28.422950Z",
     "iopub.status.idle": "2022-04-20T12:56:28.441802Z",
     "shell.execute_reply": "2022-04-20T12:56:28.440404Z",
     "shell.execute_reply.started": "2022-04-20T12:56:28.423281Z"
    }
   },
   "outputs": [],
   "source": [
    "ratingMatrix_df2"
   ]
  },
  {
   "cell_type": "code",
   "execution_count": null,
   "metadata": {
    "execution": {
     "iopub.execute_input": "2022-04-20T12:56:28.443600Z",
     "iopub.status.busy": "2022-04-20T12:56:28.443192Z",
     "iopub.status.idle": "2022-04-20T12:56:28.464590Z",
     "shell.execute_reply": "2022-04-20T12:56:28.463436Z",
     "shell.execute_reply.started": "2022-04-20T12:56:28.443557Z"
    }
   },
   "outputs": [],
   "source": [
    "# serialize 'User_ID'\n",
    "\n",
    "ratingMatrix_df2['User_ID'] = np.arange(len(ratingMatrix_df2))\n",
    "ratingMatrix_df2"
   ]
  },
  {
   "cell_type": "code",
   "execution_count": null,
   "metadata": {
    "execution": {
     "iopub.execute_input": "2022-04-20T12:56:28.466708Z",
     "iopub.status.busy": "2022-04-20T12:56:28.466241Z",
     "iopub.status.idle": "2022-04-20T12:56:28.475425Z",
     "shell.execute_reply": "2022-04-20T12:56:28.474304Z",
     "shell.execute_reply.started": "2022-04-20T12:56:28.466657Z"
    }
   },
   "outputs": [],
   "source": [
    "print(\"shape of ratingMatrix_df2: \", ratingMatrix_df2.shape)"
   ]
  },
  {
   "cell_type": "markdown",
   "metadata": {},
   "source": [
    "# ****3. Review of ratingMatrix_df1 & ratingMatrix_df2****"
   ]
  },
  {
   "cell_type": "code",
   "execution_count": null,
   "metadata": {
    "execution": {
     "iopub.execute_input": "2022-04-20T12:56:28.478534Z",
     "iopub.status.busy": "2022-04-20T12:56:28.477477Z",
     "iopub.status.idle": "2022-04-20T12:56:28.504833Z",
     "shell.execute_reply": "2022-04-20T12:56:28.504106Z",
     "shell.execute_reply.started": "2022-04-20T12:56:28.478486Z"
    }
   },
   "outputs": [],
   "source": [
    "ratingMatrix_df1"
   ]
  },
  {
   "cell_type": "code",
   "execution_count": null,
   "metadata": {
    "execution": {
     "iopub.execute_input": "2022-04-20T12:56:28.507114Z",
     "iopub.status.busy": "2022-04-20T12:56:28.506630Z",
     "iopub.status.idle": "2022-04-20T12:56:28.519720Z",
     "shell.execute_reply": "2022-04-20T12:56:28.518926Z",
     "shell.execute_reply.started": "2022-04-20T12:56:28.507071Z"
    }
   },
   "outputs": [],
   "source": [
    "ratingMatrix_df2"
   ]
  },
  {
   "cell_type": "code",
   "execution_count": null,
   "metadata": {
    "execution": {
     "iopub.execute_input": "2022-04-20T12:56:28.521809Z",
     "iopub.status.busy": "2022-04-20T12:56:28.521174Z",
     "iopub.status.idle": "2022-04-20T12:56:28.531000Z",
     "shell.execute_reply": "2022-04-20T12:56:28.529827Z",
     "shell.execute_reply.started": "2022-04-20T12:56:28.521755Z"
    }
   },
   "outputs": [],
   "source": [
    "print(\"shape of ratingMatrix_df1: \", ratingMatrix_df1.shape)\n",
    "print(\"shape of ratingMatrix_df2: \", ratingMatrix_df2.shape)"
   ]
  },
  {
   "cell_type": "markdown",
   "metadata": {},
   "source": [
    "# **4. merge ratingMatrix_df1 & ratingMatrix_df2 to form ratingMatrix_df**"
   ]
  },
  {
   "cell_type": "code",
   "execution_count": null,
   "metadata": {
    "execution": {
     "iopub.execute_input": "2022-04-20T12:56:28.533262Z",
     "iopub.status.busy": "2022-04-20T12:56:28.532958Z",
     "iopub.status.idle": "2022-04-20T12:56:28.555596Z",
     "shell.execute_reply": "2022-04-20T12:56:28.554283Z",
     "shell.execute_reply.started": "2022-04-20T12:56:28.533230Z"
    }
   },
   "outputs": [],
   "source": [
    "ratingMatrix_df = pd.merge(ratingMatrix_df1, ratingMatrix_df2, how='outer')"
   ]
  },
  {
   "cell_type": "code",
   "execution_count": null,
   "metadata": {
    "execution": {
     "iopub.execute_input": "2022-04-20T12:56:28.557139Z",
     "iopub.status.busy": "2022-04-20T12:56:28.556860Z",
     "iopub.status.idle": "2022-04-20T12:56:28.576845Z",
     "shell.execute_reply": "2022-04-20T12:56:28.575782Z",
     "shell.execute_reply.started": "2022-04-20T12:56:28.557107Z"
    }
   },
   "outputs": [],
   "source": [
    "# fill all NaN 'Rating' values with a dummy value 1\n",
    "\n",
    "ratingMatrix_df.fillna(value=1, inplace=True)\n",
    "ratingMatrix_df"
   ]
  },
  {
   "cell_type": "code",
   "execution_count": null,
   "metadata": {
    "execution": {
     "iopub.execute_input": "2022-04-20T12:56:28.579451Z",
     "iopub.status.busy": "2022-04-20T12:56:28.578295Z",
     "iopub.status.idle": "2022-04-20T12:56:28.972677Z",
     "shell.execute_reply": "2022-04-20T12:56:28.971952Z",
     "shell.execute_reply.started": "2022-04-20T12:56:28.579328Z"
    }
   },
   "outputs": [],
   "source": [
    "ratingMatrix_df = pd.pivot_table(ratingMatrix_df, index='User_ID', columns='Movie_ID')"
   ]
  },
  {
   "cell_type": "code",
   "execution_count": null,
   "metadata": {
    "execution": {
     "iopub.execute_input": "2022-04-20T12:56:28.975259Z",
     "iopub.status.busy": "2022-04-20T12:56:28.974984Z",
     "iopub.status.idle": "2022-04-20T12:56:29.019297Z",
     "shell.execute_reply": "2022-04-20T12:56:29.018611Z",
     "shell.execute_reply.started": "2022-04-20T12:56:28.975225Z"
    }
   },
   "outputs": [],
   "source": [
    "ratingMatrix_df"
   ]
  },
  {
   "cell_type": "code",
   "execution_count": null,
   "metadata": {
    "execution": {
     "iopub.execute_input": "2022-04-20T12:56:29.021032Z",
     "iopub.status.busy": "2022-04-20T12:56:29.020342Z",
     "iopub.status.idle": "2022-04-20T12:56:29.026008Z",
     "shell.execute_reply": "2022-04-20T12:56:29.025081Z",
     "shell.execute_reply.started": "2022-04-20T12:56:29.020994Z"
    }
   },
   "outputs": [],
   "source": [
    "print(\"shape of ratingMatrix_df: \", ratingMatrix_df.shape)"
   ]
  },
  {
   "cell_type": "markdown",
   "metadata": {},
   "source": [
    "# **5. Make ratingMatrix_df sparse**"
   ]
  },
  {
   "cell_type": "code",
   "execution_count": null,
   "metadata": {
    "execution": {
     "iopub.execute_input": "2022-04-20T12:56:29.028318Z",
     "iopub.status.busy": "2022-04-20T12:56:29.028033Z",
     "iopub.status.idle": "2022-04-20T12:56:29.040354Z",
     "shell.execute_reply": "2022-04-20T12:56:29.039309Z",
     "shell.execute_reply.started": "2022-04-20T12:56:29.028285Z"
    }
   },
   "outputs": [],
   "source": [
    "# use loc and iloc to select rows/cols\n",
    "# ratingMatrix_df.iloc[3][3] = 3\n",
    "# df -> numpy array & vice versa\n",
    "# array = ratingMatrix_df.to_numpy()\n",
    "# array[0][1] = 1\n",
    "# sample_df = pd.DataFrame(array)"
   ]
  },
  {
   "cell_type": "code",
   "execution_count": null,
   "metadata": {
    "execution": {
     "iopub.execute_input": "2022-04-20T12:56:29.222840Z",
     "iopub.status.busy": "2022-04-20T12:56:29.222050Z",
     "iopub.status.idle": "2022-04-20T12:56:29.534971Z",
     "shell.execute_reply": "2022-04-20T12:56:29.534191Z",
     "shell.execute_reply.started": "2022-04-20T12:56:29.222798Z"
    }
   },
   "outputs": [],
   "source": [
    "# create a matrix of same shape as ratingMatrix_df of range -> [-18, 6]\n",
    "\n",
    "m = np.random.randint(low=-18, high=6, size=(4800, 5060), dtype=int)"
   ]
  },
  {
   "cell_type": "code",
   "execution_count": null,
   "metadata": {
    "execution": {
     "iopub.execute_input": "2022-04-20T12:56:29.536809Z",
     "iopub.status.busy": "2022-04-20T12:56:29.536319Z",
     "iopub.status.idle": "2022-04-20T12:56:29.545504Z",
     "shell.execute_reply": "2022-04-20T12:56:29.544463Z",
     "shell.execute_reply.started": "2022-04-20T12:56:29.536769Z"
    }
   },
   "outputs": [],
   "source": [
    "# lets check the format of ratingMatrix_df's columns\n",
    "\n",
    "ratingMatrix_df.columns"
   ]
  },
  {
   "cell_type": "code",
   "execution_count": null,
   "metadata": {
    "execution": {
     "iopub.execute_input": "2022-04-20T12:56:29.580609Z",
     "iopub.status.busy": "2022-04-20T12:56:29.579788Z",
     "iopub.status.idle": "2022-04-20T12:56:29.588719Z",
     "shell.execute_reply": "2022-04-20T12:56:29.587818Z",
     "shell.execute_reply.started": "2022-04-20T12:56:29.580567Z"
    }
   },
   "outputs": [],
   "source": [
    "# create a list containing all movie names\n",
    "\n",
    "movieList=[]\n",
    "for i in ratingMatrix_df.columns:\n",
    "    movieList.append(i[1])"
   ]
  },
  {
   "cell_type": "code",
   "execution_count": null,
   "metadata": {
    "execution": {
     "iopub.execute_input": "2022-04-20T12:56:29.811108Z",
     "iopub.status.busy": "2022-04-20T12:56:29.810274Z",
     "iopub.status.idle": "2022-04-20T12:56:29.815776Z",
     "shell.execute_reply": "2022-04-20T12:56:29.815072Z",
     "shell.execute_reply.started": "2022-04-20T12:56:29.811067Z"
    }
   },
   "outputs": [],
   "source": [
    "# store the values in ratingMatrix_df\n",
    "\n",
    "ratingMatrix_df = pd.DataFrame(m, columns=movieList)"
   ]
  },
  {
   "cell_type": "code",
   "execution_count": null,
   "metadata": {
    "execution": {
     "iopub.execute_input": "2022-04-20T12:56:29.976224Z",
     "iopub.status.busy": "2022-04-20T12:56:29.975522Z",
     "iopub.status.idle": "2022-04-20T12:56:30.228941Z",
     "shell.execute_reply": "2022-04-20T12:56:30.228047Z",
     "shell.execute_reply.started": "2022-04-20T12:56:29.976182Z"
    }
   },
   "outputs": [],
   "source": [
    "# make it sparse\n",
    "ratingMatrix_df[ratingMatrix_df < 1] = 0"
   ]
  },
  {
   "cell_type": "code",
   "execution_count": null,
   "metadata": {
    "execution": {
     "iopub.execute_input": "2022-04-20T12:56:30.230681Z",
     "iopub.status.busy": "2022-04-20T12:56:30.230430Z",
     "iopub.status.idle": "2022-04-20T12:56:30.260692Z",
     "shell.execute_reply": "2022-04-20T12:56:30.259520Z",
     "shell.execute_reply.started": "2022-04-20T12:56:30.230650Z"
    }
   },
   "outputs": [],
   "source": [
    "ratingMatrix_df"
   ]
  }
 ],
 "metadata": {
  "kernelspec": {
   "display_name": "Python 3 (ipykernel)",
   "language": "python",
   "name": "python3"
  },
  "language_info": {
   "codemirror_mode": {
    "name": "ipython",
    "version": 3
   },
   "file_extension": ".py",
   "mimetype": "text/x-python",
   "name": "python",
   "nbconvert_exporter": "python",
   "pygments_lexer": "ipython3",
   "version": "3.9.1"
  }
 },
 "nbformat": 4,
 "nbformat_minor": 4
}
