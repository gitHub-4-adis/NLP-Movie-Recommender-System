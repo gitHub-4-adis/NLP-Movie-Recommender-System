{
 "cells": [
  {
   "cell_type": "markdown",
   "id": "60401438",
   "metadata": {},
   "source": [
    "# Import output recommendation lists from respective '.py' files"
   ]
  },
  {
   "cell_type": "code",
   "execution_count": 1,
   "id": "ac432ab9",
   "metadata": {},
   "outputs": [
    {
     "name": "stdout",
     "output_type": "stream",
     "text": [
      "shape of netflixMovie_df  :  (17770, 2)\n",
      "shape of imdbMovie_df     :  (1000, 2)\n",
      "True\n",
      "the index of last highly rated movie by the user-X:  24\n",
      "the name of last highly rated movie by the user-X:  Stan Lee's Mutants\n",
      "Stan Lee's Mutants\n"
     ]
    }
   ],
   "source": [
    "from release_date_model_functionExtractor import recommendations"
   ]
  },
  {
   "cell_type": "code",
   "execution_count": 2,
   "id": "f9380165",
   "metadata": {},
   "outputs": [
    {
     "name": "stdout",
     "output_type": "stream",
     "text": [
      "Text before stemming:\n",
      " A family wedding reignites the ancient feud between next-door neighbors and fishing buddies John and Max. Meanwhile, a sultry Italian divorcée opens a restaurant at the local bait shop, alarming the locals who worry she'll scare the fish away. But she's less interested in seafood than she is in cooking up a hot time with Max. Still Yelling. Still Fighting. Still Ready for Love. Romance Comedy Walter Matthau Jack Lemmon Ann-Margret Howard Deutch\n",
      "Text after stemming:\n",
      " a famili wed reignit the ancient feud between next-door neighbor and fish buddi john and max. meanwhile, a sultri italian divorcé open a restaur at the local bait shop, alarm the local who worri she'll scare the fish away. but she less interest in seafood than she is in cook up a hot time with max. still yelling. still fighting. still readi for love. romanc comedi walter matthau jack lemmon ann-margret howard deutch\n",
      "0.5114603034875009\n",
      "(1352, 1.0)\n",
      "1804\n"
     ]
    }
   ],
   "source": [
    "from Unsupervised_Learning_NLP_model_functionExtractor import recommended_list"
   ]
  },
  {
   "cell_type": "code",
   "execution_count": 3,
   "id": "a9bcb170",
   "metadata": {},
   "outputs": [],
   "source": [
    "dummy_var = 1"
   ]
  },
  {
   "cell_type": "code",
   "execution_count": 4,
   "id": "18c6f69f",
   "metadata": {},
   "outputs": [],
   "source": [
    "# get recommendations when the user is habituated to the system/ has watched movies at least 1\n",
    "# regard this section as 'YOUR RECOMMENDATIONS'\n",
    "# this is the part where system is computing tf-idf and cosine similarity score of given movie\n",
    "if dummy_var == 2:\n",
    "    print(recommended_list)"
   ]
  },
  {
   "cell_type": "code",
   "execution_count": 5,
   "id": "f8717274",
   "metadata": {},
   "outputs": [
    {
     "name": "stdout",
     "output_type": "stream",
     "text": [
      "[('American Gun', 2002), ('Awara Paagal Deewana', 2002), ('The Next Big Thing', 2002), ('Zig Zag: Special Edition', 2002), ('Vovochka', 2002), ('American Psycho 2', 2002), (\"Pokemon Master Quest: Collector's Box: Quest 1\", 2002), ('Bear in the Big Blue House: Tidy Time with Bear', 2002), ('Firestarter 2: Rekindled', 2002), ('L.A. Law: The Movie', 2002)]\n"
     ]
    }
   ],
   "source": [
    "# get recommendations when a user first logs in/ enters in the system\n",
    "# because we have no idea of his tastes\n",
    "# regard this section as 'MOVIES YOU MAY ALSO LIKE'\n",
    "\n",
    "if dummy_var == 1:\n",
    "    print(recommendations)\n",
    "    dummy_var = 2"
   ]
  },
  {
   "cell_type": "code",
   "execution_count": null,
   "id": "723ce081",
   "metadata": {},
   "outputs": [],
   "source": []
  }
 ],
 "metadata": {
  "kernelspec": {
   "display_name": "Python 3 (ipykernel)",
   "language": "python",
   "name": "python3"
  },
  "language_info": {
   "codemirror_mode": {
    "name": "ipython",
    "version": 3
   },
   "file_extension": ".py",
   "mimetype": "text/x-python",
   "name": "python",
   "nbconvert_exporter": "python",
   "pygments_lexer": "ipython3",
   "version": "3.9.1"
  }
 },
 "nbformat": 4,
 "nbformat_minor": 5
}
