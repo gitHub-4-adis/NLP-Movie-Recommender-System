{
 "cells": [
  {
   "cell_type": "markdown",
   "metadata": {
    "_cell_guid": "b1076dfc-b9ad-4769-8c92-a6c4dae69d19",
    "_uuid": "8f2839f25d086af736a60e9eeb907d3b93b6e0e5",
    "execution": {
     "iopub.execute_input": "2022-04-21T09:07:52.896037Z",
     "iopub.status.busy": "2022-04-21T09:07:52.895069Z",
     "iopub.status.idle": "2022-04-21T09:07:52.925372Z",
     "shell.execute_reply": "2022-04-21T09:07:52.924384Z",
     "shell.execute_reply.started": "2022-04-21T09:07:52.895905Z"
    }
   },
   "source": [
    "# **Movie Recommender on the basis of Release Date of Movie(s)**"
   ]
  },
  {
   "cell_type": "code",
   "execution_count": 1,
   "metadata": {
    "execution": {
     "iopub.execute_input": "2022-04-22T00:35:30.820571Z",
     "iopub.status.busy": "2022-04-22T00:35:30.820242Z",
     "iopub.status.idle": "2022-04-22T00:35:30.825386Z",
     "shell.execute_reply": "2022-04-22T00:35:30.824430Z",
     "shell.execute_reply.started": "2022-04-22T00:35:30.820532Z"
    }
   },
   "outputs": [],
   "source": [
    "import numpy as np\n",
    "import pandas as pd"
   ]
  },
  {
   "cell_type": "markdown",
   "metadata": {},
   "source": [
    "# **1. create 2 dataframes netflixMovie_df and imdbMovie_df**"
   ]
  },
  {
   "cell_type": "markdown",
   "metadata": {},
   "source": [
    "**preprocessing netflix dataframe**"
   ]
  },
  {
   "cell_type": "code",
   "execution_count": 2,
   "metadata": {
    "execution": {
     "iopub.execute_input": "2022-04-22T00:35:31.002426Z",
     "iopub.status.busy": "2022-04-22T00:35:31.001655Z",
     "iopub.status.idle": "2022-04-22T00:35:36.014487Z",
     "shell.execute_reply": "2022-04-22T00:35:36.013541Z",
     "shell.execute_reply.started": "2022-04-22T00:35:31.002388Z"
    }
   },
   "outputs": [],
   "source": [
    "netflixMovie_df = pd.read_csv('Netflix_Dataset_Movie.csv')\n",
    "netflixRating_df = pd.read_csv('Netflix_Dataset_Rating.csv')"
   ]
  },
  {
   "cell_type": "code",
   "execution_count": 3,
   "metadata": {
    "execution": {
     "iopub.execute_input": "2022-04-22T00:35:36.022528Z",
     "iopub.status.busy": "2022-04-22T00:35:36.021654Z",
     "iopub.status.idle": "2022-04-22T00:35:36.031382Z",
     "shell.execute_reply": "2022-04-22T00:35:36.030703Z",
     "shell.execute_reply.started": "2022-04-22T00:35:36.022438Z"
    }
   },
   "outputs": [
    {
     "data": {
      "text/html": [
       "<div>\n",
       "<style scoped>\n",
       "    .dataframe tbody tr th:only-of-type {\n",
       "        vertical-align: middle;\n",
       "    }\n",
       "\n",
       "    .dataframe tbody tr th {\n",
       "        vertical-align: top;\n",
       "    }\n",
       "\n",
       "    .dataframe thead th {\n",
       "        text-align: right;\n",
       "    }\n",
       "</style>\n",
       "<table border=\"1\" class=\"dataframe\">\n",
       "  <thead>\n",
       "    <tr style=\"text-align: right;\">\n",
       "      <th></th>\n",
       "      <th>User_ID</th>\n",
       "      <th>Rating</th>\n",
       "      <th>Movie_ID</th>\n",
       "    </tr>\n",
       "  </thead>\n",
       "  <tbody>\n",
       "    <tr>\n",
       "      <th>0</th>\n",
       "      <td>712664</td>\n",
       "      <td>5</td>\n",
       "      <td>3</td>\n",
       "    </tr>\n",
       "  </tbody>\n",
       "</table>\n",
       "</div>"
      ],
      "text/plain": [
       "   User_ID  Rating  Movie_ID\n",
       "0   712664       5         3"
      ]
     },
     "execution_count": 3,
     "metadata": {},
     "output_type": "execute_result"
    }
   ],
   "source": [
    "# we don't need rating dataframe as there is no year of launch of movies\n",
    "netflixRating_df.head(1)"
   ]
  },
  {
   "cell_type": "code",
   "execution_count": 4,
   "metadata": {
    "execution": {
     "iopub.execute_input": "2022-04-22T00:35:36.033180Z",
     "iopub.status.busy": "2022-04-22T00:35:36.032328Z",
     "iopub.status.idle": "2022-04-22T00:35:36.061198Z",
     "shell.execute_reply": "2022-04-22T00:35:36.060209Z",
     "shell.execute_reply.started": "2022-04-22T00:35:36.033130Z"
    }
   },
   "outputs": [
    {
     "data": {
      "text/html": [
       "<div>\n",
       "<style scoped>\n",
       "    .dataframe tbody tr th:only-of-type {\n",
       "        vertical-align: middle;\n",
       "    }\n",
       "\n",
       "    .dataframe tbody tr th {\n",
       "        vertical-align: top;\n",
       "    }\n",
       "\n",
       "    .dataframe thead th {\n",
       "        text-align: right;\n",
       "    }\n",
       "</style>\n",
       "<table border=\"1\" class=\"dataframe\">\n",
       "  <thead>\n",
       "    <tr style=\"text-align: right;\">\n",
       "      <th></th>\n",
       "      <th>Movie_ID</th>\n",
       "      <th>Year</th>\n",
       "      <th>Name</th>\n",
       "    </tr>\n",
       "  </thead>\n",
       "  <tbody>\n",
       "    <tr>\n",
       "      <th>0</th>\n",
       "      <td>1</td>\n",
       "      <td>2003</td>\n",
       "      <td>Dinosaur Planet</td>\n",
       "    </tr>\n",
       "    <tr>\n",
       "      <th>1</th>\n",
       "      <td>2</td>\n",
       "      <td>2004</td>\n",
       "      <td>Isle of Man TT 2004 Review</td>\n",
       "    </tr>\n",
       "    <tr>\n",
       "      <th>2</th>\n",
       "      <td>3</td>\n",
       "      <td>1997</td>\n",
       "      <td>Character</td>\n",
       "    </tr>\n",
       "    <tr>\n",
       "      <th>3</th>\n",
       "      <td>4</td>\n",
       "      <td>1994</td>\n",
       "      <td>Paula Abdul's Get Up &amp; Dance</td>\n",
       "    </tr>\n",
       "    <tr>\n",
       "      <th>4</th>\n",
       "      <td>5</td>\n",
       "      <td>2004</td>\n",
       "      <td>The Rise and Fall of ECW</td>\n",
       "    </tr>\n",
       "    <tr>\n",
       "      <th>...</th>\n",
       "      <td>...</td>\n",
       "      <td>...</td>\n",
       "      <td>...</td>\n",
       "    </tr>\n",
       "    <tr>\n",
       "      <th>17765</th>\n",
       "      <td>17766</td>\n",
       "      <td>2002</td>\n",
       "      <td>Where the Wild Things Are and Other Maurice Se...</td>\n",
       "    </tr>\n",
       "    <tr>\n",
       "      <th>17766</th>\n",
       "      <td>17767</td>\n",
       "      <td>2004</td>\n",
       "      <td>Fidel Castro: American Experience</td>\n",
       "    </tr>\n",
       "    <tr>\n",
       "      <th>17767</th>\n",
       "      <td>17768</td>\n",
       "      <td>2000</td>\n",
       "      <td>Epoch</td>\n",
       "    </tr>\n",
       "    <tr>\n",
       "      <th>17768</th>\n",
       "      <td>17769</td>\n",
       "      <td>2003</td>\n",
       "      <td>The Company</td>\n",
       "    </tr>\n",
       "    <tr>\n",
       "      <th>17769</th>\n",
       "      <td>17770</td>\n",
       "      <td>2003</td>\n",
       "      <td>Alien Hunter</td>\n",
       "    </tr>\n",
       "  </tbody>\n",
       "</table>\n",
       "<p>17770 rows × 3 columns</p>\n",
       "</div>"
      ],
      "text/plain": [
       "       Movie_ID  Year                                               Name\n",
       "0             1  2003                                    Dinosaur Planet\n",
       "1             2  2004                         Isle of Man TT 2004 Review\n",
       "2             3  1997                                          Character\n",
       "3             4  1994                       Paula Abdul's Get Up & Dance\n",
       "4             5  2004                           The Rise and Fall of ECW\n",
       "...         ...   ...                                                ...\n",
       "17765     17766  2002  Where the Wild Things Are and Other Maurice Se...\n",
       "17766     17767  2004                  Fidel Castro: American Experience\n",
       "17767     17768  2000                                              Epoch\n",
       "17768     17769  2003                                        The Company\n",
       "17769     17770  2003                                       Alien Hunter\n",
       "\n",
       "[17770 rows x 3 columns]"
      ]
     },
     "execution_count": 4,
     "metadata": {},
     "output_type": "execute_result"
    }
   ],
   "source": [
    "netflixMovie_df"
   ]
  },
  {
   "cell_type": "code",
   "execution_count": 5,
   "metadata": {
    "execution": {
     "iopub.execute_input": "2022-04-22T00:35:36.064069Z",
     "iopub.status.busy": "2022-04-22T00:35:36.063809Z",
     "iopub.status.idle": "2022-04-22T00:35:36.077279Z",
     "shell.execute_reply": "2022-04-22T00:35:36.076401Z",
     "shell.execute_reply.started": "2022-04-22T00:35:36.064037Z"
    }
   },
   "outputs": [
    {
     "data": {
      "text/html": [
       "<div>\n",
       "<style scoped>\n",
       "    .dataframe tbody tr th:only-of-type {\n",
       "        vertical-align: middle;\n",
       "    }\n",
       "\n",
       "    .dataframe tbody tr th {\n",
       "        vertical-align: top;\n",
       "    }\n",
       "\n",
       "    .dataframe thead th {\n",
       "        text-align: right;\n",
       "    }\n",
       "</style>\n",
       "<table border=\"1\" class=\"dataframe\">\n",
       "  <thead>\n",
       "    <tr style=\"text-align: right;\">\n",
       "      <th></th>\n",
       "      <th>Name</th>\n",
       "      <th>Year</th>\n",
       "    </tr>\n",
       "  </thead>\n",
       "  <tbody>\n",
       "    <tr>\n",
       "      <th>0</th>\n",
       "      <td>Dinosaur Planet</td>\n",
       "      <td>2003</td>\n",
       "    </tr>\n",
       "    <tr>\n",
       "      <th>1</th>\n",
       "      <td>Isle of Man TT 2004 Review</td>\n",
       "      <td>2004</td>\n",
       "    </tr>\n",
       "    <tr>\n",
       "      <th>2</th>\n",
       "      <td>Character</td>\n",
       "      <td>1997</td>\n",
       "    </tr>\n",
       "    <tr>\n",
       "      <th>3</th>\n",
       "      <td>Paula Abdul's Get Up &amp; Dance</td>\n",
       "      <td>1994</td>\n",
       "    </tr>\n",
       "    <tr>\n",
       "      <th>4</th>\n",
       "      <td>The Rise and Fall of ECW</td>\n",
       "      <td>2004</td>\n",
       "    </tr>\n",
       "    <tr>\n",
       "      <th>...</th>\n",
       "      <td>...</td>\n",
       "      <td>...</td>\n",
       "    </tr>\n",
       "    <tr>\n",
       "      <th>17765</th>\n",
       "      <td>Where the Wild Things Are and Other Maurice Se...</td>\n",
       "      <td>2002</td>\n",
       "    </tr>\n",
       "    <tr>\n",
       "      <th>17766</th>\n",
       "      <td>Fidel Castro: American Experience</td>\n",
       "      <td>2004</td>\n",
       "    </tr>\n",
       "    <tr>\n",
       "      <th>17767</th>\n",
       "      <td>Epoch</td>\n",
       "      <td>2000</td>\n",
       "    </tr>\n",
       "    <tr>\n",
       "      <th>17768</th>\n",
       "      <td>The Company</td>\n",
       "      <td>2003</td>\n",
       "    </tr>\n",
       "    <tr>\n",
       "      <th>17769</th>\n",
       "      <td>Alien Hunter</td>\n",
       "      <td>2003</td>\n",
       "    </tr>\n",
       "  </tbody>\n",
       "</table>\n",
       "<p>17770 rows × 2 columns</p>\n",
       "</div>"
      ],
      "text/plain": [
       "                                                    Name  Year\n",
       "0                                        Dinosaur Planet  2003\n",
       "1                             Isle of Man TT 2004 Review  2004\n",
       "2                                              Character  1997\n",
       "3                           Paula Abdul's Get Up & Dance  1994\n",
       "4                               The Rise and Fall of ECW  2004\n",
       "...                                                  ...   ...\n",
       "17765  Where the Wild Things Are and Other Maurice Se...  2002\n",
       "17766                  Fidel Castro: American Experience  2004\n",
       "17767                                              Epoch  2000\n",
       "17768                                        The Company  2003\n",
       "17769                                       Alien Hunter  2003\n",
       "\n",
       "[17770 rows x 2 columns]"
      ]
     },
     "execution_count": 5,
     "metadata": {},
     "output_type": "execute_result"
    }
   ],
   "source": [
    "# we need movie dataFrame of only netflixMovie_df = ['movie_names', 'release date']\n",
    "\n",
    "netflixMovie_df = netflixMovie_df[['Name', 'Year']]\n",
    "netflixMovie_df"
   ]
  },
  {
   "cell_type": "code",
   "execution_count": 6,
   "metadata": {
    "execution": {
     "iopub.execute_input": "2022-04-22T00:35:36.078930Z",
     "iopub.status.busy": "2022-04-22T00:35:36.078374Z",
     "iopub.status.idle": "2022-04-22T00:35:36.090905Z",
     "shell.execute_reply": "2022-04-22T00:35:36.089969Z",
     "shell.execute_reply.started": "2022-04-22T00:35:36.078900Z"
    }
   },
   "outputs": [],
   "source": [
    "# convert 'Name' -> 'Movie_Title'\n",
    "# convert 'Year' -> 'Released_Year'\n",
    "\n",
    "netflixMovie_df = netflixMovie_df.rename(columns={'Name': 'Movie_Title'})\n",
    "netflixMovie_df = netflixMovie_df.rename(columns={'Year': 'Released_Year'})"
   ]
  },
  {
   "cell_type": "code",
   "execution_count": 7,
   "metadata": {
    "execution": {
     "iopub.execute_input": "2022-04-22T00:35:36.093192Z",
     "iopub.status.busy": "2022-04-22T00:35:36.092649Z",
     "iopub.status.idle": "2022-04-22T00:35:36.108000Z",
     "shell.execute_reply": "2022-04-22T00:35:36.107280Z",
     "shell.execute_reply.started": "2022-04-22T00:35:36.093147Z"
    }
   },
   "outputs": [
    {
     "data": {
      "text/html": [
       "<div>\n",
       "<style scoped>\n",
       "    .dataframe tbody tr th:only-of-type {\n",
       "        vertical-align: middle;\n",
       "    }\n",
       "\n",
       "    .dataframe tbody tr th {\n",
       "        vertical-align: top;\n",
       "    }\n",
       "\n",
       "    .dataframe thead th {\n",
       "        text-align: right;\n",
       "    }\n",
       "</style>\n",
       "<table border=\"1\" class=\"dataframe\">\n",
       "  <thead>\n",
       "    <tr style=\"text-align: right;\">\n",
       "      <th></th>\n",
       "      <th>Movie_Title</th>\n",
       "      <th>Released_Year</th>\n",
       "    </tr>\n",
       "  </thead>\n",
       "  <tbody>\n",
       "    <tr>\n",
       "      <th>0</th>\n",
       "      <td>Dinosaur Planet</td>\n",
       "      <td>2003</td>\n",
       "    </tr>\n",
       "  </tbody>\n",
       "</table>\n",
       "</div>"
      ],
      "text/plain": [
       "       Movie_Title  Released_Year\n",
       "0  Dinosaur Planet           2003"
      ]
     },
     "execution_count": 7,
     "metadata": {},
     "output_type": "execute_result"
    }
   ],
   "source": [
    "netflixMovie_df.head(1)"
   ]
  },
  {
   "cell_type": "markdown",
   "metadata": {},
   "source": [
    "**preprocessing imdb dataframe**"
   ]
  },
  {
   "cell_type": "code",
   "execution_count": 8,
   "metadata": {
    "execution": {
     "iopub.execute_input": "2022-04-22T00:35:36.109795Z",
     "iopub.status.busy": "2022-04-22T00:35:36.109051Z",
     "iopub.status.idle": "2022-04-22T00:35:36.134940Z",
     "shell.execute_reply": "2022-04-22T00:35:36.133927Z",
     "shell.execute_reply.started": "2022-04-22T00:35:36.109762Z"
    }
   },
   "outputs": [],
   "source": [
    "imdbMovie_df = pd.read_csv('imdb_top_1000.csv')"
   ]
  },
  {
   "cell_type": "code",
   "execution_count": 9,
   "metadata": {
    "execution": {
     "iopub.execute_input": "2022-04-22T00:35:36.136817Z",
     "iopub.status.busy": "2022-04-22T00:35:36.136387Z",
     "iopub.status.idle": "2022-04-22T00:35:36.157876Z",
     "shell.execute_reply": "2022-04-22T00:35:36.156943Z",
     "shell.execute_reply.started": "2022-04-22T00:35:36.136766Z"
    }
   },
   "outputs": [
    {
     "data": {
      "text/html": [
       "<div>\n",
       "<style scoped>\n",
       "    .dataframe tbody tr th:only-of-type {\n",
       "        vertical-align: middle;\n",
       "    }\n",
       "\n",
       "    .dataframe tbody tr th {\n",
       "        vertical-align: top;\n",
       "    }\n",
       "\n",
       "    .dataframe thead th {\n",
       "        text-align: right;\n",
       "    }\n",
       "</style>\n",
       "<table border=\"1\" class=\"dataframe\">\n",
       "  <thead>\n",
       "    <tr style=\"text-align: right;\">\n",
       "      <th></th>\n",
       "      <th>Poster_Link</th>\n",
       "      <th>Series_Title</th>\n",
       "      <th>Released_Year</th>\n",
       "      <th>Certificate</th>\n",
       "      <th>Runtime</th>\n",
       "      <th>Genre</th>\n",
       "      <th>IMDB_Rating</th>\n",
       "      <th>Overview</th>\n",
       "      <th>Meta_score</th>\n",
       "      <th>Director</th>\n",
       "      <th>Star1</th>\n",
       "      <th>Star2</th>\n",
       "      <th>Star3</th>\n",
       "      <th>Star4</th>\n",
       "      <th>No_of_Votes</th>\n",
       "      <th>Gross</th>\n",
       "    </tr>\n",
       "  </thead>\n",
       "  <tbody>\n",
       "    <tr>\n",
       "      <th>0</th>\n",
       "      <td>https://m.media-amazon.com/images/M/MV5BMDFkYT...</td>\n",
       "      <td>The Shawshank Redemption</td>\n",
       "      <td>1994</td>\n",
       "      <td>A</td>\n",
       "      <td>142 min</td>\n",
       "      <td>Drama</td>\n",
       "      <td>9.3</td>\n",
       "      <td>Two imprisoned men bond over a number of years...</td>\n",
       "      <td>80.0</td>\n",
       "      <td>Frank Darabont</td>\n",
       "      <td>Tim Robbins</td>\n",
       "      <td>Morgan Freeman</td>\n",
       "      <td>Bob Gunton</td>\n",
       "      <td>William Sadler</td>\n",
       "      <td>2343110</td>\n",
       "      <td>28,341,469</td>\n",
       "    </tr>\n",
       "  </tbody>\n",
       "</table>\n",
       "</div>"
      ],
      "text/plain": [
       "                                         Poster_Link  \\\n",
       "0  https://m.media-amazon.com/images/M/MV5BMDFkYT...   \n",
       "\n",
       "               Series_Title Released_Year Certificate  Runtime  Genre  \\\n",
       "0  The Shawshank Redemption          1994           A  142 min  Drama   \n",
       "\n",
       "   IMDB_Rating                                           Overview  Meta_score  \\\n",
       "0          9.3  Two imprisoned men bond over a number of years...        80.0   \n",
       "\n",
       "         Director        Star1           Star2       Star3           Star4  \\\n",
       "0  Frank Darabont  Tim Robbins  Morgan Freeman  Bob Gunton  William Sadler   \n",
       "\n",
       "   No_of_Votes       Gross  \n",
       "0      2343110  28,341,469  "
      ]
     },
     "execution_count": 9,
     "metadata": {},
     "output_type": "execute_result"
    }
   ],
   "source": [
    "imdbMovie_df.head(1)"
   ]
  },
  {
   "cell_type": "code",
   "execution_count": 10,
   "metadata": {
    "execution": {
     "iopub.execute_input": "2022-04-22T00:35:36.159273Z",
     "iopub.status.busy": "2022-04-22T00:35:36.159051Z",
     "iopub.status.idle": "2022-04-22T00:35:36.171114Z",
     "shell.execute_reply": "2022-04-22T00:35:36.170082Z",
     "shell.execute_reply.started": "2022-04-22T00:35:36.159243Z"
    }
   },
   "outputs": [],
   "source": [
    "# we need movie dataFrame of only imdbMovie_df = ['movie_names', 'release date']\n",
    "\n",
    "imdbMovie_df = imdbMovie_df[['Series_Title', 'Released_Year']]"
   ]
  },
  {
   "cell_type": "code",
   "execution_count": 11,
   "metadata": {
    "execution": {
     "iopub.execute_input": "2022-04-22T00:35:36.174802Z",
     "iopub.status.busy": "2022-04-22T00:35:36.174259Z",
     "iopub.status.idle": "2022-04-22T00:35:36.197696Z",
     "shell.execute_reply": "2022-04-22T00:35:36.196629Z",
     "shell.execute_reply.started": "2022-04-22T00:35:36.174682Z"
    }
   },
   "outputs": [
    {
     "data": {
      "text/html": [
       "<div>\n",
       "<style scoped>\n",
       "    .dataframe tbody tr th:only-of-type {\n",
       "        vertical-align: middle;\n",
       "    }\n",
       "\n",
       "    .dataframe tbody tr th {\n",
       "        vertical-align: top;\n",
       "    }\n",
       "\n",
       "    .dataframe thead th {\n",
       "        text-align: right;\n",
       "    }\n",
       "</style>\n",
       "<table border=\"1\" class=\"dataframe\">\n",
       "  <thead>\n",
       "    <tr style=\"text-align: right;\">\n",
       "      <th></th>\n",
       "      <th>Series_Title</th>\n",
       "      <th>Released_Year</th>\n",
       "    </tr>\n",
       "  </thead>\n",
       "  <tbody>\n",
       "    <tr>\n",
       "      <th>0</th>\n",
       "      <td>The Shawshank Redemption</td>\n",
       "      <td>1994</td>\n",
       "    </tr>\n",
       "  </tbody>\n",
       "</table>\n",
       "</div>"
      ],
      "text/plain": [
       "               Series_Title Released_Year\n",
       "0  The Shawshank Redemption          1994"
      ]
     },
     "execution_count": 11,
     "metadata": {},
     "output_type": "execute_result"
    }
   ],
   "source": [
    "imdbMovie_df.head(1)"
   ]
  },
  {
   "cell_type": "code",
   "execution_count": 12,
   "metadata": {
    "execution": {
     "iopub.execute_input": "2022-04-22T00:35:36.199876Z",
     "iopub.status.busy": "2022-04-22T00:35:36.199350Z",
     "iopub.status.idle": "2022-04-22T00:35:36.207112Z",
     "shell.execute_reply": "2022-04-22T00:35:36.205918Z",
     "shell.execute_reply.started": "2022-04-22T00:35:36.199829Z"
    }
   },
   "outputs": [],
   "source": [
    "# convert 'Series_Title' -> 'Movie_Title'\n",
    "\n",
    "imdbMovie_df = imdbMovie_df.rename(columns={'Series_Title': 'Movie_Title'})"
   ]
  },
  {
   "cell_type": "code",
   "execution_count": 13,
   "metadata": {
    "execution": {
     "iopub.execute_input": "2022-04-22T00:35:36.209804Z",
     "iopub.status.busy": "2022-04-22T00:35:36.209210Z",
     "iopub.status.idle": "2022-04-22T00:35:36.224764Z",
     "shell.execute_reply": "2022-04-22T00:35:36.223957Z",
     "shell.execute_reply.started": "2022-04-22T00:35:36.209766Z"
    }
   },
   "outputs": [
    {
     "data": {
      "text/html": [
       "<div>\n",
       "<style scoped>\n",
       "    .dataframe tbody tr th:only-of-type {\n",
       "        vertical-align: middle;\n",
       "    }\n",
       "\n",
       "    .dataframe tbody tr th {\n",
       "        vertical-align: top;\n",
       "    }\n",
       "\n",
       "    .dataframe thead th {\n",
       "        text-align: right;\n",
       "    }\n",
       "</style>\n",
       "<table border=\"1\" class=\"dataframe\">\n",
       "  <thead>\n",
       "    <tr style=\"text-align: right;\">\n",
       "      <th></th>\n",
       "      <th>Movie_Title</th>\n",
       "      <th>Released_Year</th>\n",
       "    </tr>\n",
       "  </thead>\n",
       "  <tbody>\n",
       "    <tr>\n",
       "      <th>0</th>\n",
       "      <td>The Shawshank Redemption</td>\n",
       "      <td>1994</td>\n",
       "    </tr>\n",
       "  </tbody>\n",
       "</table>\n",
       "</div>"
      ],
      "text/plain": [
       "                Movie_Title Released_Year\n",
       "0  The Shawshank Redemption          1994"
      ]
     },
     "execution_count": 13,
     "metadata": {},
     "output_type": "execute_result"
    }
   ],
   "source": [
    "imdbMovie_df.head(1)"
   ]
  },
  {
   "cell_type": "code",
   "execution_count": 14,
   "metadata": {
    "execution": {
     "iopub.execute_input": "2022-04-22T00:35:36.226989Z",
     "iopub.status.busy": "2022-04-22T00:35:36.226423Z",
     "iopub.status.idle": "2022-04-22T00:35:36.235492Z",
     "shell.execute_reply": "2022-04-22T00:35:36.234678Z",
     "shell.execute_reply.started": "2022-04-22T00:35:36.226938Z"
    }
   },
   "outputs": [],
   "source": [
    "# check if there is some incorrect string value in imdbMovie_df & store it in movie_idx\n",
    "\n",
    "def checkIncorrectValues():\n",
    "    movie_idx = -1\n",
    "    for i in range(len(imdbMovie_df['Released_Year'])):\n",
    "        if(imdbMovie_df['Released_Year'].iloc[i] != 'PG'):\n",
    "            imdbMovie_df['Released_Year'].iloc[i] = int(imdbMovie_df['Released_Year'].iloc[i])\n",
    "        else:\n",
    "            movie_idx = i\n",
    "    return movie_idx"
   ]
  },
  {
   "cell_type": "code",
   "execution_count": 15,
   "metadata": {
    "execution": {
     "iopub.execute_input": "2022-04-22T00:35:36.237440Z",
     "iopub.status.busy": "2022-04-22T00:35:36.236623Z",
     "iopub.status.idle": "2022-04-22T00:35:36.370556Z",
     "shell.execute_reply": "2022-04-22T00:35:36.369820Z",
     "shell.execute_reply.started": "2022-04-22T00:35:36.237395Z"
    }
   },
   "outputs": [],
   "source": [
    "obtained_movie_idx = checkIncorrectValues()"
   ]
  },
  {
   "cell_type": "code",
   "execution_count": 16,
   "metadata": {
    "execution": {
     "iopub.execute_input": "2022-04-22T00:35:36.372043Z",
     "iopub.status.busy": "2022-04-22T00:35:36.371701Z",
     "iopub.status.idle": "2022-04-22T00:35:36.378160Z",
     "shell.execute_reply": "2022-04-22T00:35:36.377221Z",
     "shell.execute_reply.started": "2022-04-22T00:35:36.372014Z"
    }
   },
   "outputs": [
    {
     "data": {
      "text/plain": [
       "'Apollo 13'"
      ]
     },
     "execution_count": 16,
     "metadata": {},
     "output_type": "execute_result"
    }
   ],
   "source": [
    "# check the incorrect 'Movie_Title' value in imdbMovie_df\n",
    "\n",
    "imdbMovie_df['Movie_Title'][obtained_movie_idx]"
   ]
  },
  {
   "cell_type": "code",
   "execution_count": 17,
   "metadata": {
    "execution": {
     "iopub.execute_input": "2022-04-22T00:35:36.380457Z",
     "iopub.status.busy": "2022-04-22T00:35:36.380126Z",
     "iopub.status.idle": "2022-04-22T00:35:36.389186Z",
     "shell.execute_reply": "2022-04-22T00:35:36.388492Z",
     "shell.execute_reply.started": "2022-04-22T00:35:36.380413Z"
    }
   },
   "outputs": [],
   "source": [
    "# fill the movie's 'Released_Year' w/ movie's release date\n",
    "\n",
    "imdbMovie_df['Released_Year'][obtained_movie_idx] = 1970"
   ]
  },
  {
   "cell_type": "markdown",
   "metadata": {},
   "source": [
    "# **2. Review of netflixMovie_df and imdbMovie_df**"
   ]
  },
  {
   "cell_type": "code",
   "execution_count": 18,
   "metadata": {
    "execution": {
     "iopub.execute_input": "2022-04-22T00:35:36.391279Z",
     "iopub.status.busy": "2022-04-22T00:35:36.390271Z",
     "iopub.status.idle": "2022-04-22T00:35:36.411305Z",
     "shell.execute_reply": "2022-04-22T00:35:36.410095Z",
     "shell.execute_reply.started": "2022-04-22T00:35:36.391222Z"
    }
   },
   "outputs": [
    {
     "data": {
      "text/html": [
       "<div>\n",
       "<style scoped>\n",
       "    .dataframe tbody tr th:only-of-type {\n",
       "        vertical-align: middle;\n",
       "    }\n",
       "\n",
       "    .dataframe tbody tr th {\n",
       "        vertical-align: top;\n",
       "    }\n",
       "\n",
       "    .dataframe thead th {\n",
       "        text-align: right;\n",
       "    }\n",
       "</style>\n",
       "<table border=\"1\" class=\"dataframe\">\n",
       "  <thead>\n",
       "    <tr style=\"text-align: right;\">\n",
       "      <th></th>\n",
       "      <th>Movie_Title</th>\n",
       "      <th>Released_Year</th>\n",
       "    </tr>\n",
       "  </thead>\n",
       "  <tbody>\n",
       "    <tr>\n",
       "      <th>0</th>\n",
       "      <td>Dinosaur Planet</td>\n",
       "      <td>2003</td>\n",
       "    </tr>\n",
       "    <tr>\n",
       "      <th>1</th>\n",
       "      <td>Isle of Man TT 2004 Review</td>\n",
       "      <td>2004</td>\n",
       "    </tr>\n",
       "    <tr>\n",
       "      <th>2</th>\n",
       "      <td>Character</td>\n",
       "      <td>1997</td>\n",
       "    </tr>\n",
       "    <tr>\n",
       "      <th>3</th>\n",
       "      <td>Paula Abdul's Get Up &amp; Dance</td>\n",
       "      <td>1994</td>\n",
       "    </tr>\n",
       "    <tr>\n",
       "      <th>4</th>\n",
       "      <td>The Rise and Fall of ECW</td>\n",
       "      <td>2004</td>\n",
       "    </tr>\n",
       "    <tr>\n",
       "      <th>...</th>\n",
       "      <td>...</td>\n",
       "      <td>...</td>\n",
       "    </tr>\n",
       "    <tr>\n",
       "      <th>17765</th>\n",
       "      <td>Where the Wild Things Are and Other Maurice Se...</td>\n",
       "      <td>2002</td>\n",
       "    </tr>\n",
       "    <tr>\n",
       "      <th>17766</th>\n",
       "      <td>Fidel Castro: American Experience</td>\n",
       "      <td>2004</td>\n",
       "    </tr>\n",
       "    <tr>\n",
       "      <th>17767</th>\n",
       "      <td>Epoch</td>\n",
       "      <td>2000</td>\n",
       "    </tr>\n",
       "    <tr>\n",
       "      <th>17768</th>\n",
       "      <td>The Company</td>\n",
       "      <td>2003</td>\n",
       "    </tr>\n",
       "    <tr>\n",
       "      <th>17769</th>\n",
       "      <td>Alien Hunter</td>\n",
       "      <td>2003</td>\n",
       "    </tr>\n",
       "  </tbody>\n",
       "</table>\n",
       "<p>17770 rows × 2 columns</p>\n",
       "</div>"
      ],
      "text/plain": [
       "                                             Movie_Title  Released_Year\n",
       "0                                        Dinosaur Planet           2003\n",
       "1                             Isle of Man TT 2004 Review           2004\n",
       "2                                              Character           1997\n",
       "3                           Paula Abdul's Get Up & Dance           1994\n",
       "4                               The Rise and Fall of ECW           2004\n",
       "...                                                  ...            ...\n",
       "17765  Where the Wild Things Are and Other Maurice Se...           2002\n",
       "17766                  Fidel Castro: American Experience           2004\n",
       "17767                                              Epoch           2000\n",
       "17768                                        The Company           2003\n",
       "17769                                       Alien Hunter           2003\n",
       "\n",
       "[17770 rows x 2 columns]"
      ]
     },
     "execution_count": 18,
     "metadata": {},
     "output_type": "execute_result"
    }
   ],
   "source": [
    "netflixMovie_df"
   ]
  },
  {
   "cell_type": "code",
   "execution_count": 19,
   "metadata": {
    "execution": {
     "iopub.execute_input": "2022-04-22T00:35:36.412780Z",
     "iopub.status.busy": "2022-04-22T00:35:36.412554Z",
     "iopub.status.idle": "2022-04-22T00:35:36.424747Z",
     "shell.execute_reply": "2022-04-22T00:35:36.423745Z",
     "shell.execute_reply.started": "2022-04-22T00:35:36.412750Z"
    }
   },
   "outputs": [
    {
     "data": {
      "text/html": [
       "<div>\n",
       "<style scoped>\n",
       "    .dataframe tbody tr th:only-of-type {\n",
       "        vertical-align: middle;\n",
       "    }\n",
       "\n",
       "    .dataframe tbody tr th {\n",
       "        vertical-align: top;\n",
       "    }\n",
       "\n",
       "    .dataframe thead th {\n",
       "        text-align: right;\n",
       "    }\n",
       "</style>\n",
       "<table border=\"1\" class=\"dataframe\">\n",
       "  <thead>\n",
       "    <tr style=\"text-align: right;\">\n",
       "      <th></th>\n",
       "      <th>Movie_Title</th>\n",
       "      <th>Released_Year</th>\n",
       "    </tr>\n",
       "  </thead>\n",
       "  <tbody>\n",
       "    <tr>\n",
       "      <th>0</th>\n",
       "      <td>The Shawshank Redemption</td>\n",
       "      <td>1994</td>\n",
       "    </tr>\n",
       "    <tr>\n",
       "      <th>1</th>\n",
       "      <td>The Godfather</td>\n",
       "      <td>1972</td>\n",
       "    </tr>\n",
       "    <tr>\n",
       "      <th>2</th>\n",
       "      <td>The Dark Knight</td>\n",
       "      <td>2008</td>\n",
       "    </tr>\n",
       "    <tr>\n",
       "      <th>3</th>\n",
       "      <td>The Godfather: Part II</td>\n",
       "      <td>1974</td>\n",
       "    </tr>\n",
       "    <tr>\n",
       "      <th>4</th>\n",
       "      <td>12 Angry Men</td>\n",
       "      <td>1957</td>\n",
       "    </tr>\n",
       "    <tr>\n",
       "      <th>...</th>\n",
       "      <td>...</td>\n",
       "      <td>...</td>\n",
       "    </tr>\n",
       "    <tr>\n",
       "      <th>995</th>\n",
       "      <td>Breakfast at Tiffany's</td>\n",
       "      <td>1961</td>\n",
       "    </tr>\n",
       "    <tr>\n",
       "      <th>996</th>\n",
       "      <td>Giant</td>\n",
       "      <td>1956</td>\n",
       "    </tr>\n",
       "    <tr>\n",
       "      <th>997</th>\n",
       "      <td>From Here to Eternity</td>\n",
       "      <td>1953</td>\n",
       "    </tr>\n",
       "    <tr>\n",
       "      <th>998</th>\n",
       "      <td>Lifeboat</td>\n",
       "      <td>1944</td>\n",
       "    </tr>\n",
       "    <tr>\n",
       "      <th>999</th>\n",
       "      <td>The 39 Steps</td>\n",
       "      <td>1935</td>\n",
       "    </tr>\n",
       "  </tbody>\n",
       "</table>\n",
       "<p>1000 rows × 2 columns</p>\n",
       "</div>"
      ],
      "text/plain": [
       "                  Movie_Title Released_Year\n",
       "0    The Shawshank Redemption          1994\n",
       "1               The Godfather          1972\n",
       "2             The Dark Knight          2008\n",
       "3      The Godfather: Part II          1974\n",
       "4                12 Angry Men          1957\n",
       "..                        ...           ...\n",
       "995    Breakfast at Tiffany's          1961\n",
       "996                     Giant          1956\n",
       "997     From Here to Eternity          1953\n",
       "998                  Lifeboat          1944\n",
       "999              The 39 Steps          1935\n",
       "\n",
       "[1000 rows x 2 columns]"
      ]
     },
     "execution_count": 19,
     "metadata": {},
     "output_type": "execute_result"
    }
   ],
   "source": [
    "imdbMovie_df"
   ]
  },
  {
   "cell_type": "code",
   "execution_count": 20,
   "metadata": {
    "execution": {
     "iopub.execute_input": "2022-04-22T00:35:36.426515Z",
     "iopub.status.busy": "2022-04-22T00:35:36.425930Z",
     "iopub.status.idle": "2022-04-22T00:35:36.432001Z",
     "shell.execute_reply": "2022-04-22T00:35:36.430993Z",
     "shell.execute_reply.started": "2022-04-22T00:35:36.426448Z"
    }
   },
   "outputs": [
    {
     "name": "stdout",
     "output_type": "stream",
     "text": [
      "shape of netflixMovie_df  :  (17770, 2)\n",
      "shape of imdbMovie_df     :  (1000, 2)\n"
     ]
    }
   ],
   "source": [
    "print('shape of netflixMovie_df  : ', netflixMovie_df.shape)\n",
    "print('shape of imdbMovie_df     : ', imdbMovie_df.shape)"
   ]
  },
  {
   "cell_type": "markdown",
   "metadata": {},
   "source": [
    "# **3. merge netflixMovie_df & imdbMovie_df to form yearMovie_df** "
   ]
  },
  {
   "cell_type": "code",
   "execution_count": 21,
   "metadata": {
    "execution": {
     "iopub.execute_input": "2022-04-22T00:35:36.433915Z",
     "iopub.status.busy": "2022-04-22T00:35:36.433646Z",
     "iopub.status.idle": "2022-04-22T00:35:36.448718Z",
     "shell.execute_reply": "2022-04-22T00:35:36.447702Z",
     "shell.execute_reply.started": "2022-04-22T00:35:36.433883Z"
    }
   },
   "outputs": [],
   "source": [
    "# now merge the two dataframes into yearMovie_df\n",
    "\n",
    "yearMovie_df = pd.concat([netflixMovie_df, imdbMovie_df], axis=0)"
   ]
  },
  {
   "cell_type": "code",
   "execution_count": 22,
   "metadata": {
    "execution": {
     "iopub.execute_input": "2022-04-22T00:35:36.450561Z",
     "iopub.status.busy": "2022-04-22T00:35:36.450175Z",
     "iopub.status.idle": "2022-04-22T00:35:36.469096Z",
     "shell.execute_reply": "2022-04-22T00:35:36.467283Z",
     "shell.execute_reply.started": "2022-04-22T00:35:36.450503Z"
    }
   },
   "outputs": [
    {
     "data": {
      "text/html": [
       "<div>\n",
       "<style scoped>\n",
       "    .dataframe tbody tr th:only-of-type {\n",
       "        vertical-align: middle;\n",
       "    }\n",
       "\n",
       "    .dataframe tbody tr th {\n",
       "        vertical-align: top;\n",
       "    }\n",
       "\n",
       "    .dataframe thead th {\n",
       "        text-align: right;\n",
       "    }\n",
       "</style>\n",
       "<table border=\"1\" class=\"dataframe\">\n",
       "  <thead>\n",
       "    <tr style=\"text-align: right;\">\n",
       "      <th></th>\n",
       "      <th>Movie_Title</th>\n",
       "      <th>Released_Year</th>\n",
       "    </tr>\n",
       "  </thead>\n",
       "  <tbody>\n",
       "    <tr>\n",
       "      <th>0</th>\n",
       "      <td>Dinosaur Planet</td>\n",
       "      <td>2003</td>\n",
       "    </tr>\n",
       "    <tr>\n",
       "      <th>1</th>\n",
       "      <td>Isle of Man TT 2004 Review</td>\n",
       "      <td>2004</td>\n",
       "    </tr>\n",
       "    <tr>\n",
       "      <th>2</th>\n",
       "      <td>Character</td>\n",
       "      <td>1997</td>\n",
       "    </tr>\n",
       "    <tr>\n",
       "      <th>3</th>\n",
       "      <td>Paula Abdul's Get Up &amp; Dance</td>\n",
       "      <td>1994</td>\n",
       "    </tr>\n",
       "    <tr>\n",
       "      <th>4</th>\n",
       "      <td>The Rise and Fall of ECW</td>\n",
       "      <td>2004</td>\n",
       "    </tr>\n",
       "    <tr>\n",
       "      <th>...</th>\n",
       "      <td>...</td>\n",
       "      <td>...</td>\n",
       "    </tr>\n",
       "    <tr>\n",
       "      <th>995</th>\n",
       "      <td>Breakfast at Tiffany's</td>\n",
       "      <td>1961</td>\n",
       "    </tr>\n",
       "    <tr>\n",
       "      <th>996</th>\n",
       "      <td>Giant</td>\n",
       "      <td>1956</td>\n",
       "    </tr>\n",
       "    <tr>\n",
       "      <th>997</th>\n",
       "      <td>From Here to Eternity</td>\n",
       "      <td>1953</td>\n",
       "    </tr>\n",
       "    <tr>\n",
       "      <th>998</th>\n",
       "      <td>Lifeboat</td>\n",
       "      <td>1944</td>\n",
       "    </tr>\n",
       "    <tr>\n",
       "      <th>999</th>\n",
       "      <td>The 39 Steps</td>\n",
       "      <td>1935</td>\n",
       "    </tr>\n",
       "  </tbody>\n",
       "</table>\n",
       "<p>18770 rows × 2 columns</p>\n",
       "</div>"
      ],
      "text/plain": [
       "                      Movie_Title Released_Year\n",
       "0                 Dinosaur Planet          2003\n",
       "1      Isle of Man TT 2004 Review          2004\n",
       "2                       Character          1997\n",
       "3    Paula Abdul's Get Up & Dance          1994\n",
       "4        The Rise and Fall of ECW          2004\n",
       "..                            ...           ...\n",
       "995        Breakfast at Tiffany's          1961\n",
       "996                         Giant          1956\n",
       "997         From Here to Eternity          1953\n",
       "998                      Lifeboat          1944\n",
       "999                  The 39 Steps          1935\n",
       "\n",
       "[18770 rows x 2 columns]"
      ]
     },
     "execution_count": 22,
     "metadata": {},
     "output_type": "execute_result"
    }
   ],
   "source": [
    "yearMovie_df"
   ]
  },
  {
   "cell_type": "code",
   "execution_count": 23,
   "metadata": {
    "execution": {
     "iopub.execute_input": "2022-04-22T00:35:36.471353Z",
     "iopub.status.busy": "2022-04-22T00:35:36.470807Z",
     "iopub.status.idle": "2022-04-22T00:35:36.497897Z",
     "shell.execute_reply": "2022-04-22T00:35:36.496738Z",
     "shell.execute_reply.started": "2022-04-22T00:35:36.471311Z"
    }
   },
   "outputs": [],
   "source": [
    "# sort yearMovie_df on the basis of 'Released_Year'\n",
    "\n",
    "yearMovie_df = yearMovie_df.sort_values(by=[\"Released_Year\"])"
   ]
  },
  {
   "cell_type": "code",
   "execution_count": 24,
   "metadata": {
    "execution": {
     "iopub.execute_input": "2022-04-22T00:35:36.501272Z",
     "iopub.status.busy": "2022-04-22T00:35:36.500454Z",
     "iopub.status.idle": "2022-04-22T00:35:36.514513Z",
     "shell.execute_reply": "2022-04-22T00:35:36.513738Z",
     "shell.execute_reply.started": "2022-04-22T00:35:36.501214Z"
    }
   },
   "outputs": [
    {
     "data": {
      "text/html": [
       "<div>\n",
       "<style scoped>\n",
       "    .dataframe tbody tr th:only-of-type {\n",
       "        vertical-align: middle;\n",
       "    }\n",
       "\n",
       "    .dataframe tbody tr th {\n",
       "        vertical-align: top;\n",
       "    }\n",
       "\n",
       "    .dataframe thead th {\n",
       "        text-align: right;\n",
       "    }\n",
       "</style>\n",
       "<table border=\"1\" class=\"dataframe\">\n",
       "  <thead>\n",
       "    <tr style=\"text-align: right;\">\n",
       "      <th></th>\n",
       "      <th>Movie_Title</th>\n",
       "      <th>Released_Year</th>\n",
       "    </tr>\n",
       "  </thead>\n",
       "  <tbody>\n",
       "    <tr>\n",
       "      <th>17666</th>\n",
       "      <td>Eros Dance Dhamaka</td>\n",
       "      <td>1915</td>\n",
       "    </tr>\n",
       "    <tr>\n",
       "      <th>7653</th>\n",
       "      <td>Lumiere Brothers' First Films</td>\n",
       "      <td>1915</td>\n",
       "    </tr>\n",
       "    <tr>\n",
       "      <th>13146</th>\n",
       "      <td>Chaplin's Essanay Comedies: Vol. 1</td>\n",
       "      <td>1915</td>\n",
       "    </tr>\n",
       "    <tr>\n",
       "      <th>8820</th>\n",
       "      <td>The Birth of a Nation</td>\n",
       "      <td>1915</td>\n",
       "    </tr>\n",
       "    <tr>\n",
       "      <th>14686</th>\n",
       "      <td>Chaplin's Essanay Comedies: Vol. 2</td>\n",
       "      <td>1915</td>\n",
       "    </tr>\n",
       "    <tr>\n",
       "      <th>...</th>\n",
       "      <td>...</td>\n",
       "      <td>...</td>\n",
       "    </tr>\n",
       "    <tr>\n",
       "      <th>612</th>\n",
       "      <td>The Trial of the Chicago 7</td>\n",
       "      <td>2020</td>\n",
       "    </tr>\n",
       "    <tr>\n",
       "      <th>205</th>\n",
       "      <td>Soul</td>\n",
       "      <td>2020</td>\n",
       "    </tr>\n",
       "    <tr>\n",
       "      <th>20</th>\n",
       "      <td>Soorarai Pottru</td>\n",
       "      <td>2020</td>\n",
       "    </tr>\n",
       "    <tr>\n",
       "      <th>18</th>\n",
       "      <td>Hamilton</td>\n",
       "      <td>2020</td>\n",
       "    </tr>\n",
       "    <tr>\n",
       "      <th>613</th>\n",
       "      <td>Druk</td>\n",
       "      <td>2020</td>\n",
       "    </tr>\n",
       "  </tbody>\n",
       "</table>\n",
       "<p>18770 rows × 2 columns</p>\n",
       "</div>"
      ],
      "text/plain": [
       "                              Movie_Title Released_Year\n",
       "17666                  Eros Dance Dhamaka          1915\n",
       "7653        Lumiere Brothers' First Films          1915\n",
       "13146  Chaplin's Essanay Comedies: Vol. 1          1915\n",
       "8820                The Birth of a Nation          1915\n",
       "14686  Chaplin's Essanay Comedies: Vol. 2          1915\n",
       "...                                   ...           ...\n",
       "612            The Trial of the Chicago 7          2020\n",
       "205                                  Soul          2020\n",
       "20                        Soorarai Pottru          2020\n",
       "18                               Hamilton          2020\n",
       "613                                  Druk          2020\n",
       "\n",
       "[18770 rows x 2 columns]"
      ]
     },
     "execution_count": 24,
     "metadata": {},
     "output_type": "execute_result"
    }
   ],
   "source": [
    "yearMovie_df"
   ]
  },
  {
   "cell_type": "code",
   "execution_count": 25,
   "metadata": {
    "execution": {
     "iopub.execute_input": "2022-04-22T00:35:36.517090Z",
     "iopub.status.busy": "2022-04-22T00:35:36.516273Z",
     "iopub.status.idle": "2022-04-22T00:35:36.531725Z",
     "shell.execute_reply": "2022-04-22T00:35:36.530928Z",
     "shell.execute_reply.started": "2022-04-22T00:35:36.517045Z"
    }
   },
   "outputs": [],
   "source": [
    "# add 'User_id' to yearMovie_df\n",
    "\n",
    "yearMovie_df['User_Id'] = [i for i in range(len(yearMovie_df.index))]"
   ]
  },
  {
   "cell_type": "code",
   "execution_count": 26,
   "metadata": {
    "execution": {
     "iopub.execute_input": "2022-04-22T00:35:36.533985Z",
     "iopub.status.busy": "2022-04-22T00:35:36.533399Z",
     "iopub.status.idle": "2022-04-22T00:35:36.553521Z",
     "shell.execute_reply": "2022-04-22T00:35:36.552824Z",
     "shell.execute_reply.started": "2022-04-22T00:35:36.533935Z"
    }
   },
   "outputs": [
    {
     "data": {
      "text/html": [
       "<div>\n",
       "<style scoped>\n",
       "    .dataframe tbody tr th:only-of-type {\n",
       "        vertical-align: middle;\n",
       "    }\n",
       "\n",
       "    .dataframe tbody tr th {\n",
       "        vertical-align: top;\n",
       "    }\n",
       "\n",
       "    .dataframe thead th {\n",
       "        text-align: right;\n",
       "    }\n",
       "</style>\n",
       "<table border=\"1\" class=\"dataframe\">\n",
       "  <thead>\n",
       "    <tr style=\"text-align: right;\">\n",
       "      <th></th>\n",
       "      <th>Movie_Title</th>\n",
       "      <th>Released_Year</th>\n",
       "      <th>User_Id</th>\n",
       "    </tr>\n",
       "  </thead>\n",
       "  <tbody>\n",
       "    <tr>\n",
       "      <th>17666</th>\n",
       "      <td>Eros Dance Dhamaka</td>\n",
       "      <td>1915</td>\n",
       "      <td>0</td>\n",
       "    </tr>\n",
       "    <tr>\n",
       "      <th>7653</th>\n",
       "      <td>Lumiere Brothers' First Films</td>\n",
       "      <td>1915</td>\n",
       "      <td>1</td>\n",
       "    </tr>\n",
       "    <tr>\n",
       "      <th>13146</th>\n",
       "      <td>Chaplin's Essanay Comedies: Vol. 1</td>\n",
       "      <td>1915</td>\n",
       "      <td>2</td>\n",
       "    </tr>\n",
       "    <tr>\n",
       "      <th>8820</th>\n",
       "      <td>The Birth of a Nation</td>\n",
       "      <td>1915</td>\n",
       "      <td>3</td>\n",
       "    </tr>\n",
       "    <tr>\n",
       "      <th>14686</th>\n",
       "      <td>Chaplin's Essanay Comedies: Vol. 2</td>\n",
       "      <td>1915</td>\n",
       "      <td>4</td>\n",
       "    </tr>\n",
       "    <tr>\n",
       "      <th>...</th>\n",
       "      <td>...</td>\n",
       "      <td>...</td>\n",
       "      <td>...</td>\n",
       "    </tr>\n",
       "    <tr>\n",
       "      <th>612</th>\n",
       "      <td>The Trial of the Chicago 7</td>\n",
       "      <td>2020</td>\n",
       "      <td>18765</td>\n",
       "    </tr>\n",
       "    <tr>\n",
       "      <th>205</th>\n",
       "      <td>Soul</td>\n",
       "      <td>2020</td>\n",
       "      <td>18766</td>\n",
       "    </tr>\n",
       "    <tr>\n",
       "      <th>20</th>\n",
       "      <td>Soorarai Pottru</td>\n",
       "      <td>2020</td>\n",
       "      <td>18767</td>\n",
       "    </tr>\n",
       "    <tr>\n",
       "      <th>18</th>\n",
       "      <td>Hamilton</td>\n",
       "      <td>2020</td>\n",
       "      <td>18768</td>\n",
       "    </tr>\n",
       "    <tr>\n",
       "      <th>613</th>\n",
       "      <td>Druk</td>\n",
       "      <td>2020</td>\n",
       "      <td>18769</td>\n",
       "    </tr>\n",
       "  </tbody>\n",
       "</table>\n",
       "<p>18770 rows × 3 columns</p>\n",
       "</div>"
      ],
      "text/plain": [
       "                              Movie_Title Released_Year  User_Id\n",
       "17666                  Eros Dance Dhamaka          1915        0\n",
       "7653        Lumiere Brothers' First Films          1915        1\n",
       "13146  Chaplin's Essanay Comedies: Vol. 1          1915        2\n",
       "8820                The Birth of a Nation          1915        3\n",
       "14686  Chaplin's Essanay Comedies: Vol. 2          1915        4\n",
       "...                                   ...           ...      ...\n",
       "612            The Trial of the Chicago 7          2020    18765\n",
       "205                                  Soul          2020    18766\n",
       "20                        Soorarai Pottru          2020    18767\n",
       "18                               Hamilton          2020    18768\n",
       "613                                  Druk          2020    18769\n",
       "\n",
       "[18770 rows x 3 columns]"
      ]
     },
     "execution_count": 26,
     "metadata": {},
     "output_type": "execute_result"
    }
   ],
   "source": [
    "yearMovie_df"
   ]
  },
  {
   "cell_type": "code",
   "execution_count": 27,
   "metadata": {
    "execution": {
     "iopub.execute_input": "2022-04-22T00:35:36.555544Z",
     "iopub.status.busy": "2022-04-22T00:35:36.554717Z",
     "iopub.status.idle": "2022-04-22T00:35:36.561871Z",
     "shell.execute_reply": "2022-04-22T00:35:36.561240Z",
     "shell.execute_reply.started": "2022-04-22T00:35:36.555494Z"
    }
   },
   "outputs": [],
   "source": [
    "arr = yearMovie_df.to_numpy()"
   ]
  },
  {
   "cell_type": "code",
   "execution_count": 28,
   "metadata": {
    "execution": {
     "iopub.execute_input": "2022-04-22T00:35:36.563679Z",
     "iopub.status.busy": "2022-04-22T00:35:36.562860Z",
     "iopub.status.idle": "2022-04-22T00:35:36.576577Z",
     "shell.execute_reply": "2022-04-22T00:35:36.575504Z",
     "shell.execute_reply.started": "2022-04-22T00:35:36.563639Z"
    }
   },
   "outputs": [
    {
     "data": {
      "text/plain": [
       "array([['Eros Dance Dhamaka', 1915, 0],\n",
       "       [\"Lumiere Brothers' First Films\", 1915, 1],\n",
       "       [\"Chaplin's Essanay Comedies: Vol. 1\", 1915, 2],\n",
       "       ...,\n",
       "       ['Soorarai Pottru', 2020, 18767],\n",
       "       ['Hamilton', 2020, 18768],\n",
       "       ['Druk', 2020, 18769]], dtype=object)"
      ]
     },
     "execution_count": 28,
     "metadata": {},
     "output_type": "execute_result"
    }
   ],
   "source": [
    "arr"
   ]
  },
  {
   "cell_type": "markdown",
   "metadata": {},
   "source": [
    "# **4. Create a pivot table movieUser_df**"
   ]
  },
  {
   "cell_type": "code",
   "execution_count": 29,
   "metadata": {
    "execution": {
     "iopub.execute_input": "2022-04-22T00:35:36.580996Z",
     "iopub.status.busy": "2022-04-22T00:35:36.580190Z",
     "iopub.status.idle": "2022-04-22T00:35:36.596038Z",
     "shell.execute_reply": "2022-04-22T00:35:36.594983Z",
     "shell.execute_reply.started": "2022-04-22T00:35:36.580957Z"
    }
   },
   "outputs": [],
   "source": [
    "yearMovie_df.drop_duplicates(subset='Movie_Title', keep = 'first', inplace = True)"
   ]
  },
  {
   "cell_type": "code",
   "execution_count": 30,
   "metadata": {
    "execution": {
     "iopub.execute_input": "2022-04-22T00:35:36.597717Z",
     "iopub.status.busy": "2022-04-22T00:35:36.597289Z",
     "iopub.status.idle": "2022-04-22T00:35:36.611232Z",
     "shell.execute_reply": "2022-04-22T00:35:36.610551Z",
     "shell.execute_reply.started": "2022-04-22T00:35:36.597679Z"
    }
   },
   "outputs": [
    {
     "data": {
      "text/html": [
       "<div>\n",
       "<style scoped>\n",
       "    .dataframe tbody tr th:only-of-type {\n",
       "        vertical-align: middle;\n",
       "    }\n",
       "\n",
       "    .dataframe tbody tr th {\n",
       "        vertical-align: top;\n",
       "    }\n",
       "\n",
       "    .dataframe thead th {\n",
       "        text-align: right;\n",
       "    }\n",
       "</style>\n",
       "<table border=\"1\" class=\"dataframe\">\n",
       "  <thead>\n",
       "    <tr style=\"text-align: right;\">\n",
       "      <th></th>\n",
       "      <th>Movie_Title</th>\n",
       "      <th>Released_Year</th>\n",
       "      <th>User_Id</th>\n",
       "    </tr>\n",
       "  </thead>\n",
       "  <tbody>\n",
       "    <tr>\n",
       "      <th>17666</th>\n",
       "      <td>Eros Dance Dhamaka</td>\n",
       "      <td>1915</td>\n",
       "      <td>0</td>\n",
       "    </tr>\n",
       "    <tr>\n",
       "      <th>7653</th>\n",
       "      <td>Lumiere Brothers' First Films</td>\n",
       "      <td>1915</td>\n",
       "      <td>1</td>\n",
       "    </tr>\n",
       "    <tr>\n",
       "      <th>13146</th>\n",
       "      <td>Chaplin's Essanay Comedies: Vol. 1</td>\n",
       "      <td>1915</td>\n",
       "      <td>2</td>\n",
       "    </tr>\n",
       "    <tr>\n",
       "      <th>8820</th>\n",
       "      <td>The Birth of a Nation</td>\n",
       "      <td>1915</td>\n",
       "      <td>3</td>\n",
       "    </tr>\n",
       "    <tr>\n",
       "      <th>14686</th>\n",
       "      <td>Chaplin's Essanay Comedies: Vol. 2</td>\n",
       "      <td>1915</td>\n",
       "      <td>4</td>\n",
       "    </tr>\n",
       "    <tr>\n",
       "      <th>...</th>\n",
       "      <td>...</td>\n",
       "      <td>...</td>\n",
       "      <td>...</td>\n",
       "    </tr>\n",
       "    <tr>\n",
       "      <th>612</th>\n",
       "      <td>The Trial of the Chicago 7</td>\n",
       "      <td>2020</td>\n",
       "      <td>18765</td>\n",
       "    </tr>\n",
       "    <tr>\n",
       "      <th>205</th>\n",
       "      <td>Soul</td>\n",
       "      <td>2020</td>\n",
       "      <td>18766</td>\n",
       "    </tr>\n",
       "    <tr>\n",
       "      <th>20</th>\n",
       "      <td>Soorarai Pottru</td>\n",
       "      <td>2020</td>\n",
       "      <td>18767</td>\n",
       "    </tr>\n",
       "    <tr>\n",
       "      <th>18</th>\n",
       "      <td>Hamilton</td>\n",
       "      <td>2020</td>\n",
       "      <td>18768</td>\n",
       "    </tr>\n",
       "    <tr>\n",
       "      <th>613</th>\n",
       "      <td>Druk</td>\n",
       "      <td>2020</td>\n",
       "      <td>18769</td>\n",
       "    </tr>\n",
       "  </tbody>\n",
       "</table>\n",
       "<p>17867 rows × 3 columns</p>\n",
       "</div>"
      ],
      "text/plain": [
       "                              Movie_Title Released_Year  User_Id\n",
       "17666                  Eros Dance Dhamaka          1915        0\n",
       "7653        Lumiere Brothers' First Films          1915        1\n",
       "13146  Chaplin's Essanay Comedies: Vol. 1          1915        2\n",
       "8820                The Birth of a Nation          1915        3\n",
       "14686  Chaplin's Essanay Comedies: Vol. 2          1915        4\n",
       "...                                   ...           ...      ...\n",
       "612            The Trial of the Chicago 7          2020    18765\n",
       "205                                  Soul          2020    18766\n",
       "20                        Soorarai Pottru          2020    18767\n",
       "18                               Hamilton          2020    18768\n",
       "613                                  Druk          2020    18769\n",
       "\n",
       "[17867 rows x 3 columns]"
      ]
     },
     "execution_count": 30,
     "metadata": {},
     "output_type": "execute_result"
    }
   ],
   "source": [
    "yearMovie_df"
   ]
  },
  {
   "cell_type": "code",
   "execution_count": 31,
   "metadata": {
    "execution": {
     "iopub.execute_input": "2022-04-22T00:35:36.613141Z",
     "iopub.status.busy": "2022-04-22T00:35:36.612280Z",
     "iopub.status.idle": "2022-04-22T00:35:36.617608Z",
     "shell.execute_reply": "2022-04-22T00:35:36.616460Z",
     "shell.execute_reply.started": "2022-04-22T00:35:36.613101Z"
    }
   },
   "outputs": [],
   "source": [
    "# drop first 12867 rows\n",
    "N = 12867\n",
    "yearMovie_df = yearMovie_df.iloc[N: , :]"
   ]
  },
  {
   "cell_type": "code",
   "execution_count": 32,
   "metadata": {
    "execution": {
     "iopub.execute_input": "2022-04-22T00:35:36.634350Z",
     "iopub.status.busy": "2022-04-22T00:35:36.633917Z",
     "iopub.status.idle": "2022-04-22T00:35:36.648630Z",
     "shell.execute_reply": "2022-04-22T00:35:36.647783Z",
     "shell.execute_reply.started": "2022-04-22T00:35:36.634315Z"
    }
   },
   "outputs": [
    {
     "data": {
      "text/html": [
       "<div>\n",
       "<style scoped>\n",
       "    .dataframe tbody tr th:only-of-type {\n",
       "        vertical-align: middle;\n",
       "    }\n",
       "\n",
       "    .dataframe tbody tr th {\n",
       "        vertical-align: top;\n",
       "    }\n",
       "\n",
       "    .dataframe thead th {\n",
       "        text-align: right;\n",
       "    }\n",
       "</style>\n",
       "<table border=\"1\" class=\"dataframe\">\n",
       "  <thead>\n",
       "    <tr style=\"text-align: right;\">\n",
       "      <th></th>\n",
       "      <th>Movie_Title</th>\n",
       "      <th>Released_Year</th>\n",
       "      <th>User_Id</th>\n",
       "    </tr>\n",
       "  </thead>\n",
       "  <tbody>\n",
       "    <tr>\n",
       "      <th>3591</th>\n",
       "      <td>The North Face Expeditions: Everest and Bonus ...</td>\n",
       "      <td>2001</td>\n",
       "      <td>13543</td>\n",
       "    </tr>\n",
       "    <tr>\n",
       "      <th>2292</th>\n",
       "      <td>Gaudi Afternoon</td>\n",
       "      <td>2001</td>\n",
       "      <td>13544</td>\n",
       "    </tr>\n",
       "    <tr>\n",
       "      <th>15523</th>\n",
       "      <td>A Woman's a Helluva Thing</td>\n",
       "      <td>2001</td>\n",
       "      <td>13545</td>\n",
       "    </tr>\n",
       "    <tr>\n",
       "      <th>12669</th>\n",
       "      <td>Absolutely Fabulous: Series 4</td>\n",
       "      <td>2001</td>\n",
       "      <td>13546</td>\n",
       "    </tr>\n",
       "    <tr>\n",
       "      <th>5176</th>\n",
       "      <td>Abandoned</td>\n",
       "      <td>2001</td>\n",
       "      <td>13547</td>\n",
       "    </tr>\n",
       "    <tr>\n",
       "      <th>...</th>\n",
       "      <td>...</td>\n",
       "      <td>...</td>\n",
       "      <td>...</td>\n",
       "    </tr>\n",
       "    <tr>\n",
       "      <th>612</th>\n",
       "      <td>The Trial of the Chicago 7</td>\n",
       "      <td>2020</td>\n",
       "      <td>18765</td>\n",
       "    </tr>\n",
       "    <tr>\n",
       "      <th>205</th>\n",
       "      <td>Soul</td>\n",
       "      <td>2020</td>\n",
       "      <td>18766</td>\n",
       "    </tr>\n",
       "    <tr>\n",
       "      <th>20</th>\n",
       "      <td>Soorarai Pottru</td>\n",
       "      <td>2020</td>\n",
       "      <td>18767</td>\n",
       "    </tr>\n",
       "    <tr>\n",
       "      <th>18</th>\n",
       "      <td>Hamilton</td>\n",
       "      <td>2020</td>\n",
       "      <td>18768</td>\n",
       "    </tr>\n",
       "    <tr>\n",
       "      <th>613</th>\n",
       "      <td>Druk</td>\n",
       "      <td>2020</td>\n",
       "      <td>18769</td>\n",
       "    </tr>\n",
       "  </tbody>\n",
       "</table>\n",
       "<p>5000 rows × 3 columns</p>\n",
       "</div>"
      ],
      "text/plain": [
       "                                             Movie_Title Released_Year  \\\n",
       "3591   The North Face Expeditions: Everest and Bonus ...          2001   \n",
       "2292                                     Gaudi Afternoon          2001   \n",
       "15523                          A Woman's a Helluva Thing          2001   \n",
       "12669                      Absolutely Fabulous: Series 4          2001   \n",
       "5176                                           Abandoned          2001   \n",
       "...                                                  ...           ...   \n",
       "612                           The Trial of the Chicago 7          2020   \n",
       "205                                                 Soul          2020   \n",
       "20                                       Soorarai Pottru          2020   \n",
       "18                                              Hamilton          2020   \n",
       "613                                                 Druk          2020   \n",
       "\n",
       "       User_Id  \n",
       "3591     13543  \n",
       "2292     13544  \n",
       "15523    13545  \n",
       "12669    13546  \n",
       "5176     13547  \n",
       "...        ...  \n",
       "612      18765  \n",
       "205      18766  \n",
       "20       18767  \n",
       "18       18768  \n",
       "613      18769  \n",
       "\n",
       "[5000 rows x 3 columns]"
      ]
     },
     "execution_count": 32,
     "metadata": {},
     "output_type": "execute_result"
    }
   ],
   "source": [
    "yearMovie_df"
   ]
  },
  {
   "cell_type": "code",
   "execution_count": 33,
   "metadata": {
    "execution": {
     "iopub.execute_input": "2022-04-22T00:35:36.838426Z",
     "iopub.status.busy": "2022-04-22T00:35:36.837872Z",
     "iopub.status.idle": "2022-04-22T00:35:36.845592Z",
     "shell.execute_reply": "2022-04-22T00:35:36.844564Z",
     "shell.execute_reply.started": "2022-04-22T00:35:36.838365Z"
    }
   },
   "outputs": [
    {
     "data": {
      "text/plain": [
       "'Dinosaur Planet'"
      ]
     },
     "execution_count": 33,
     "metadata": {},
     "output_type": "execute_result"
    }
   ],
   "source": [
    "yearMovie_df['Movie_Title'][0]"
   ]
  },
  {
   "cell_type": "code",
   "execution_count": 34,
   "metadata": {
    "execution": {
     "iopub.execute_input": "2022-04-22T00:35:37.048789Z",
     "iopub.status.busy": "2022-04-22T00:35:37.048495Z",
     "iopub.status.idle": "2022-04-22T00:35:37.057404Z",
     "shell.execute_reply": "2022-04-22T00:35:37.056261Z",
     "shell.execute_reply.started": "2022-04-22T00:35:37.048753Z"
    }
   },
   "outputs": [
    {
     "name": "stderr",
     "output_type": "stream",
     "text": [
      "C:\\Users\\adiso\\AppData\\Local\\Temp\\ipykernel_13180\\2219890618.py:3: SettingWithCopyWarning: \n",
      "A value is trying to be set on a copy of a slice from a DataFrame.\n",
      "Try using .loc[row_indexer,col_indexer] = value instead\n",
      "\n",
      "See the caveats in the documentation: https://pandas.pydata.org/pandas-docs/stable/user_guide/indexing.html#returning-a-view-versus-a-copy\n",
      "  yearMovie_df['User_Id'] = [i for i in range(len(yearMovie_df.index))]\n"
     ]
    }
   ],
   "source": [
    "# reserialize 'User_Id'\n",
    "\n",
    "yearMovie_df['User_Id'] = [i for i in range(len(yearMovie_df.index))]"
   ]
  },
  {
   "cell_type": "code",
   "execution_count": 35,
   "metadata": {
    "execution": {
     "iopub.execute_input": "2022-04-22T00:35:37.244860Z",
     "iopub.status.busy": "2022-04-22T00:35:37.244589Z",
     "iopub.status.idle": "2022-04-22T00:35:38.549504Z",
     "shell.execute_reply": "2022-04-22T00:35:38.548565Z",
     "shell.execute_reply.started": "2022-04-22T00:35:37.244830Z"
    }
   },
   "outputs": [],
   "source": [
    "movieUser_df = pd.pivot_table(yearMovie_df, index='Movie_Title', columns='User_Id', values='Released_Year')\n",
    "# yearMovie_df"
   ]
  },
  {
   "cell_type": "code",
   "execution_count": 36,
   "metadata": {
    "execution": {
     "iopub.execute_input": "2022-04-22T00:35:38.551912Z",
     "iopub.status.busy": "2022-04-22T00:35:38.551577Z",
     "iopub.status.idle": "2022-04-22T00:35:38.585324Z",
     "shell.execute_reply": "2022-04-22T00:35:38.584695Z",
     "shell.execute_reply.started": "2022-04-22T00:35:38.551856Z"
    }
   },
   "outputs": [
    {
     "data": {
      "text/html": [
       "<div>\n",
       "<style scoped>\n",
       "    .dataframe tbody tr th:only-of-type {\n",
       "        vertical-align: middle;\n",
       "    }\n",
       "\n",
       "    .dataframe tbody tr th {\n",
       "        vertical-align: top;\n",
       "    }\n",
       "\n",
       "    .dataframe thead th {\n",
       "        text-align: right;\n",
       "    }\n",
       "</style>\n",
       "<table border=\"1\" class=\"dataframe\">\n",
       "  <thead>\n",
       "    <tr style=\"text-align: right;\">\n",
       "      <th>User_Id</th>\n",
       "      <th>0</th>\n",
       "      <th>1</th>\n",
       "      <th>2</th>\n",
       "      <th>3</th>\n",
       "      <th>4</th>\n",
       "      <th>5</th>\n",
       "      <th>6</th>\n",
       "      <th>7</th>\n",
       "      <th>8</th>\n",
       "      <th>9</th>\n",
       "      <th>...</th>\n",
       "      <th>4990</th>\n",
       "      <th>4991</th>\n",
       "      <th>4992</th>\n",
       "      <th>4993</th>\n",
       "      <th>4994</th>\n",
       "      <th>4995</th>\n",
       "      <th>4996</th>\n",
       "      <th>4997</th>\n",
       "      <th>4998</th>\n",
       "      <th>4999</th>\n",
       "    </tr>\n",
       "    <tr>\n",
       "      <th>Movie_Title</th>\n",
       "      <th></th>\n",
       "      <th></th>\n",
       "      <th></th>\n",
       "      <th></th>\n",
       "      <th></th>\n",
       "      <th></th>\n",
       "      <th></th>\n",
       "      <th></th>\n",
       "      <th></th>\n",
       "      <th></th>\n",
       "      <th></th>\n",
       "      <th></th>\n",
       "      <th></th>\n",
       "      <th></th>\n",
       "      <th></th>\n",
       "      <th></th>\n",
       "      <th></th>\n",
       "      <th></th>\n",
       "      <th></th>\n",
       "      <th></th>\n",
       "      <th></th>\n",
       "    </tr>\n",
       "  </thead>\n",
       "  <tbody>\n",
       "    <tr>\n",
       "      <th>'N Sync: PopOdyssey Live</th>\n",
       "      <td>NaN</td>\n",
       "      <td>NaN</td>\n",
       "      <td>NaN</td>\n",
       "      <td>NaN</td>\n",
       "      <td>NaN</td>\n",
       "      <td>NaN</td>\n",
       "      <td>NaN</td>\n",
       "      <td>NaN</td>\n",
       "      <td>NaN</td>\n",
       "      <td>NaN</td>\n",
       "      <td>...</td>\n",
       "      <td>NaN</td>\n",
       "      <td>NaN</td>\n",
       "      <td>NaN</td>\n",
       "      <td>NaN</td>\n",
       "      <td>NaN</td>\n",
       "      <td>NaN</td>\n",
       "      <td>NaN</td>\n",
       "      <td>NaN</td>\n",
       "      <td>NaN</td>\n",
       "      <td>NaN</td>\n",
       "    </tr>\n",
       "    <tr>\n",
       "      <th>(500) Days of Summer</th>\n",
       "      <td>NaN</td>\n",
       "      <td>NaN</td>\n",
       "      <td>NaN</td>\n",
       "      <td>NaN</td>\n",
       "      <td>NaN</td>\n",
       "      <td>NaN</td>\n",
       "      <td>NaN</td>\n",
       "      <td>NaN</td>\n",
       "      <td>NaN</td>\n",
       "      <td>NaN</td>\n",
       "      <td>...</td>\n",
       "      <td>NaN</td>\n",
       "      <td>NaN</td>\n",
       "      <td>NaN</td>\n",
       "      <td>NaN</td>\n",
       "      <td>NaN</td>\n",
       "      <td>NaN</td>\n",
       "      <td>NaN</td>\n",
       "      <td>NaN</td>\n",
       "      <td>NaN</td>\n",
       "      <td>NaN</td>\n",
       "    </tr>\n",
       "    <tr>\n",
       "      <th>.Com for Murder</th>\n",
       "      <td>NaN</td>\n",
       "      <td>NaN</td>\n",
       "      <td>NaN</td>\n",
       "      <td>NaN</td>\n",
       "      <td>NaN</td>\n",
       "      <td>NaN</td>\n",
       "      <td>NaN</td>\n",
       "      <td>NaN</td>\n",
       "      <td>NaN</td>\n",
       "      <td>NaN</td>\n",
       "      <td>...</td>\n",
       "      <td>NaN</td>\n",
       "      <td>NaN</td>\n",
       "      <td>NaN</td>\n",
       "      <td>NaN</td>\n",
       "      <td>NaN</td>\n",
       "      <td>NaN</td>\n",
       "      <td>NaN</td>\n",
       "      <td>NaN</td>\n",
       "      <td>NaN</td>\n",
       "      <td>NaN</td>\n",
       "    </tr>\n",
       "    <tr>\n",
       "      <th>.hack//Legend of the Twilight</th>\n",
       "      <td>NaN</td>\n",
       "      <td>NaN</td>\n",
       "      <td>NaN</td>\n",
       "      <td>NaN</td>\n",
       "      <td>NaN</td>\n",
       "      <td>NaN</td>\n",
       "      <td>NaN</td>\n",
       "      <td>NaN</td>\n",
       "      <td>NaN</td>\n",
       "      <td>NaN</td>\n",
       "      <td>...</td>\n",
       "      <td>NaN</td>\n",
       "      <td>NaN</td>\n",
       "      <td>NaN</td>\n",
       "      <td>NaN</td>\n",
       "      <td>NaN</td>\n",
       "      <td>NaN</td>\n",
       "      <td>NaN</td>\n",
       "      <td>NaN</td>\n",
       "      <td>NaN</td>\n",
       "      <td>NaN</td>\n",
       "    </tr>\n",
       "    <tr>\n",
       "      <th>.hack//SIGN</th>\n",
       "      <td>NaN</td>\n",
       "      <td>NaN</td>\n",
       "      <td>NaN</td>\n",
       "      <td>NaN</td>\n",
       "      <td>NaN</td>\n",
       "      <td>NaN</td>\n",
       "      <td>NaN</td>\n",
       "      <td>NaN</td>\n",
       "      <td>NaN</td>\n",
       "      <td>NaN</td>\n",
       "      <td>...</td>\n",
       "      <td>NaN</td>\n",
       "      <td>NaN</td>\n",
       "      <td>NaN</td>\n",
       "      <td>NaN</td>\n",
       "      <td>NaN</td>\n",
       "      <td>NaN</td>\n",
       "      <td>NaN</td>\n",
       "      <td>NaN</td>\n",
       "      <td>NaN</td>\n",
       "      <td>NaN</td>\n",
       "    </tr>\n",
       "    <tr>\n",
       "      <th>...</th>\n",
       "      <td>...</td>\n",
       "      <td>...</td>\n",
       "      <td>...</td>\n",
       "      <td>...</td>\n",
       "      <td>...</td>\n",
       "      <td>...</td>\n",
       "      <td>...</td>\n",
       "      <td>...</td>\n",
       "      <td>...</td>\n",
       "      <td>...</td>\n",
       "      <td>...</td>\n",
       "      <td>...</td>\n",
       "      <td>...</td>\n",
       "      <td>...</td>\n",
       "      <td>...</td>\n",
       "      <td>...</td>\n",
       "      <td>...</td>\n",
       "      <td>...</td>\n",
       "      <td>...</td>\n",
       "      <td>...</td>\n",
       "      <td>...</td>\n",
       "    </tr>\n",
       "    <tr>\n",
       "      <th>Zus &amp; Zo</th>\n",
       "      <td>NaN</td>\n",
       "      <td>NaN</td>\n",
       "      <td>NaN</td>\n",
       "      <td>NaN</td>\n",
       "      <td>NaN</td>\n",
       "      <td>NaN</td>\n",
       "      <td>NaN</td>\n",
       "      <td>NaN</td>\n",
       "      <td>NaN</td>\n",
       "      <td>NaN</td>\n",
       "      <td>...</td>\n",
       "      <td>NaN</td>\n",
       "      <td>NaN</td>\n",
       "      <td>NaN</td>\n",
       "      <td>NaN</td>\n",
       "      <td>NaN</td>\n",
       "      <td>NaN</td>\n",
       "      <td>NaN</td>\n",
       "      <td>NaN</td>\n",
       "      <td>NaN</td>\n",
       "      <td>NaN</td>\n",
       "    </tr>\n",
       "    <tr>\n",
       "      <th>Zwartboek</th>\n",
       "      <td>NaN</td>\n",
       "      <td>NaN</td>\n",
       "      <td>NaN</td>\n",
       "      <td>NaN</td>\n",
       "      <td>NaN</td>\n",
       "      <td>NaN</td>\n",
       "      <td>NaN</td>\n",
       "      <td>NaN</td>\n",
       "      <td>NaN</td>\n",
       "      <td>NaN</td>\n",
       "      <td>...</td>\n",
       "      <td>NaN</td>\n",
       "      <td>NaN</td>\n",
       "      <td>NaN</td>\n",
       "      <td>NaN</td>\n",
       "      <td>NaN</td>\n",
       "      <td>NaN</td>\n",
       "      <td>NaN</td>\n",
       "      <td>NaN</td>\n",
       "      <td>NaN</td>\n",
       "      <td>NaN</td>\n",
       "    </tr>\n",
       "    <tr>\n",
       "      <th>e-Dreams</th>\n",
       "      <td>NaN</td>\n",
       "      <td>NaN</td>\n",
       "      <td>NaN</td>\n",
       "      <td>NaN</td>\n",
       "      <td>NaN</td>\n",
       "      <td>NaN</td>\n",
       "      <td>NaN</td>\n",
       "      <td>NaN</td>\n",
       "      <td>NaN</td>\n",
       "      <td>NaN</td>\n",
       "      <td>...</td>\n",
       "      <td>NaN</td>\n",
       "      <td>NaN</td>\n",
       "      <td>NaN</td>\n",
       "      <td>NaN</td>\n",
       "      <td>NaN</td>\n",
       "      <td>NaN</td>\n",
       "      <td>NaN</td>\n",
       "      <td>NaN</td>\n",
       "      <td>NaN</td>\n",
       "      <td>NaN</td>\n",
       "    </tr>\n",
       "    <tr>\n",
       "      <th>s-Cry-ed</th>\n",
       "      <td>NaN</td>\n",
       "      <td>NaN</td>\n",
       "      <td>NaN</td>\n",
       "      <td>NaN</td>\n",
       "      <td>NaN</td>\n",
       "      <td>NaN</td>\n",
       "      <td>NaN</td>\n",
       "      <td>NaN</td>\n",
       "      <td>NaN</td>\n",
       "      <td>NaN</td>\n",
       "      <td>...</td>\n",
       "      <td>NaN</td>\n",
       "      <td>NaN</td>\n",
       "      <td>NaN</td>\n",
       "      <td>NaN</td>\n",
       "      <td>NaN</td>\n",
       "      <td>NaN</td>\n",
       "      <td>NaN</td>\n",
       "      <td>NaN</td>\n",
       "      <td>NaN</td>\n",
       "      <td>NaN</td>\n",
       "    </tr>\n",
       "    <tr>\n",
       "      <th>Ôkami kodomo no Ame to Yuki</th>\n",
       "      <td>NaN</td>\n",
       "      <td>NaN</td>\n",
       "      <td>NaN</td>\n",
       "      <td>NaN</td>\n",
       "      <td>NaN</td>\n",
       "      <td>NaN</td>\n",
       "      <td>NaN</td>\n",
       "      <td>NaN</td>\n",
       "      <td>NaN</td>\n",
       "      <td>NaN</td>\n",
       "      <td>...</td>\n",
       "      <td>NaN</td>\n",
       "      <td>NaN</td>\n",
       "      <td>NaN</td>\n",
       "      <td>NaN</td>\n",
       "      <td>NaN</td>\n",
       "      <td>NaN</td>\n",
       "      <td>NaN</td>\n",
       "      <td>NaN</td>\n",
       "      <td>NaN</td>\n",
       "      <td>NaN</td>\n",
       "    </tr>\n",
       "  </tbody>\n",
       "</table>\n",
       "<p>5000 rows × 5000 columns</p>\n",
       "</div>"
      ],
      "text/plain": [
       "User_Id                        0     1     2     3     4     5     6     7     \\\n",
       "Movie_Title                                                                     \n",
       "'N Sync: PopOdyssey Live        NaN   NaN   NaN   NaN   NaN   NaN   NaN   NaN   \n",
       "(500) Days of Summer            NaN   NaN   NaN   NaN   NaN   NaN   NaN   NaN   \n",
       ".Com for Murder                 NaN   NaN   NaN   NaN   NaN   NaN   NaN   NaN   \n",
       ".hack//Legend of the Twilight   NaN   NaN   NaN   NaN   NaN   NaN   NaN   NaN   \n",
       ".hack//SIGN                     NaN   NaN   NaN   NaN   NaN   NaN   NaN   NaN   \n",
       "...                             ...   ...   ...   ...   ...   ...   ...   ...   \n",
       "Zus & Zo                        NaN   NaN   NaN   NaN   NaN   NaN   NaN   NaN   \n",
       "Zwartboek                       NaN   NaN   NaN   NaN   NaN   NaN   NaN   NaN   \n",
       "e-Dreams                        NaN   NaN   NaN   NaN   NaN   NaN   NaN   NaN   \n",
       "s-Cry-ed                        NaN   NaN   NaN   NaN   NaN   NaN   NaN   NaN   \n",
       "Ôkami kodomo no Ame to Yuki     NaN   NaN   NaN   NaN   NaN   NaN   NaN   NaN   \n",
       "\n",
       "User_Id                        8     9     ...  4990  4991  4992  4993  4994  \\\n",
       "Movie_Title                                ...                                 \n",
       "'N Sync: PopOdyssey Live        NaN   NaN  ...   NaN   NaN   NaN   NaN   NaN   \n",
       "(500) Days of Summer            NaN   NaN  ...   NaN   NaN   NaN   NaN   NaN   \n",
       ".Com for Murder                 NaN   NaN  ...   NaN   NaN   NaN   NaN   NaN   \n",
       ".hack//Legend of the Twilight   NaN   NaN  ...   NaN   NaN   NaN   NaN   NaN   \n",
       ".hack//SIGN                     NaN   NaN  ...   NaN   NaN   NaN   NaN   NaN   \n",
       "...                             ...   ...  ...   ...   ...   ...   ...   ...   \n",
       "Zus & Zo                        NaN   NaN  ...   NaN   NaN   NaN   NaN   NaN   \n",
       "Zwartboek                       NaN   NaN  ...   NaN   NaN   NaN   NaN   NaN   \n",
       "e-Dreams                        NaN   NaN  ...   NaN   NaN   NaN   NaN   NaN   \n",
       "s-Cry-ed                        NaN   NaN  ...   NaN   NaN   NaN   NaN   NaN   \n",
       "Ôkami kodomo no Ame to Yuki     NaN   NaN  ...   NaN   NaN   NaN   NaN   NaN   \n",
       "\n",
       "User_Id                        4995  4996  4997  4998  4999  \n",
       "Movie_Title                                                  \n",
       "'N Sync: PopOdyssey Live        NaN   NaN   NaN   NaN   NaN  \n",
       "(500) Days of Summer            NaN   NaN   NaN   NaN   NaN  \n",
       ".Com for Murder                 NaN   NaN   NaN   NaN   NaN  \n",
       ".hack//Legend of the Twilight   NaN   NaN   NaN   NaN   NaN  \n",
       ".hack//SIGN                     NaN   NaN   NaN   NaN   NaN  \n",
       "...                             ...   ...   ...   ...   ...  \n",
       "Zus & Zo                        NaN   NaN   NaN   NaN   NaN  \n",
       "Zwartboek                       NaN   NaN   NaN   NaN   NaN  \n",
       "e-Dreams                        NaN   NaN   NaN   NaN   NaN  \n",
       "s-Cry-ed                        NaN   NaN   NaN   NaN   NaN  \n",
       "Ôkami kodomo no Ame to Yuki     NaN   NaN   NaN   NaN   NaN  \n",
       "\n",
       "[5000 rows x 5000 columns]"
      ]
     },
     "execution_count": 36,
     "metadata": {},
     "output_type": "execute_result"
    }
   ],
   "source": [
    "movieUser_df"
   ]
  },
  {
   "cell_type": "code",
   "execution_count": 37,
   "metadata": {
    "execution": {
     "iopub.execute_input": "2022-04-22T00:35:38.586815Z",
     "iopub.status.busy": "2022-04-22T00:35:38.586567Z",
     "iopub.status.idle": "2022-04-22T00:35:38.591215Z",
     "shell.execute_reply": "2022-04-22T00:35:38.590213Z",
     "shell.execute_reply.started": "2022-04-22T00:35:38.586785Z"
    }
   },
   "outputs": [],
   "source": [
    "# drop last \n",
    "N = 3000\n",
    "movieUser_df = movieUser_df.iloc[: , :-N]"
   ]
  },
  {
   "cell_type": "code",
   "execution_count": 38,
   "metadata": {
    "execution": {
     "iopub.execute_input": "2022-04-22T00:35:38.594015Z",
     "iopub.status.busy": "2022-04-22T00:35:38.593606Z",
     "iopub.status.idle": "2022-04-22T00:35:38.633620Z",
     "shell.execute_reply": "2022-04-22T00:35:38.632715Z",
     "shell.execute_reply.started": "2022-04-22T00:35:38.593965Z"
    }
   },
   "outputs": [
    {
     "data": {
      "text/html": [
       "<div>\n",
       "<style scoped>\n",
       "    .dataframe tbody tr th:only-of-type {\n",
       "        vertical-align: middle;\n",
       "    }\n",
       "\n",
       "    .dataframe tbody tr th {\n",
       "        vertical-align: top;\n",
       "    }\n",
       "\n",
       "    .dataframe thead th {\n",
       "        text-align: right;\n",
       "    }\n",
       "</style>\n",
       "<table border=\"1\" class=\"dataframe\">\n",
       "  <thead>\n",
       "    <tr style=\"text-align: right;\">\n",
       "      <th>User_Id</th>\n",
       "      <th>0</th>\n",
       "      <th>1</th>\n",
       "      <th>2</th>\n",
       "      <th>3</th>\n",
       "      <th>4</th>\n",
       "      <th>5</th>\n",
       "      <th>6</th>\n",
       "      <th>7</th>\n",
       "      <th>8</th>\n",
       "      <th>9</th>\n",
       "      <th>...</th>\n",
       "      <th>1990</th>\n",
       "      <th>1991</th>\n",
       "      <th>1992</th>\n",
       "      <th>1993</th>\n",
       "      <th>1994</th>\n",
       "      <th>1995</th>\n",
       "      <th>1996</th>\n",
       "      <th>1997</th>\n",
       "      <th>1998</th>\n",
       "      <th>1999</th>\n",
       "    </tr>\n",
       "    <tr>\n",
       "      <th>Movie_Title</th>\n",
       "      <th></th>\n",
       "      <th></th>\n",
       "      <th></th>\n",
       "      <th></th>\n",
       "      <th></th>\n",
       "      <th></th>\n",
       "      <th></th>\n",
       "      <th></th>\n",
       "      <th></th>\n",
       "      <th></th>\n",
       "      <th></th>\n",
       "      <th></th>\n",
       "      <th></th>\n",
       "      <th></th>\n",
       "      <th></th>\n",
       "      <th></th>\n",
       "      <th></th>\n",
       "      <th></th>\n",
       "      <th></th>\n",
       "      <th></th>\n",
       "      <th></th>\n",
       "    </tr>\n",
       "  </thead>\n",
       "  <tbody>\n",
       "    <tr>\n",
       "      <th>'N Sync: PopOdyssey Live</th>\n",
       "      <td>NaN</td>\n",
       "      <td>NaN</td>\n",
       "      <td>NaN</td>\n",
       "      <td>NaN</td>\n",
       "      <td>NaN</td>\n",
       "      <td>NaN</td>\n",
       "      <td>NaN</td>\n",
       "      <td>NaN</td>\n",
       "      <td>NaN</td>\n",
       "      <td>NaN</td>\n",
       "      <td>...</td>\n",
       "      <td>NaN</td>\n",
       "      <td>NaN</td>\n",
       "      <td>NaN</td>\n",
       "      <td>NaN</td>\n",
       "      <td>NaN</td>\n",
       "      <td>NaN</td>\n",
       "      <td>NaN</td>\n",
       "      <td>NaN</td>\n",
       "      <td>NaN</td>\n",
       "      <td>NaN</td>\n",
       "    </tr>\n",
       "    <tr>\n",
       "      <th>(500) Days of Summer</th>\n",
       "      <td>NaN</td>\n",
       "      <td>NaN</td>\n",
       "      <td>NaN</td>\n",
       "      <td>NaN</td>\n",
       "      <td>NaN</td>\n",
       "      <td>NaN</td>\n",
       "      <td>NaN</td>\n",
       "      <td>NaN</td>\n",
       "      <td>NaN</td>\n",
       "      <td>NaN</td>\n",
       "      <td>...</td>\n",
       "      <td>NaN</td>\n",
       "      <td>NaN</td>\n",
       "      <td>NaN</td>\n",
       "      <td>NaN</td>\n",
       "      <td>NaN</td>\n",
       "      <td>NaN</td>\n",
       "      <td>NaN</td>\n",
       "      <td>NaN</td>\n",
       "      <td>NaN</td>\n",
       "      <td>NaN</td>\n",
       "    </tr>\n",
       "    <tr>\n",
       "      <th>.Com for Murder</th>\n",
       "      <td>NaN</td>\n",
       "      <td>NaN</td>\n",
       "      <td>NaN</td>\n",
       "      <td>NaN</td>\n",
       "      <td>NaN</td>\n",
       "      <td>NaN</td>\n",
       "      <td>NaN</td>\n",
       "      <td>NaN</td>\n",
       "      <td>NaN</td>\n",
       "      <td>NaN</td>\n",
       "      <td>...</td>\n",
       "      <td>NaN</td>\n",
       "      <td>NaN</td>\n",
       "      <td>NaN</td>\n",
       "      <td>NaN</td>\n",
       "      <td>NaN</td>\n",
       "      <td>NaN</td>\n",
       "      <td>NaN</td>\n",
       "      <td>NaN</td>\n",
       "      <td>NaN</td>\n",
       "      <td>NaN</td>\n",
       "    </tr>\n",
       "    <tr>\n",
       "      <th>.hack//Legend of the Twilight</th>\n",
       "      <td>NaN</td>\n",
       "      <td>NaN</td>\n",
       "      <td>NaN</td>\n",
       "      <td>NaN</td>\n",
       "      <td>NaN</td>\n",
       "      <td>NaN</td>\n",
       "      <td>NaN</td>\n",
       "      <td>NaN</td>\n",
       "      <td>NaN</td>\n",
       "      <td>NaN</td>\n",
       "      <td>...</td>\n",
       "      <td>NaN</td>\n",
       "      <td>NaN</td>\n",
       "      <td>NaN</td>\n",
       "      <td>NaN</td>\n",
       "      <td>NaN</td>\n",
       "      <td>NaN</td>\n",
       "      <td>NaN</td>\n",
       "      <td>NaN</td>\n",
       "      <td>NaN</td>\n",
       "      <td>NaN</td>\n",
       "    </tr>\n",
       "    <tr>\n",
       "      <th>.hack//SIGN</th>\n",
       "      <td>NaN</td>\n",
       "      <td>NaN</td>\n",
       "      <td>NaN</td>\n",
       "      <td>NaN</td>\n",
       "      <td>NaN</td>\n",
       "      <td>NaN</td>\n",
       "      <td>NaN</td>\n",
       "      <td>NaN</td>\n",
       "      <td>NaN</td>\n",
       "      <td>NaN</td>\n",
       "      <td>...</td>\n",
       "      <td>NaN</td>\n",
       "      <td>NaN</td>\n",
       "      <td>NaN</td>\n",
       "      <td>NaN</td>\n",
       "      <td>NaN</td>\n",
       "      <td>NaN</td>\n",
       "      <td>NaN</td>\n",
       "      <td>NaN</td>\n",
       "      <td>NaN</td>\n",
       "      <td>NaN</td>\n",
       "    </tr>\n",
       "    <tr>\n",
       "      <th>...</th>\n",
       "      <td>...</td>\n",
       "      <td>...</td>\n",
       "      <td>...</td>\n",
       "      <td>...</td>\n",
       "      <td>...</td>\n",
       "      <td>...</td>\n",
       "      <td>...</td>\n",
       "      <td>...</td>\n",
       "      <td>...</td>\n",
       "      <td>...</td>\n",
       "      <td>...</td>\n",
       "      <td>...</td>\n",
       "      <td>...</td>\n",
       "      <td>...</td>\n",
       "      <td>...</td>\n",
       "      <td>...</td>\n",
       "      <td>...</td>\n",
       "      <td>...</td>\n",
       "      <td>...</td>\n",
       "      <td>...</td>\n",
       "      <td>...</td>\n",
       "    </tr>\n",
       "    <tr>\n",
       "      <th>Zus &amp; Zo</th>\n",
       "      <td>NaN</td>\n",
       "      <td>NaN</td>\n",
       "      <td>NaN</td>\n",
       "      <td>NaN</td>\n",
       "      <td>NaN</td>\n",
       "      <td>NaN</td>\n",
       "      <td>NaN</td>\n",
       "      <td>NaN</td>\n",
       "      <td>NaN</td>\n",
       "      <td>NaN</td>\n",
       "      <td>...</td>\n",
       "      <td>NaN</td>\n",
       "      <td>NaN</td>\n",
       "      <td>NaN</td>\n",
       "      <td>NaN</td>\n",
       "      <td>NaN</td>\n",
       "      <td>NaN</td>\n",
       "      <td>NaN</td>\n",
       "      <td>NaN</td>\n",
       "      <td>NaN</td>\n",
       "      <td>NaN</td>\n",
       "    </tr>\n",
       "    <tr>\n",
       "      <th>Zwartboek</th>\n",
       "      <td>NaN</td>\n",
       "      <td>NaN</td>\n",
       "      <td>NaN</td>\n",
       "      <td>NaN</td>\n",
       "      <td>NaN</td>\n",
       "      <td>NaN</td>\n",
       "      <td>NaN</td>\n",
       "      <td>NaN</td>\n",
       "      <td>NaN</td>\n",
       "      <td>NaN</td>\n",
       "      <td>...</td>\n",
       "      <td>NaN</td>\n",
       "      <td>NaN</td>\n",
       "      <td>NaN</td>\n",
       "      <td>NaN</td>\n",
       "      <td>NaN</td>\n",
       "      <td>NaN</td>\n",
       "      <td>NaN</td>\n",
       "      <td>NaN</td>\n",
       "      <td>NaN</td>\n",
       "      <td>NaN</td>\n",
       "    </tr>\n",
       "    <tr>\n",
       "      <th>e-Dreams</th>\n",
       "      <td>NaN</td>\n",
       "      <td>NaN</td>\n",
       "      <td>NaN</td>\n",
       "      <td>NaN</td>\n",
       "      <td>NaN</td>\n",
       "      <td>NaN</td>\n",
       "      <td>NaN</td>\n",
       "      <td>NaN</td>\n",
       "      <td>NaN</td>\n",
       "      <td>NaN</td>\n",
       "      <td>...</td>\n",
       "      <td>NaN</td>\n",
       "      <td>NaN</td>\n",
       "      <td>NaN</td>\n",
       "      <td>NaN</td>\n",
       "      <td>NaN</td>\n",
       "      <td>NaN</td>\n",
       "      <td>NaN</td>\n",
       "      <td>NaN</td>\n",
       "      <td>NaN</td>\n",
       "      <td>NaN</td>\n",
       "    </tr>\n",
       "    <tr>\n",
       "      <th>s-Cry-ed</th>\n",
       "      <td>NaN</td>\n",
       "      <td>NaN</td>\n",
       "      <td>NaN</td>\n",
       "      <td>NaN</td>\n",
       "      <td>NaN</td>\n",
       "      <td>NaN</td>\n",
       "      <td>NaN</td>\n",
       "      <td>NaN</td>\n",
       "      <td>NaN</td>\n",
       "      <td>NaN</td>\n",
       "      <td>...</td>\n",
       "      <td>NaN</td>\n",
       "      <td>NaN</td>\n",
       "      <td>NaN</td>\n",
       "      <td>NaN</td>\n",
       "      <td>NaN</td>\n",
       "      <td>NaN</td>\n",
       "      <td>NaN</td>\n",
       "      <td>NaN</td>\n",
       "      <td>NaN</td>\n",
       "      <td>NaN</td>\n",
       "    </tr>\n",
       "    <tr>\n",
       "      <th>Ôkami kodomo no Ame to Yuki</th>\n",
       "      <td>NaN</td>\n",
       "      <td>NaN</td>\n",
       "      <td>NaN</td>\n",
       "      <td>NaN</td>\n",
       "      <td>NaN</td>\n",
       "      <td>NaN</td>\n",
       "      <td>NaN</td>\n",
       "      <td>NaN</td>\n",
       "      <td>NaN</td>\n",
       "      <td>NaN</td>\n",
       "      <td>...</td>\n",
       "      <td>NaN</td>\n",
       "      <td>NaN</td>\n",
       "      <td>NaN</td>\n",
       "      <td>NaN</td>\n",
       "      <td>NaN</td>\n",
       "      <td>NaN</td>\n",
       "      <td>NaN</td>\n",
       "      <td>NaN</td>\n",
       "      <td>NaN</td>\n",
       "      <td>NaN</td>\n",
       "    </tr>\n",
       "  </tbody>\n",
       "</table>\n",
       "<p>5000 rows × 2000 columns</p>\n",
       "</div>"
      ],
      "text/plain": [
       "User_Id                        0     1     2     3     4     5     6     7     \\\n",
       "Movie_Title                                                                     \n",
       "'N Sync: PopOdyssey Live        NaN   NaN   NaN   NaN   NaN   NaN   NaN   NaN   \n",
       "(500) Days of Summer            NaN   NaN   NaN   NaN   NaN   NaN   NaN   NaN   \n",
       ".Com for Murder                 NaN   NaN   NaN   NaN   NaN   NaN   NaN   NaN   \n",
       ".hack//Legend of the Twilight   NaN   NaN   NaN   NaN   NaN   NaN   NaN   NaN   \n",
       ".hack//SIGN                     NaN   NaN   NaN   NaN   NaN   NaN   NaN   NaN   \n",
       "...                             ...   ...   ...   ...   ...   ...   ...   ...   \n",
       "Zus & Zo                        NaN   NaN   NaN   NaN   NaN   NaN   NaN   NaN   \n",
       "Zwartboek                       NaN   NaN   NaN   NaN   NaN   NaN   NaN   NaN   \n",
       "e-Dreams                        NaN   NaN   NaN   NaN   NaN   NaN   NaN   NaN   \n",
       "s-Cry-ed                        NaN   NaN   NaN   NaN   NaN   NaN   NaN   NaN   \n",
       "Ôkami kodomo no Ame to Yuki     NaN   NaN   NaN   NaN   NaN   NaN   NaN   NaN   \n",
       "\n",
       "User_Id                        8     9     ...  1990  1991  1992  1993  1994  \\\n",
       "Movie_Title                                ...                                 \n",
       "'N Sync: PopOdyssey Live        NaN   NaN  ...   NaN   NaN   NaN   NaN   NaN   \n",
       "(500) Days of Summer            NaN   NaN  ...   NaN   NaN   NaN   NaN   NaN   \n",
       ".Com for Murder                 NaN   NaN  ...   NaN   NaN   NaN   NaN   NaN   \n",
       ".hack//Legend of the Twilight   NaN   NaN  ...   NaN   NaN   NaN   NaN   NaN   \n",
       ".hack//SIGN                     NaN   NaN  ...   NaN   NaN   NaN   NaN   NaN   \n",
       "...                             ...   ...  ...   ...   ...   ...   ...   ...   \n",
       "Zus & Zo                        NaN   NaN  ...   NaN   NaN   NaN   NaN   NaN   \n",
       "Zwartboek                       NaN   NaN  ...   NaN   NaN   NaN   NaN   NaN   \n",
       "e-Dreams                        NaN   NaN  ...   NaN   NaN   NaN   NaN   NaN   \n",
       "s-Cry-ed                        NaN   NaN  ...   NaN   NaN   NaN   NaN   NaN   \n",
       "Ôkami kodomo no Ame to Yuki     NaN   NaN  ...   NaN   NaN   NaN   NaN   NaN   \n",
       "\n",
       "User_Id                        1995  1996  1997  1998  1999  \n",
       "Movie_Title                                                  \n",
       "'N Sync: PopOdyssey Live        NaN   NaN   NaN   NaN   NaN  \n",
       "(500) Days of Summer            NaN   NaN   NaN   NaN   NaN  \n",
       ".Com for Murder                 NaN   NaN   NaN   NaN   NaN  \n",
       ".hack//Legend of the Twilight   NaN   NaN   NaN   NaN   NaN  \n",
       ".hack//SIGN                     NaN   NaN   NaN   NaN   NaN  \n",
       "...                             ...   ...   ...   ...   ...  \n",
       "Zus & Zo                        NaN   NaN   NaN   NaN   NaN  \n",
       "Zwartboek                       NaN   NaN   NaN   NaN   NaN  \n",
       "e-Dreams                        NaN   NaN   NaN   NaN   NaN  \n",
       "s-Cry-ed                        NaN   NaN   NaN   NaN   NaN  \n",
       "Ôkami kodomo no Ame to Yuki     NaN   NaN   NaN   NaN   NaN  \n",
       "\n",
       "[5000 rows x 2000 columns]"
      ]
     },
     "execution_count": 38,
     "metadata": {},
     "output_type": "execute_result"
    }
   ],
   "source": [
    "movieUser_df"
   ]
  },
  {
   "cell_type": "markdown",
   "metadata": {},
   "source": [
    "# **5. make movieUser_df sparse**"
   ]
  },
  {
   "cell_type": "code",
   "execution_count": 39,
   "metadata": {
    "execution": {
     "iopub.execute_input": "2022-04-22T00:35:38.635761Z",
     "iopub.status.busy": "2022-04-22T00:35:38.635201Z",
     "iopub.status.idle": "2022-04-22T00:35:38.837641Z",
     "shell.execute_reply": "2022-04-22T00:35:38.836816Z",
     "shell.execute_reply.started": "2022-04-22T00:35:38.635712Z"
    }
   },
   "outputs": [],
   "source": [
    "m = np.random.randint(low=-300, high=6, size=(5000, 2000), dtype=int)"
   ]
  },
  {
   "cell_type": "code",
   "execution_count": 40,
   "metadata": {
    "execution": {
     "iopub.execute_input": "2022-04-22T00:35:38.839584Z",
     "iopub.status.busy": "2022-04-22T00:35:38.839070Z",
     "iopub.status.idle": "2022-04-22T00:35:38.845518Z",
     "shell.execute_reply": "2022-04-22T00:35:38.844694Z",
     "shell.execute_reply.started": "2022-04-22T00:35:38.839537Z"
    }
   },
   "outputs": [
    {
     "data": {
      "text/plain": [
       "'(500) Days of Summer'"
      ]
     },
     "execution_count": 40,
     "metadata": {},
     "output_type": "execute_result"
    }
   ],
   "source": [
    "movieUser_df.index[1]"
   ]
  },
  {
   "cell_type": "code",
   "execution_count": 41,
   "metadata": {
    "execution": {
     "iopub.execute_input": "2022-04-22T00:35:38.847425Z",
     "iopub.status.busy": "2022-04-22T00:35:38.846973Z",
     "iopub.status.idle": "2022-04-22T00:35:38.866145Z",
     "shell.execute_reply": "2022-04-22T00:35:38.865072Z",
     "shell.execute_reply.started": "2022-04-22T00:35:38.847381Z"
    }
   },
   "outputs": [],
   "source": [
    "# create a list containing all movie names\n",
    "\n",
    "movieList=[]\n",
    "for i in range(len(movieUser_df.index)):\n",
    "    movieList.append(movieUser_df.index[i])"
   ]
  },
  {
   "cell_type": "code",
   "execution_count": 42,
   "metadata": {
    "execution": {
     "iopub.execute_input": "2022-04-22T00:35:38.868396Z",
     "iopub.status.busy": "2022-04-22T00:35:38.867787Z",
     "iopub.status.idle": "2022-04-22T00:35:38.879535Z",
     "shell.execute_reply": "2022-04-22T00:35:38.878772Z",
     "shell.execute_reply.started": "2022-04-22T00:35:38.868360Z"
    }
   },
   "outputs": [],
   "source": [
    "# store the values in userMovie_df\n",
    "\n",
    "movieUser_df = pd.DataFrame(m, index=movieList)"
   ]
  },
  {
   "cell_type": "code",
   "execution_count": 43,
   "metadata": {
    "execution": {
     "iopub.execute_input": "2022-04-22T00:35:38.902913Z",
     "iopub.status.busy": "2022-04-22T00:35:38.902445Z",
     "iopub.status.idle": "2022-04-22T00:35:38.977772Z",
     "shell.execute_reply": "2022-04-22T00:35:38.976917Z",
     "shell.execute_reply.started": "2022-04-22T00:35:38.902881Z"
    }
   },
   "outputs": [],
   "source": [
    "# make it sparse\n",
    "movieUser_df[movieUser_df < 1] = 0"
   ]
  },
  {
   "cell_type": "code",
   "execution_count": 44,
   "metadata": {
    "execution": {
     "iopub.execute_input": "2022-04-22T00:35:39.093899Z",
     "iopub.status.busy": "2022-04-22T00:35:39.093365Z",
     "iopub.status.idle": "2022-04-22T00:35:39.161188Z",
     "shell.execute_reply": "2022-04-22T00:35:39.160282Z",
     "shell.execute_reply.started": "2022-04-22T00:35:39.093861Z"
    }
   },
   "outputs": [
    {
     "data": {
      "text/html": [
       "<div>\n",
       "<style scoped>\n",
       "    .dataframe tbody tr th:only-of-type {\n",
       "        vertical-align: middle;\n",
       "    }\n",
       "\n",
       "    .dataframe tbody tr th {\n",
       "        vertical-align: top;\n",
       "    }\n",
       "\n",
       "    .dataframe thead th {\n",
       "        text-align: right;\n",
       "    }\n",
       "</style>\n",
       "<table border=\"1\" class=\"dataframe\">\n",
       "  <thead>\n",
       "    <tr style=\"text-align: right;\">\n",
       "      <th></th>\n",
       "      <th>0</th>\n",
       "      <th>1</th>\n",
       "      <th>2</th>\n",
       "      <th>3</th>\n",
       "      <th>4</th>\n",
       "      <th>5</th>\n",
       "      <th>6</th>\n",
       "      <th>7</th>\n",
       "      <th>8</th>\n",
       "      <th>9</th>\n",
       "      <th>...</th>\n",
       "      <th>1990</th>\n",
       "      <th>1991</th>\n",
       "      <th>1992</th>\n",
       "      <th>1993</th>\n",
       "      <th>1994</th>\n",
       "      <th>1995</th>\n",
       "      <th>1996</th>\n",
       "      <th>1997</th>\n",
       "      <th>1998</th>\n",
       "      <th>1999</th>\n",
       "    </tr>\n",
       "  </thead>\n",
       "  <tbody>\n",
       "    <tr>\n",
       "      <th>'N Sync: PopOdyssey Live</th>\n",
       "      <td>0</td>\n",
       "      <td>0</td>\n",
       "      <td>0</td>\n",
       "      <td>0</td>\n",
       "      <td>0</td>\n",
       "      <td>0</td>\n",
       "      <td>0</td>\n",
       "      <td>0</td>\n",
       "      <td>0</td>\n",
       "      <td>0</td>\n",
       "      <td>...</td>\n",
       "      <td>0</td>\n",
       "      <td>0</td>\n",
       "      <td>0</td>\n",
       "      <td>0</td>\n",
       "      <td>0</td>\n",
       "      <td>0</td>\n",
       "      <td>0</td>\n",
       "      <td>0</td>\n",
       "      <td>0</td>\n",
       "      <td>0</td>\n",
       "    </tr>\n",
       "    <tr>\n",
       "      <th>(500) Days of Summer</th>\n",
       "      <td>5</td>\n",
       "      <td>0</td>\n",
       "      <td>0</td>\n",
       "      <td>0</td>\n",
       "      <td>0</td>\n",
       "      <td>0</td>\n",
       "      <td>0</td>\n",
       "      <td>0</td>\n",
       "      <td>0</td>\n",
       "      <td>0</td>\n",
       "      <td>...</td>\n",
       "      <td>0</td>\n",
       "      <td>0</td>\n",
       "      <td>0</td>\n",
       "      <td>0</td>\n",
       "      <td>0</td>\n",
       "      <td>0</td>\n",
       "      <td>0</td>\n",
       "      <td>0</td>\n",
       "      <td>0</td>\n",
       "      <td>0</td>\n",
       "    </tr>\n",
       "    <tr>\n",
       "      <th>.Com for Murder</th>\n",
       "      <td>0</td>\n",
       "      <td>0</td>\n",
       "      <td>0</td>\n",
       "      <td>0</td>\n",
       "      <td>0</td>\n",
       "      <td>0</td>\n",
       "      <td>0</td>\n",
       "      <td>0</td>\n",
       "      <td>0</td>\n",
       "      <td>0</td>\n",
       "      <td>...</td>\n",
       "      <td>0</td>\n",
       "      <td>0</td>\n",
       "      <td>0</td>\n",
       "      <td>0</td>\n",
       "      <td>0</td>\n",
       "      <td>0</td>\n",
       "      <td>0</td>\n",
       "      <td>0</td>\n",
       "      <td>0</td>\n",
       "      <td>0</td>\n",
       "    </tr>\n",
       "    <tr>\n",
       "      <th>.hack//Legend of the Twilight</th>\n",
       "      <td>0</td>\n",
       "      <td>0</td>\n",
       "      <td>0</td>\n",
       "      <td>0</td>\n",
       "      <td>0</td>\n",
       "      <td>0</td>\n",
       "      <td>0</td>\n",
       "      <td>0</td>\n",
       "      <td>2</td>\n",
       "      <td>0</td>\n",
       "      <td>...</td>\n",
       "      <td>0</td>\n",
       "      <td>0</td>\n",
       "      <td>0</td>\n",
       "      <td>0</td>\n",
       "      <td>0</td>\n",
       "      <td>0</td>\n",
       "      <td>0</td>\n",
       "      <td>0</td>\n",
       "      <td>0</td>\n",
       "      <td>0</td>\n",
       "    </tr>\n",
       "    <tr>\n",
       "      <th>.hack//SIGN</th>\n",
       "      <td>0</td>\n",
       "      <td>0</td>\n",
       "      <td>0</td>\n",
       "      <td>0</td>\n",
       "      <td>0</td>\n",
       "      <td>0</td>\n",
       "      <td>0</td>\n",
       "      <td>0</td>\n",
       "      <td>0</td>\n",
       "      <td>0</td>\n",
       "      <td>...</td>\n",
       "      <td>0</td>\n",
       "      <td>0</td>\n",
       "      <td>0</td>\n",
       "      <td>0</td>\n",
       "      <td>0</td>\n",
       "      <td>0</td>\n",
       "      <td>0</td>\n",
       "      <td>0</td>\n",
       "      <td>0</td>\n",
       "      <td>0</td>\n",
       "    </tr>\n",
       "    <tr>\n",
       "      <th>...</th>\n",
       "      <td>...</td>\n",
       "      <td>...</td>\n",
       "      <td>...</td>\n",
       "      <td>...</td>\n",
       "      <td>...</td>\n",
       "      <td>...</td>\n",
       "      <td>...</td>\n",
       "      <td>...</td>\n",
       "      <td>...</td>\n",
       "      <td>...</td>\n",
       "      <td>...</td>\n",
       "      <td>...</td>\n",
       "      <td>...</td>\n",
       "      <td>...</td>\n",
       "      <td>...</td>\n",
       "      <td>...</td>\n",
       "      <td>...</td>\n",
       "      <td>...</td>\n",
       "      <td>...</td>\n",
       "      <td>...</td>\n",
       "      <td>...</td>\n",
       "    </tr>\n",
       "    <tr>\n",
       "      <th>Zus &amp; Zo</th>\n",
       "      <td>0</td>\n",
       "      <td>0</td>\n",
       "      <td>0</td>\n",
       "      <td>0</td>\n",
       "      <td>0</td>\n",
       "      <td>0</td>\n",
       "      <td>0</td>\n",
       "      <td>0</td>\n",
       "      <td>0</td>\n",
       "      <td>0</td>\n",
       "      <td>...</td>\n",
       "      <td>0</td>\n",
       "      <td>0</td>\n",
       "      <td>0</td>\n",
       "      <td>0</td>\n",
       "      <td>0</td>\n",
       "      <td>0</td>\n",
       "      <td>0</td>\n",
       "      <td>0</td>\n",
       "      <td>0</td>\n",
       "      <td>0</td>\n",
       "    </tr>\n",
       "    <tr>\n",
       "      <th>Zwartboek</th>\n",
       "      <td>0</td>\n",
       "      <td>0</td>\n",
       "      <td>0</td>\n",
       "      <td>0</td>\n",
       "      <td>0</td>\n",
       "      <td>0</td>\n",
       "      <td>0</td>\n",
       "      <td>0</td>\n",
       "      <td>0</td>\n",
       "      <td>0</td>\n",
       "      <td>...</td>\n",
       "      <td>0</td>\n",
       "      <td>0</td>\n",
       "      <td>0</td>\n",
       "      <td>0</td>\n",
       "      <td>0</td>\n",
       "      <td>0</td>\n",
       "      <td>0</td>\n",
       "      <td>0</td>\n",
       "      <td>0</td>\n",
       "      <td>0</td>\n",
       "    </tr>\n",
       "    <tr>\n",
       "      <th>e-Dreams</th>\n",
       "      <td>0</td>\n",
       "      <td>0</td>\n",
       "      <td>0</td>\n",
       "      <td>1</td>\n",
       "      <td>0</td>\n",
       "      <td>0</td>\n",
       "      <td>0</td>\n",
       "      <td>0</td>\n",
       "      <td>0</td>\n",
       "      <td>0</td>\n",
       "      <td>...</td>\n",
       "      <td>0</td>\n",
       "      <td>0</td>\n",
       "      <td>0</td>\n",
       "      <td>0</td>\n",
       "      <td>0</td>\n",
       "      <td>0</td>\n",
       "      <td>0</td>\n",
       "      <td>0</td>\n",
       "      <td>0</td>\n",
       "      <td>0</td>\n",
       "    </tr>\n",
       "    <tr>\n",
       "      <th>s-Cry-ed</th>\n",
       "      <td>0</td>\n",
       "      <td>0</td>\n",
       "      <td>0</td>\n",
       "      <td>0</td>\n",
       "      <td>0</td>\n",
       "      <td>0</td>\n",
       "      <td>0</td>\n",
       "      <td>0</td>\n",
       "      <td>0</td>\n",
       "      <td>0</td>\n",
       "      <td>...</td>\n",
       "      <td>0</td>\n",
       "      <td>0</td>\n",
       "      <td>0</td>\n",
       "      <td>0</td>\n",
       "      <td>0</td>\n",
       "      <td>0</td>\n",
       "      <td>0</td>\n",
       "      <td>0</td>\n",
       "      <td>0</td>\n",
       "      <td>0</td>\n",
       "    </tr>\n",
       "    <tr>\n",
       "      <th>Ôkami kodomo no Ame to Yuki</th>\n",
       "      <td>0</td>\n",
       "      <td>0</td>\n",
       "      <td>0</td>\n",
       "      <td>4</td>\n",
       "      <td>0</td>\n",
       "      <td>0</td>\n",
       "      <td>0</td>\n",
       "      <td>0</td>\n",
       "      <td>0</td>\n",
       "      <td>0</td>\n",
       "      <td>...</td>\n",
       "      <td>0</td>\n",
       "      <td>0</td>\n",
       "      <td>0</td>\n",
       "      <td>0</td>\n",
       "      <td>0</td>\n",
       "      <td>0</td>\n",
       "      <td>0</td>\n",
       "      <td>0</td>\n",
       "      <td>0</td>\n",
       "      <td>0</td>\n",
       "    </tr>\n",
       "  </tbody>\n",
       "</table>\n",
       "<p>5000 rows × 2000 columns</p>\n",
       "</div>"
      ],
      "text/plain": [
       "                               0     1     2     3     4     5     6     7     \\\n",
       "'N Sync: PopOdyssey Live          0     0     0     0     0     0     0     0   \n",
       "(500) Days of Summer              5     0     0     0     0     0     0     0   \n",
       ".Com for Murder                   0     0     0     0     0     0     0     0   \n",
       ".hack//Legend of the Twilight     0     0     0     0     0     0     0     0   \n",
       ".hack//SIGN                       0     0     0     0     0     0     0     0   \n",
       "...                             ...   ...   ...   ...   ...   ...   ...   ...   \n",
       "Zus & Zo                          0     0     0     0     0     0     0     0   \n",
       "Zwartboek                         0     0     0     0     0     0     0     0   \n",
       "e-Dreams                          0     0     0     1     0     0     0     0   \n",
       "s-Cry-ed                          0     0     0     0     0     0     0     0   \n",
       "Ôkami kodomo no Ame to Yuki       0     0     0     4     0     0     0     0   \n",
       "\n",
       "                               8     9     ...  1990  1991  1992  1993  1994  \\\n",
       "'N Sync: PopOdyssey Live          0     0  ...     0     0     0     0     0   \n",
       "(500) Days of Summer              0     0  ...     0     0     0     0     0   \n",
       ".Com for Murder                   0     0  ...     0     0     0     0     0   \n",
       ".hack//Legend of the Twilight     2     0  ...     0     0     0     0     0   \n",
       ".hack//SIGN                       0     0  ...     0     0     0     0     0   \n",
       "...                             ...   ...  ...   ...   ...   ...   ...   ...   \n",
       "Zus & Zo                          0     0  ...     0     0     0     0     0   \n",
       "Zwartboek                         0     0  ...     0     0     0     0     0   \n",
       "e-Dreams                          0     0  ...     0     0     0     0     0   \n",
       "s-Cry-ed                          0     0  ...     0     0     0     0     0   \n",
       "Ôkami kodomo no Ame to Yuki       0     0  ...     0     0     0     0     0   \n",
       "\n",
       "                               1995  1996  1997  1998  1999  \n",
       "'N Sync: PopOdyssey Live          0     0     0     0     0  \n",
       "(500) Days of Summer              0     0     0     0     0  \n",
       ".Com for Murder                   0     0     0     0     0  \n",
       ".hack//Legend of the Twilight     0     0     0     0     0  \n",
       ".hack//SIGN                       0     0     0     0     0  \n",
       "...                             ...   ...   ...   ...   ...  \n",
       "Zus & Zo                          0     0     0     0     0  \n",
       "Zwartboek                         0     0     0     0     0  \n",
       "e-Dreams                          0     0     0     0     0  \n",
       "s-Cry-ed                          0     0     0     0     0  \n",
       "Ôkami kodomo no Ame to Yuki       0     0     0     0     0  \n",
       "\n",
       "[5000 rows x 2000 columns]"
      ]
     },
     "execution_count": 44,
     "metadata": {},
     "output_type": "execute_result"
    }
   ],
   "source": [
    "# fill all 'nan' values with 0\n",
    "\n",
    "movieUser_df.fillna(0)"
   ]
  },
  {
   "cell_type": "markdown",
   "metadata": {},
   "source": [
    "# *6. Core Logic of Recommender System using Binary Search*"
   ]
  },
  {
   "cell_type": "code",
   "execution_count": 45,
   "metadata": {
    "execution": {
     "iopub.execute_input": "2022-04-22T00:35:39.325975Z",
     "iopub.status.busy": "2022-04-22T00:35:39.325400Z",
     "iopub.status.idle": "2022-04-22T00:35:39.332668Z",
     "shell.execute_reply": "2022-04-22T00:35:39.331775Z",
     "shell.execute_reply.started": "2022-04-22T00:35:39.325933Z"
    }
   },
   "outputs": [],
   "source": [
    "# this function returns the last index of highest valued rating, and the correponding movie name \n",
    "\n",
    "def lastIndexOfTopRatedMoviesByUserX(user_series_of_movies, rating, l, h):\n",
    "    ans_idx = -1\n",
    "    while l <= h:\n",
    "        mid = l + (h-l)//2\n",
    "        if user_series_of_movies[mid] >= rating:\n",
    "            ans_idx = mid\n",
    "            last_coordinated_movie = user_series_of_movies.index[mid]\n",
    "            l = mid + 1\n",
    "        else:\n",
    "            h = mid - 1 \n",
    "            \n",
    "    return ans_idx, last_coordinated_movie"
   ]
  },
  {
   "cell_type": "code",
   "execution_count": 46,
   "metadata": {
    "execution": {
     "iopub.execute_input": "2022-04-22T00:36:48.502811Z",
     "iopub.status.busy": "2022-04-22T00:36:48.502413Z",
     "iopub.status.idle": "2022-04-22T00:36:48.542038Z",
     "shell.execute_reply": "2022-04-22T00:36:48.540575Z",
     "shell.execute_reply.started": "2022-04-22T00:36:48.502776Z"
    }
   },
   "outputs": [],
   "source": [
    "# n = number of movies per top ratings of user\n",
    "# u = 'User_id'\n",
    "# rating = lowest best rating -> [1, 5]\n",
    "# last_coordinated_movie -> name of last highly rated movie by the user-X\n",
    "n = 5\n",
    "u = 0\n",
    "rating = 4\n",
    "# last_coordinated_movie\n",
    "movieUser_df = movieUser_df.sort_values(by=[0], axis=0, ascending=False)"
   ]
  },
  {
   "cell_type": "code",
   "execution_count": 47,
   "metadata": {
    "execution": {
     "iopub.execute_input": "2022-04-22T00:36:49.935294Z",
     "iopub.status.busy": "2022-04-22T00:36:49.935002Z",
     "iopub.status.idle": "2022-04-22T00:36:49.965559Z",
     "shell.execute_reply": "2022-04-22T00:36:49.964543Z",
     "shell.execute_reply.started": "2022-04-22T00:36:49.935262Z"
    }
   },
   "outputs": [
    {
     "data": {
      "text/html": [
       "<div>\n",
       "<style scoped>\n",
       "    .dataframe tbody tr th:only-of-type {\n",
       "        vertical-align: middle;\n",
       "    }\n",
       "\n",
       "    .dataframe tbody tr th {\n",
       "        vertical-align: top;\n",
       "    }\n",
       "\n",
       "    .dataframe thead th {\n",
       "        text-align: right;\n",
       "    }\n",
       "</style>\n",
       "<table border=\"1\" class=\"dataframe\">\n",
       "  <thead>\n",
       "    <tr style=\"text-align: right;\">\n",
       "      <th></th>\n",
       "      <th>0</th>\n",
       "      <th>1</th>\n",
       "      <th>2</th>\n",
       "      <th>3</th>\n",
       "      <th>4</th>\n",
       "      <th>5</th>\n",
       "      <th>6</th>\n",
       "      <th>7</th>\n",
       "      <th>8</th>\n",
       "      <th>9</th>\n",
       "      <th>...</th>\n",
       "      <th>1990</th>\n",
       "      <th>1991</th>\n",
       "      <th>1992</th>\n",
       "      <th>1993</th>\n",
       "      <th>1994</th>\n",
       "      <th>1995</th>\n",
       "      <th>1996</th>\n",
       "      <th>1997</th>\n",
       "      <th>1998</th>\n",
       "      <th>1999</th>\n",
       "    </tr>\n",
       "  </thead>\n",
       "  <tbody>\n",
       "    <tr>\n",
       "      <th>Step Into Liquid</th>\n",
       "      <td>5</td>\n",
       "      <td>0</td>\n",
       "      <td>0</td>\n",
       "      <td>0</td>\n",
       "      <td>0</td>\n",
       "      <td>0</td>\n",
       "      <td>0</td>\n",
       "      <td>0</td>\n",
       "      <td>0</td>\n",
       "      <td>0</td>\n",
       "      <td>...</td>\n",
       "      <td>0</td>\n",
       "      <td>0</td>\n",
       "      <td>0</td>\n",
       "      <td>0</td>\n",
       "      <td>0</td>\n",
       "      <td>0</td>\n",
       "      <td>0</td>\n",
       "      <td>0</td>\n",
       "      <td>0</td>\n",
       "      <td>0</td>\n",
       "    </tr>\n",
       "    <tr>\n",
       "      <th>Art of Revenge</th>\n",
       "      <td>5</td>\n",
       "      <td>0</td>\n",
       "      <td>0</td>\n",
       "      <td>0</td>\n",
       "      <td>0</td>\n",
       "      <td>0</td>\n",
       "      <td>0</td>\n",
       "      <td>0</td>\n",
       "      <td>0</td>\n",
       "      <td>0</td>\n",
       "      <td>...</td>\n",
       "      <td>0</td>\n",
       "      <td>0</td>\n",
       "      <td>0</td>\n",
       "      <td>0</td>\n",
       "      <td>0</td>\n",
       "      <td>0</td>\n",
       "      <td>0</td>\n",
       "      <td>0</td>\n",
       "      <td>0</td>\n",
       "      <td>0</td>\n",
       "    </tr>\n",
       "    <tr>\n",
       "      <th>(500) Days of Summer</th>\n",
       "      <td>5</td>\n",
       "      <td>0</td>\n",
       "      <td>0</td>\n",
       "      <td>0</td>\n",
       "      <td>0</td>\n",
       "      <td>0</td>\n",
       "      <td>0</td>\n",
       "      <td>0</td>\n",
       "      <td>0</td>\n",
       "      <td>0</td>\n",
       "      <td>...</td>\n",
       "      <td>0</td>\n",
       "      <td>0</td>\n",
       "      <td>0</td>\n",
       "      <td>0</td>\n",
       "      <td>0</td>\n",
       "      <td>0</td>\n",
       "      <td>0</td>\n",
       "      <td>0</td>\n",
       "      <td>0</td>\n",
       "      <td>0</td>\n",
       "    </tr>\n",
       "    <tr>\n",
       "      <th>Lord of War</th>\n",
       "      <td>5</td>\n",
       "      <td>0</td>\n",
       "      <td>0</td>\n",
       "      <td>0</td>\n",
       "      <td>0</td>\n",
       "      <td>0</td>\n",
       "      <td>0</td>\n",
       "      <td>0</td>\n",
       "      <td>0</td>\n",
       "      <td>0</td>\n",
       "      <td>...</td>\n",
       "      <td>0</td>\n",
       "      <td>0</td>\n",
       "      <td>0</td>\n",
       "      <td>0</td>\n",
       "      <td>0</td>\n",
       "      <td>0</td>\n",
       "      <td>0</td>\n",
       "      <td>0</td>\n",
       "      <td>0</td>\n",
       "      <td>0</td>\n",
       "    </tr>\n",
       "    <tr>\n",
       "      <th>Super Sucker</th>\n",
       "      <td>5</td>\n",
       "      <td>0</td>\n",
       "      <td>0</td>\n",
       "      <td>0</td>\n",
       "      <td>0</td>\n",
       "      <td>0</td>\n",
       "      <td>0</td>\n",
       "      <td>0</td>\n",
       "      <td>0</td>\n",
       "      <td>0</td>\n",
       "      <td>...</td>\n",
       "      <td>0</td>\n",
       "      <td>0</td>\n",
       "      <td>0</td>\n",
       "      <td>0</td>\n",
       "      <td>0</td>\n",
       "      <td>0</td>\n",
       "      <td>0</td>\n",
       "      <td>0</td>\n",
       "      <td>0</td>\n",
       "      <td>0</td>\n",
       "    </tr>\n",
       "    <tr>\n",
       "      <th>...</th>\n",
       "      <td>...</td>\n",
       "      <td>...</td>\n",
       "      <td>...</td>\n",
       "      <td>...</td>\n",
       "      <td>...</td>\n",
       "      <td>...</td>\n",
       "      <td>...</td>\n",
       "      <td>...</td>\n",
       "      <td>...</td>\n",
       "      <td>...</td>\n",
       "      <td>...</td>\n",
       "      <td>...</td>\n",
       "      <td>...</td>\n",
       "      <td>...</td>\n",
       "      <td>...</td>\n",
       "      <td>...</td>\n",
       "      <td>...</td>\n",
       "      <td>...</td>\n",
       "      <td>...</td>\n",
       "      <td>...</td>\n",
       "      <td>...</td>\n",
       "    </tr>\n",
       "    <tr>\n",
       "      <th>Gone Girl</th>\n",
       "      <td>0</td>\n",
       "      <td>0</td>\n",
       "      <td>0</td>\n",
       "      <td>0</td>\n",
       "      <td>0</td>\n",
       "      <td>0</td>\n",
       "      <td>0</td>\n",
       "      <td>0</td>\n",
       "      <td>0</td>\n",
       "      <td>0</td>\n",
       "      <td>...</td>\n",
       "      <td>0</td>\n",
       "      <td>0</td>\n",
       "      <td>0</td>\n",
       "      <td>0</td>\n",
       "      <td>0</td>\n",
       "      <td>0</td>\n",
       "      <td>0</td>\n",
       "      <td>0</td>\n",
       "      <td>0</td>\n",
       "      <td>0</td>\n",
       "    </tr>\n",
       "    <tr>\n",
       "      <th>Gone Dark</th>\n",
       "      <td>0</td>\n",
       "      <td>0</td>\n",
       "      <td>0</td>\n",
       "      <td>0</td>\n",
       "      <td>0</td>\n",
       "      <td>0</td>\n",
       "      <td>0</td>\n",
       "      <td>0</td>\n",
       "      <td>0</td>\n",
       "      <td>0</td>\n",
       "      <td>...</td>\n",
       "      <td>0</td>\n",
       "      <td>0</td>\n",
       "      <td>0</td>\n",
       "      <td>0</td>\n",
       "      <td>0</td>\n",
       "      <td>0</td>\n",
       "      <td>0</td>\n",
       "      <td>0</td>\n",
       "      <td>0</td>\n",
       "      <td>0</td>\n",
       "    </tr>\n",
       "    <tr>\n",
       "      <th>Gone But Not Forgotten</th>\n",
       "      <td>0</td>\n",
       "      <td>0</td>\n",
       "      <td>0</td>\n",
       "      <td>0</td>\n",
       "      <td>0</td>\n",
       "      <td>0</td>\n",
       "      <td>0</td>\n",
       "      <td>0</td>\n",
       "      <td>0</td>\n",
       "      <td>0</td>\n",
       "      <td>...</td>\n",
       "      <td>0</td>\n",
       "      <td>0</td>\n",
       "      <td>0</td>\n",
       "      <td>0</td>\n",
       "      <td>0</td>\n",
       "      <td>0</td>\n",
       "      <td>0</td>\n",
       "      <td>0</td>\n",
       "      <td>0</td>\n",
       "      <td>0</td>\n",
       "    </tr>\n",
       "    <tr>\n",
       "      <th>Gone Baby Gone</th>\n",
       "      <td>0</td>\n",
       "      <td>0</td>\n",
       "      <td>0</td>\n",
       "      <td>0</td>\n",
       "      <td>0</td>\n",
       "      <td>0</td>\n",
       "      <td>0</td>\n",
       "      <td>0</td>\n",
       "      <td>0</td>\n",
       "      <td>0</td>\n",
       "      <td>...</td>\n",
       "      <td>0</td>\n",
       "      <td>0</td>\n",
       "      <td>0</td>\n",
       "      <td>0</td>\n",
       "      <td>0</td>\n",
       "      <td>0</td>\n",
       "      <td>0</td>\n",
       "      <td>1</td>\n",
       "      <td>2</td>\n",
       "      <td>0</td>\n",
       "    </tr>\n",
       "    <tr>\n",
       "      <th>Ôkami kodomo no Ame to Yuki</th>\n",
       "      <td>0</td>\n",
       "      <td>0</td>\n",
       "      <td>0</td>\n",
       "      <td>4</td>\n",
       "      <td>0</td>\n",
       "      <td>0</td>\n",
       "      <td>0</td>\n",
       "      <td>0</td>\n",
       "      <td>0</td>\n",
       "      <td>0</td>\n",
       "      <td>...</td>\n",
       "      <td>0</td>\n",
       "      <td>0</td>\n",
       "      <td>0</td>\n",
       "      <td>0</td>\n",
       "      <td>0</td>\n",
       "      <td>0</td>\n",
       "      <td>0</td>\n",
       "      <td>0</td>\n",
       "      <td>0</td>\n",
       "      <td>0</td>\n",
       "    </tr>\n",
       "  </tbody>\n",
       "</table>\n",
       "<p>5000 rows × 2000 columns</p>\n",
       "</div>"
      ],
      "text/plain": [
       "                             0     1     2     3     4     5     6     7     \\\n",
       "Step Into Liquid                5     0     0     0     0     0     0     0   \n",
       "Art of Revenge                  5     0     0     0     0     0     0     0   \n",
       "(500) Days of Summer            5     0     0     0     0     0     0     0   \n",
       "Lord of War                     5     0     0     0     0     0     0     0   \n",
       "Super Sucker                    5     0     0     0     0     0     0     0   \n",
       "...                           ...   ...   ...   ...   ...   ...   ...   ...   \n",
       "Gone Girl                       0     0     0     0     0     0     0     0   \n",
       "Gone Dark                       0     0     0     0     0     0     0     0   \n",
       "Gone But Not Forgotten          0     0     0     0     0     0     0     0   \n",
       "Gone Baby Gone                  0     0     0     0     0     0     0     0   \n",
       "Ôkami kodomo no Ame to Yuki     0     0     0     4     0     0     0     0   \n",
       "\n",
       "                             8     9     ...  1990  1991  1992  1993  1994  \\\n",
       "Step Into Liquid                0     0  ...     0     0     0     0     0   \n",
       "Art of Revenge                  0     0  ...     0     0     0     0     0   \n",
       "(500) Days of Summer            0     0  ...     0     0     0     0     0   \n",
       "Lord of War                     0     0  ...     0     0     0     0     0   \n",
       "Super Sucker                    0     0  ...     0     0     0     0     0   \n",
       "...                           ...   ...  ...   ...   ...   ...   ...   ...   \n",
       "Gone Girl                       0     0  ...     0     0     0     0     0   \n",
       "Gone Dark                       0     0  ...     0     0     0     0     0   \n",
       "Gone But Not Forgotten          0     0  ...     0     0     0     0     0   \n",
       "Gone Baby Gone                  0     0  ...     0     0     0     0     0   \n",
       "Ôkami kodomo no Ame to Yuki     0     0  ...     0     0     0     0     0   \n",
       "\n",
       "                             1995  1996  1997  1998  1999  \n",
       "Step Into Liquid                0     0     0     0     0  \n",
       "Art of Revenge                  0     0     0     0     0  \n",
       "(500) Days of Summer            0     0     0     0     0  \n",
       "Lord of War                     0     0     0     0     0  \n",
       "Super Sucker                    0     0     0     0     0  \n",
       "...                           ...   ...   ...   ...   ...  \n",
       "Gone Girl                       0     0     0     0     0  \n",
       "Gone Dark                       0     0     0     0     0  \n",
       "Gone But Not Forgotten          0     0     0     0     0  \n",
       "Gone Baby Gone                  0     0     1     2     0  \n",
       "Ôkami kodomo no Ame to Yuki     0     0     0     0     0  \n",
       "\n",
       "[5000 rows x 2000 columns]"
      ]
     },
     "execution_count": 47,
     "metadata": {},
     "output_type": "execute_result"
    }
   ],
   "source": [
    "movieUser_df"
   ]
  },
  {
   "cell_type": "code",
   "execution_count": 48,
   "metadata": {},
   "outputs": [
    {
     "name": "stdout",
     "output_type": "stream",
     "text": [
      "True\n"
     ]
    }
   ],
   "source": [
    "if 'Avatar' in movieUser_df.index:\n",
    "    print(True)"
   ]
  },
  {
   "cell_type": "code",
   "execution_count": 49,
   "metadata": {
    "execution": {
     "iopub.execute_input": "2022-04-22T00:36:52.573829Z",
     "iopub.status.busy": "2022-04-22T00:36:52.573394Z",
     "iopub.status.idle": "2022-04-22T00:36:52.578319Z",
     "shell.execute_reply": "2022-04-22T00:36:52.577666Z",
     "shell.execute_reply.started": "2022-04-22T00:36:52.573796Z"
    }
   },
   "outputs": [],
   "source": [
    "movieUser_df[u].fillna(value=0, inplace=True)"
   ]
  },
  {
   "cell_type": "code",
   "execution_count": 50,
   "metadata": {
    "execution": {
     "iopub.execute_input": "2022-04-22T00:36:53.647710Z",
     "iopub.status.busy": "2022-04-22T00:36:53.647399Z",
     "iopub.status.idle": "2022-04-22T00:36:53.653540Z",
     "shell.execute_reply": "2022-04-22T00:36:53.652538Z",
     "shell.execute_reply.started": "2022-04-22T00:36:53.647674Z"
    }
   },
   "outputs": [],
   "source": [
    "# call the lastIndexOfTopRatedMoviesByUserX\n",
    "l = 0\n",
    "h = len(movieUser_df.columns)-1\n",
    "idx, last_coordinated_movie = lastIndexOfTopRatedMoviesByUserX(movieUser_df[u], rating, l, h)"
   ]
  },
  {
   "cell_type": "code",
   "execution_count": 51,
   "metadata": {
    "execution": {
     "iopub.execute_input": "2022-04-22T00:36:54.602392Z",
     "iopub.status.busy": "2022-04-22T00:36:54.601602Z",
     "iopub.status.idle": "2022-04-22T00:36:54.607913Z",
     "shell.execute_reply": "2022-04-22T00:36:54.607062Z",
     "shell.execute_reply.started": "2022-04-22T00:36:54.602345Z"
    }
   },
   "outputs": [
    {
     "name": "stdout",
     "output_type": "stream",
     "text": [
      "the index of last highly rated movie by the user-X:  35\n",
      "the name of last highly rated movie by the user-X:  Tom and Jerry: The Fast and the Furry\n"
     ]
    }
   ],
   "source": [
    "print(\"the index of last highly rated movie by the user-X: \", idx)\n",
    "print(\"the name of last highly rated movie by the user-X: \", last_coordinated_movie)"
   ]
  },
  {
   "cell_type": "code",
   "execution_count": 52,
   "metadata": {
    "execution": {
     "iopub.execute_input": "2022-04-22T00:36:57.419354Z",
     "iopub.status.busy": "2022-04-22T00:36:57.418942Z",
     "iopub.status.idle": "2022-04-22T00:36:57.424269Z",
     "shell.execute_reply": "2022-04-22T00:36:57.423503Z",
     "shell.execute_reply.started": "2022-04-22T00:36:57.419322Z"
    }
   },
   "outputs": [
    {
     "data": {
      "text/plain": [
       "'Tom and Jerry: The Fast and the Furry'"
      ]
     },
     "execution_count": 52,
     "metadata": {},
     "output_type": "execute_result"
    }
   ],
   "source": [
    "# verify the name of the movie received\n",
    "\n",
    "movieUser_df[0].index[idx]"
   ]
  },
  {
   "cell_type": "code",
   "execution_count": 53,
   "metadata": {
    "execution": {
     "iopub.execute_input": "2022-04-22T00:36:59.307974Z",
     "iopub.status.busy": "2022-04-22T00:36:59.306713Z",
     "iopub.status.idle": "2022-04-22T00:36:59.313908Z",
     "shell.execute_reply": "2022-04-22T00:36:59.313054Z",
     "shell.execute_reply.started": "2022-04-22T00:36:59.307914Z"
    }
   },
   "outputs": [
    {
     "data": {
      "text/plain": [
       "4"
      ]
     },
     "execution_count": 53,
     "metadata": {},
     "output_type": "execute_result"
    }
   ],
   "source": [
    "movieUser_df[0][idx]"
   ]
  },
  {
   "cell_type": "code",
   "execution_count": 54,
   "metadata": {
    "execution": {
     "iopub.execute_input": "2022-04-22T00:37:00.593590Z",
     "iopub.status.busy": "2022-04-22T00:37:00.593281Z",
     "iopub.status.idle": "2022-04-22T00:37:00.600092Z",
     "shell.execute_reply": "2022-04-22T00:37:00.599255Z",
     "shell.execute_reply.started": "2022-04-22T00:37:00.593552Z"
    }
   },
   "outputs": [
    {
     "data": {
      "text/plain": [
       "3"
      ]
     },
     "execution_count": 54,
     "metadata": {},
     "output_type": "execute_result"
    }
   ],
   "source": [
    "movieUser_df[0][idx+1]"
   ]
  },
  {
   "cell_type": "code",
   "execution_count": 55,
   "metadata": {
    "execution": {
     "iopub.execute_input": "2022-04-22T00:37:01.663573Z",
     "iopub.status.busy": "2022-04-22T00:37:01.662802Z",
     "iopub.status.idle": "2022-04-22T00:37:01.667080Z",
     "shell.execute_reply": "2022-04-22T00:37:01.666184Z",
     "shell.execute_reply.started": "2022-04-22T00:37:01.663532Z"
    }
   },
   "outputs": [],
   "source": [
    "# Hence the calculation is correct"
   ]
  },
  {
   "cell_type": "markdown",
   "metadata": {},
   "source": [
    "# ***7. Recommendation code returning a list of movies***"
   ]
  },
  {
   "cell_type": "code",
   "execution_count": 56,
   "metadata": {
    "execution": {
     "iopub.execute_input": "2022-04-22T00:37:03.657993Z",
     "iopub.status.busy": "2022-04-22T00:37:03.657186Z",
     "iopub.status.idle": "2022-04-22T00:37:03.663394Z",
     "shell.execute_reply": "2022-04-22T00:37:03.662404Z",
     "shell.execute_reply.started": "2022-04-22T00:37:03.657945Z"
    }
   },
   "outputs": [],
   "source": [
    "# Helper function to return whether the movie is rated or not to avoid recommending already rated movie\n",
    "\n",
    "def isRated(movie_name):\n",
    "    if movieUser_df[u][movie_name] > 0:\n",
    "        return True\n",
    "    return False"
   ]
  },
  {
   "cell_type": "code",
   "execution_count": 57,
   "metadata": {
    "execution": {
     "iopub.execute_input": "2022-04-22T00:38:54.260182Z",
     "iopub.status.busy": "2022-04-22T00:38:54.259853Z",
     "iopub.status.idle": "2022-04-22T00:38:54.273357Z",
     "shell.execute_reply": "2022-04-22T00:38:54.272632Z",
     "shell.execute_reply.started": "2022-04-22T00:38:54.260147Z"
    }
   },
   "outputs": [],
   "source": [
    "# This function returns:-\n",
    "# 1. the recommended movie list\n",
    "# 2. the year of the movie in year sorted yearMovie_df OR, the year of last_coordinated_movie for verification\n",
    "\n",
    "def recommendMovies(u, n, idx, last_coordinated_movie, yearMovie_df_array):\n",
    "    movie_list = []\n",
    "    pivot_movie_idx = -1\n",
    "    pivot_movie_year = -1\n",
    "    for i in range(len(yearMovie_df_array)):\n",
    "        j = len(yearMovie_df_array) - i - 1\n",
    "        if(yearMovie_df_array[i][0] == last_coordinated_movie):\n",
    "            pivot_movie_idx = i\n",
    "            pivot_movie_year = yearMovie_df_array[i][1]\n",
    "            print(yearMovie_df_array[i][0])\n",
    "            break\n",
    "        if(yearMovie_df_array[j][0] == last_coordinated_movie):\n",
    "            pivot_movie_idx = j\n",
    "            pivot_movie_year = yearMovie_df_array[j][1]\n",
    "            print(yearMovie_df_array[j][0])\n",
    "            break\n",
    "            \n",
    "    \n",
    "    # store closest movies greater than or equal to current year \n",
    "    right_movie_cnt = 0\n",
    "    right_starter_idx = pivot_movie_idx + 1\n",
    "    while right_movie_cnt < n:\n",
    "        if(right_starter_idx > len(yearMovie_df_array)-1):\n",
    "            break\n",
    "            \n",
    "        if(isRated(yearMovie_df_array[right_starter_idx][0]) == False):\n",
    "            \n",
    "            movie_list.append( (yearMovie_df_array[right_starter_idx][0], yearMovie_df_array[right_starter_idx][1]) )\n",
    "            right_movie_cnt += 1\n",
    "            \n",
    "        right_starter_idx += 1\n",
    "            \n",
    "            \n",
    "    \n",
    "    # store closest movies less than or equal to current year \n",
    "    left_movie_cnt = 0\n",
    "    left_starter_idx = pivot_movie_idx - 1\n",
    "    while left_movie_cnt < n:\n",
    "        if(left_starter_idx == 0):\n",
    "            break\n",
    "            \n",
    "        if(isRated(yearMovie_df_array[left_starter_idx][0]) == False):\n",
    "            \n",
    "            movie_list.append( (yearMovie_df_array[left_starter_idx][0], yearMovie_df_array[left_starter_idx][1]) )\n",
    "            left_movie_cnt += 1\n",
    "        \n",
    "        left_starter_idx -= 1\n",
    "        \n",
    "            \n",
    "    return movie_list, pivot_movie_year"
   ]
  },
  {
   "cell_type": "code",
   "execution_count": 58,
   "metadata": {
    "execution": {
     "iopub.execute_input": "2022-04-22T00:37:04.980084Z",
     "iopub.status.busy": "2022-04-22T00:37:04.979260Z",
     "iopub.status.idle": "2022-04-22T00:37:04.985333Z",
     "shell.execute_reply": "2022-04-22T00:37:04.984208Z",
     "shell.execute_reply.started": "2022-04-22T00:37:04.980031Z"
    }
   },
   "outputs": [],
   "source": [
    "# convert yearMovie_df -> numpy array\n",
    "\n",
    "yearMovie_df_array = yearMovie_df.to_numpy()"
   ]
  },
  {
   "cell_type": "code",
   "execution_count": 59,
   "metadata": {
    "execution": {
     "iopub.execute_input": "2022-04-22T00:37:05.483498Z",
     "iopub.status.busy": "2022-04-22T00:37:05.482844Z",
     "iopub.status.idle": "2022-04-22T00:37:05.489644Z",
     "shell.execute_reply": "2022-04-22T00:37:05.488689Z",
     "shell.execute_reply.started": "2022-04-22T00:37:05.483424Z"
    }
   },
   "outputs": [
    {
     "data": {
      "text/plain": [
       "5000"
      ]
     },
     "execution_count": 59,
     "metadata": {},
     "output_type": "execute_result"
    }
   ],
   "source": [
    "len(yearMovie_df_array)"
   ]
  },
  {
   "cell_type": "code",
   "execution_count": 60,
   "metadata": {
    "execution": {
     "iopub.execute_input": "2022-04-22T00:37:05.981527Z",
     "iopub.status.busy": "2022-04-22T00:37:05.980624Z",
     "iopub.status.idle": "2022-04-22T00:37:05.988757Z",
     "shell.execute_reply": "2022-04-22T00:37:05.987823Z",
     "shell.execute_reply.started": "2022-04-22T00:37:05.981465Z"
    }
   },
   "outputs": [
    {
     "data": {
      "text/plain": [
       "array([['The North Face Expeditions: Everest and Bonus Footage', 2001, 0],\n",
       "       ['Gaudi Afternoon', 2001, 1],\n",
       "       [\"A Woman's a Helluva Thing\", 2001, 2],\n",
       "       ...,\n",
       "       ['Soorarai Pottru', 2020, 4997],\n",
       "       ['Hamilton', 2020, 4998],\n",
       "       ['Druk', 2020, 4999]], dtype=object)"
      ]
     },
     "execution_count": 60,
     "metadata": {},
     "output_type": "execute_result"
    }
   ],
   "source": [
    "yearMovie_df_array"
   ]
  },
  {
   "cell_type": "code",
   "execution_count": 61,
   "metadata": {
    "execution": {
     "iopub.execute_input": "2022-04-22T00:37:06.452511Z",
     "iopub.status.busy": "2022-04-22T00:37:06.451925Z",
     "iopub.status.idle": "2022-04-22T00:37:06.455698Z",
     "shell.execute_reply": "2022-04-22T00:37:06.455010Z",
     "shell.execute_reply.started": "2022-04-22T00:37:06.452460Z"
    }
   },
   "outputs": [],
   "source": [
    "# movieUser_df[0]['Hamilton']"
   ]
  },
  {
   "cell_type": "code",
   "execution_count": 62,
   "metadata": {
    "execution": {
     "iopub.execute_input": "2022-04-22T00:39:00.240961Z",
     "iopub.status.busy": "2022-04-22T00:39:00.240313Z",
     "iopub.status.idle": "2022-04-22T00:39:00.254465Z",
     "shell.execute_reply": "2022-04-22T00:39:00.253329Z",
     "shell.execute_reply.started": "2022-04-22T00:39:00.240915Z"
    }
   },
   "outputs": [
    {
     "name": "stdout",
     "output_type": "stream",
     "text": [
      "Tom and Jerry: The Fast and the Furry\n"
     ]
    }
   ],
   "source": [
    "# idx variable contains the last index of highest valued rating\n",
    "# last_coordinated_movie contains the name of the last highly rated movie by user-X\n",
    "# pivot_movie_year = the year of movie obtained as last_coordinated_movie\n",
    "\n",
    "recommendations, pivot_movie_year = recommendMovies(u, n, idx, last_coordinated_movie, yearMovie_df_array)"
   ]
  },
  {
   "cell_type": "code",
   "execution_count": 63,
   "metadata": {
    "execution": {
     "iopub.execute_input": "2022-04-22T00:39:01.714899Z",
     "iopub.status.busy": "2022-04-22T00:39:01.714623Z",
     "iopub.status.idle": "2022-04-22T00:39:01.751242Z",
     "shell.execute_reply": "2022-04-22T00:39:01.750392Z",
     "shell.execute_reply.started": "2022-04-22T00:39:01.714870Z"
    }
   },
   "outputs": [
    {
     "data": {
      "text/plain": [
       "[('The Perfect Neighbor', 2005),\n",
       " (\"Who's Your Daddy\", 2005),\n",
       " ('The Fallen Ones', 2005)]"
      ]
     },
     "execution_count": 63,
     "metadata": {},
     "output_type": "execute_result"
    }
   ],
   "source": [
    "recommendations[:3]"
   ]
  },
  {
   "cell_type": "code",
   "execution_count": 64,
   "metadata": {
    "execution": {
     "iopub.execute_input": "2022-04-22T00:39:10.797842Z",
     "iopub.status.busy": "2022-04-22T00:39:10.797374Z",
     "iopub.status.idle": "2022-04-22T00:39:10.802633Z",
     "shell.execute_reply": "2022-04-22T00:39:10.801869Z",
     "shell.execute_reply.started": "2022-04-22T00:39:10.797800Z"
    }
   },
   "outputs": [
    {
     "data": {
      "text/plain": [
       "2005"
      ]
     },
     "execution_count": 64,
     "metadata": {},
     "output_type": "execute_result"
    }
   ],
   "source": [
    "# validate the year of obtained movie with obve recommended movies\n",
    "pivot_movie_year\n",
    "\n",
    "# the movie year which was predicted for the selected user it is recommending the movies closest to this year \n",
    "# and here it is verified"
   ]
  },
  {
   "cell_type": "code",
   "execution_count": 65,
   "metadata": {
    "execution": {
     "iopub.execute_input": "2022-04-22T00:39:22.080211Z",
     "iopub.status.busy": "2022-04-22T00:39:22.079550Z",
     "iopub.status.idle": "2022-04-22T00:39:22.086877Z",
     "shell.execute_reply": "2022-04-22T00:39:22.086006Z",
     "shell.execute_reply.started": "2022-04-22T00:39:22.080168Z"
    }
   },
   "outputs": [
    {
     "data": {
      "text/plain": [
       "0"
      ]
     },
     "execution_count": 65,
     "metadata": {},
     "output_type": "execute_result"
    }
   ],
   "source": [
    "# Here is the important part\n",
    "# we can verify that all the recommendations above are \"NON-RATED\"\n",
    "# if the rating value in movieUser_df = 0 of any user 'u' (for any movie above) \n",
    "# then that must mean the movie is of course NON-RATED\n",
    "\n",
    "movieUser_df[u]['Jay-Z: Fade to Black']"
   ]
  },
  {
   "cell_type": "code",
   "execution_count": 66,
   "metadata": {},
   "outputs": [
    {
     "data": {
      "text/plain": [
       "0"
      ]
     },
     "execution_count": 66,
     "metadata": {},
     "output_type": "execute_result"
    }
   ],
   "source": [
    "# verify the recommendations are unrater\n",
    "\n",
    "movieUser_df[u]['Jay-Z: Fade to Black']"
   ]
  },
  {
   "cell_type": "code",
   "execution_count": null,
   "metadata": {},
   "outputs": [],
   "source": []
  }
 ],
 "metadata": {
  "kernelspec": {
   "display_name": "Python 3 (ipykernel)",
   "language": "python",
   "name": "python3"
  },
  "language_info": {
   "codemirror_mode": {
    "name": "ipython",
    "version": 3
   },
   "file_extension": ".py",
   "mimetype": "text/x-python",
   "name": "python",
   "nbconvert_exporter": "python",
   "pygments_lexer": "ipython3",
   "version": "3.9.1"
  }
 },
 "nbformat": 4,
 "nbformat_minor": 4
}
